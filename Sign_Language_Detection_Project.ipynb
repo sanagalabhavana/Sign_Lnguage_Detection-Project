{
  "nbformat": 4,
  "nbformat_minor": 0,
  "metadata": {
    "colab": {
      "provenance": []
    },
    "kernelspec": {
      "name": "python3",
      "display_name": "Python 3"
    }
  },
  "cells": [
    {
      "cell_type": "markdown",
      "metadata": {
        "id": "view-in-github"
      },
      "source": [
        "<a href=\"https://colab.research.google.com/github/moniccpratiwi/sign-language-classification/blob/master/MLCC_Project.ipynb\" target=\"_parent\"><img src=\"https://colab.research.google.com/assets/colab-badge.svg\" alt=\"Open In Colab\"/></a>"
      ]
    },
    {
      "cell_type": "markdown",
      "metadata": {
        "id": "f4ylb3rwV3Wq"
      },
      "source": [
        "**SIGN LANGUAGE MNIST CLASSIFICATION**\n",
        "---\n",
        "\n",
        "\n",
        "---\n",
        "\n",
        "**About the Data**\n",
        "\n",
        "The original MNIST image dataset of handwritten digits is a popular benchmark for image-based machine learning methods but researchers have renewed efforts to update it and develop drop-in replacements that are more challenging for computer vision and original for real-world applications. As noted in one recent replacement called the Fashion-MNIST dataset, the Zalando researchers quoted the startling claim that \"Most pairs of MNIST digits (784 total pixels per sample) can be distinguished pretty well by just one pixel\". To stimulate the community to develop more drop-in replacements, the Sign Language MNIST is presented here and follows the same CSV format with labels and pixel values in single rows. The American Sign Language letter database of hand gestures represent a multi-class problem with 24 classes of letters (excluding J and Z which require motion).\n",
        "\n",
        "**Kaggle Link :** [Sign-language-mnist](https://www.kaggle.com/datamunge/sign-language-mnist)\n",
        "\n",
        "**Goal :** Classification sign language mnist (a-y alphabet)\n",
        "\n",
        "**Dataset   :** Dataset is given in the form of labels and pixel value from pixel 1 to pixel 784 so the image size is 28 * 28.\n",
        "\n",
        "**Model   :** Convolutional Neural Network (CNN)"
      ]
    },
    {
      "cell_type": "markdown",
      "metadata": {
        "id": "VGBvJoGgWhxH"
      },
      "source": [
        "## Preprocessing Data"
      ]
    },
    {
      "cell_type": "markdown",
      "metadata": {
        "id": "2BAPfX1FtRlP"
      },
      "source": [
        "**1. Import Library**"
      ]
    },
    {
      "cell_type": "code",
      "metadata": {
        "id": "nN_TYJpStOid"
      },
      "source": [
        "import numpy as np\n",
        "import pandas as pd\n",
        "from matplotlib import pyplot as plt\n",
        "import seaborn as sns\n",
        "from sklearn.preprocessing import LabelBinarizer\n",
        "from sklearn.model_selection import train_test_split\n",
        "from sklearn.metrics import accuracy_score\n",
        "from tensorflow.keras.preprocessing.image import ImageDataGenerator\n",
        "from tensorflow.python.keras.layers import Dense, Conv2D, MaxPooling2D, Flatten, Dropout\n",
        "from tensorflow.python.keras import Sequential"
      ],
      "execution_count": null,
      "outputs": []
    },
    {
      "cell_type": "markdown",
      "metadata": {
        "id": "WQ_laXRTnTWk"
      },
      "source": [
        "**2. Mount google drive to google colab**"
      ]
    },
    {
      "cell_type": "code",
      "metadata": {
        "id": "mnkXD_7Ci213"
      },
      "source": [
        "from google.colab import drive\n",
        "drive.mount('/content/drive')"
      ],
      "execution_count": null,
      "outputs": []
    },
    {
      "cell_type": "markdown",
      "metadata": {
        "id": "ZmXa4WEKnacq"
      },
      "source": [
        "**3. Change directory to google drive folder (sign-language MLCC) to save the model in cloud folder**"
      ]
    },
    {
      "cell_type": "code",
      "metadata": {
        "id": "th0y36CgjZ8k"
      },
      "source": [
        "%cd drive/My Drive"
      ],
      "execution_count": null,
      "outputs": []
    },
    {
      "cell_type": "markdown",
      "metadata": {
        "id": "huufD4GYoHm7"
      },
      "source": [
        "**4. Read CSV file from dataset using pandas. And save to new variable**"
      ]
    },
    {
      "cell_type": "code",
      "metadata": {
        "id": "9_EKFlXf_BDL"
      },
      "source": [
        "#Train Dataset\n",
        "train = pd.read_csv('/content/drive/My Drive/sign_mnist_train.csv')\n",
        "#Test Dataset\n",
        "test = pd.read_csv('/content/drive/My Drive/sign_mnist_test.csv')"
      ],
      "execution_count": null,
      "outputs": []
    },
    {
      "cell_type": "code",
      "metadata": {
        "id": "8vTc-O5xkEFC",
        "outputId": "a63ca880-c4d3-48e4-e37e-d0723043d71b",
        "colab": {
          "base_uri": "https://localhost:8080/",
          "height": 422
        }
      },
      "source": [
        "#Read the dataset\n",
        "display(train)"
      ],
      "execution_count": null,
      "outputs": [
        {
          "output_type": "display_data",
          "data": {
            "text/html": [
              "<div>\n",
              "<style scoped>\n",
              "    .dataframe tbody tr th:only-of-type {\n",
              "        vertical-align: middle;\n",
              "    }\n",
              "\n",
              "    .dataframe tbody tr th {\n",
              "        vertical-align: top;\n",
              "    }\n",
              "\n",
              "    .dataframe thead th {\n",
              "        text-align: right;\n",
              "    }\n",
              "</style>\n",
              "<table border=\"1\" class=\"dataframe\">\n",
              "  <thead>\n",
              "    <tr style=\"text-align: right;\">\n",
              "      <th></th>\n",
              "      <th>label</th>\n",
              "      <th>pixel1</th>\n",
              "      <th>pixel2</th>\n",
              "      <th>pixel3</th>\n",
              "      <th>pixel4</th>\n",
              "      <th>pixel5</th>\n",
              "      <th>pixel6</th>\n",
              "      <th>pixel7</th>\n",
              "      <th>pixel8</th>\n",
              "      <th>pixel9</th>\n",
              "      <th>pixel10</th>\n",
              "      <th>pixel11</th>\n",
              "      <th>pixel12</th>\n",
              "      <th>pixel13</th>\n",
              "      <th>pixel14</th>\n",
              "      <th>pixel15</th>\n",
              "      <th>pixel16</th>\n",
              "      <th>pixel17</th>\n",
              "      <th>pixel18</th>\n",
              "      <th>pixel19</th>\n",
              "      <th>pixel20</th>\n",
              "      <th>pixel21</th>\n",
              "      <th>pixel22</th>\n",
              "      <th>pixel23</th>\n",
              "      <th>pixel24</th>\n",
              "      <th>pixel25</th>\n",
              "      <th>pixel26</th>\n",
              "      <th>pixel27</th>\n",
              "      <th>pixel28</th>\n",
              "      <th>pixel29</th>\n",
              "      <th>pixel30</th>\n",
              "      <th>pixel31</th>\n",
              "      <th>pixel32</th>\n",
              "      <th>pixel33</th>\n",
              "      <th>pixel34</th>\n",
              "      <th>pixel35</th>\n",
              "      <th>pixel36</th>\n",
              "      <th>pixel37</th>\n",
              "      <th>pixel38</th>\n",
              "      <th>pixel39</th>\n",
              "      <th>...</th>\n",
              "      <th>pixel745</th>\n",
              "      <th>pixel746</th>\n",
              "      <th>pixel747</th>\n",
              "      <th>pixel748</th>\n",
              "      <th>pixel749</th>\n",
              "      <th>pixel750</th>\n",
              "      <th>pixel751</th>\n",
              "      <th>pixel752</th>\n",
              "      <th>pixel753</th>\n",
              "      <th>pixel754</th>\n",
              "      <th>pixel755</th>\n",
              "      <th>pixel756</th>\n",
              "      <th>pixel757</th>\n",
              "      <th>pixel758</th>\n",
              "      <th>pixel759</th>\n",
              "      <th>pixel760</th>\n",
              "      <th>pixel761</th>\n",
              "      <th>pixel762</th>\n",
              "      <th>pixel763</th>\n",
              "      <th>pixel764</th>\n",
              "      <th>pixel765</th>\n",
              "      <th>pixel766</th>\n",
              "      <th>pixel767</th>\n",
              "      <th>pixel768</th>\n",
              "      <th>pixel769</th>\n",
              "      <th>pixel770</th>\n",
              "      <th>pixel771</th>\n",
              "      <th>pixel772</th>\n",
              "      <th>pixel773</th>\n",
              "      <th>pixel774</th>\n",
              "      <th>pixel775</th>\n",
              "      <th>pixel776</th>\n",
              "      <th>pixel777</th>\n",
              "      <th>pixel778</th>\n",
              "      <th>pixel779</th>\n",
              "      <th>pixel780</th>\n",
              "      <th>pixel781</th>\n",
              "      <th>pixel782</th>\n",
              "      <th>pixel783</th>\n",
              "      <th>pixel784</th>\n",
              "    </tr>\n",
              "  </thead>\n",
              "  <tbody>\n",
              "    <tr>\n",
              "      <th>0</th>\n",
              "      <td>3</td>\n",
              "      <td>107</td>\n",
              "      <td>118</td>\n",
              "      <td>127</td>\n",
              "      <td>134</td>\n",
              "      <td>139</td>\n",
              "      <td>143</td>\n",
              "      <td>146</td>\n",
              "      <td>150</td>\n",
              "      <td>153</td>\n",
              "      <td>156</td>\n",
              "      <td>158</td>\n",
              "      <td>160</td>\n",
              "      <td>163</td>\n",
              "      <td>165</td>\n",
              "      <td>159</td>\n",
              "      <td>166</td>\n",
              "      <td>168</td>\n",
              "      <td>170</td>\n",
              "      <td>170</td>\n",
              "      <td>171</td>\n",
              "      <td>171</td>\n",
              "      <td>171</td>\n",
              "      <td>172</td>\n",
              "      <td>171</td>\n",
              "      <td>171</td>\n",
              "      <td>170</td>\n",
              "      <td>170</td>\n",
              "      <td>169</td>\n",
              "      <td>111</td>\n",
              "      <td>121</td>\n",
              "      <td>129</td>\n",
              "      <td>135</td>\n",
              "      <td>141</td>\n",
              "      <td>144</td>\n",
              "      <td>148</td>\n",
              "      <td>151</td>\n",
              "      <td>154</td>\n",
              "      <td>157</td>\n",
              "      <td>160</td>\n",
              "      <td>...</td>\n",
              "      <td>205</td>\n",
              "      <td>206</td>\n",
              "      <td>206</td>\n",
              "      <td>207</td>\n",
              "      <td>207</td>\n",
              "      <td>206</td>\n",
              "      <td>206</td>\n",
              "      <td>204</td>\n",
              "      <td>205</td>\n",
              "      <td>204</td>\n",
              "      <td>203</td>\n",
              "      <td>202</td>\n",
              "      <td>142</td>\n",
              "      <td>151</td>\n",
              "      <td>160</td>\n",
              "      <td>172</td>\n",
              "      <td>196</td>\n",
              "      <td>188</td>\n",
              "      <td>188</td>\n",
              "      <td>190</td>\n",
              "      <td>135</td>\n",
              "      <td>96</td>\n",
              "      <td>86</td>\n",
              "      <td>77</td>\n",
              "      <td>77</td>\n",
              "      <td>79</td>\n",
              "      <td>176</td>\n",
              "      <td>205</td>\n",
              "      <td>207</td>\n",
              "      <td>207</td>\n",
              "      <td>207</td>\n",
              "      <td>207</td>\n",
              "      <td>207</td>\n",
              "      <td>207</td>\n",
              "      <td>206</td>\n",
              "      <td>206</td>\n",
              "      <td>206</td>\n",
              "      <td>204</td>\n",
              "      <td>203</td>\n",
              "      <td>202</td>\n",
              "    </tr>\n",
              "    <tr>\n",
              "      <th>1</th>\n",
              "      <td>6</td>\n",
              "      <td>155</td>\n",
              "      <td>157</td>\n",
              "      <td>156</td>\n",
              "      <td>156</td>\n",
              "      <td>156</td>\n",
              "      <td>157</td>\n",
              "      <td>156</td>\n",
              "      <td>158</td>\n",
              "      <td>158</td>\n",
              "      <td>157</td>\n",
              "      <td>158</td>\n",
              "      <td>156</td>\n",
              "      <td>154</td>\n",
              "      <td>154</td>\n",
              "      <td>153</td>\n",
              "      <td>152</td>\n",
              "      <td>151</td>\n",
              "      <td>149</td>\n",
              "      <td>149</td>\n",
              "      <td>148</td>\n",
              "      <td>147</td>\n",
              "      <td>146</td>\n",
              "      <td>144</td>\n",
              "      <td>142</td>\n",
              "      <td>143</td>\n",
              "      <td>138</td>\n",
              "      <td>92</td>\n",
              "      <td>108</td>\n",
              "      <td>158</td>\n",
              "      <td>159</td>\n",
              "      <td>159</td>\n",
              "      <td>159</td>\n",
              "      <td>160</td>\n",
              "      <td>160</td>\n",
              "      <td>160</td>\n",
              "      <td>160</td>\n",
              "      <td>160</td>\n",
              "      <td>160</td>\n",
              "      <td>160</td>\n",
              "      <td>...</td>\n",
              "      <td>100</td>\n",
              "      <td>78</td>\n",
              "      <td>120</td>\n",
              "      <td>157</td>\n",
              "      <td>168</td>\n",
              "      <td>107</td>\n",
              "      <td>99</td>\n",
              "      <td>121</td>\n",
              "      <td>133</td>\n",
              "      <td>97</td>\n",
              "      <td>95</td>\n",
              "      <td>120</td>\n",
              "      <td>135</td>\n",
              "      <td>116</td>\n",
              "      <td>95</td>\n",
              "      <td>79</td>\n",
              "      <td>69</td>\n",
              "      <td>86</td>\n",
              "      <td>139</td>\n",
              "      <td>173</td>\n",
              "      <td>200</td>\n",
              "      <td>185</td>\n",
              "      <td>175</td>\n",
              "      <td>198</td>\n",
              "      <td>124</td>\n",
              "      <td>118</td>\n",
              "      <td>94</td>\n",
              "      <td>140</td>\n",
              "      <td>133</td>\n",
              "      <td>84</td>\n",
              "      <td>69</td>\n",
              "      <td>149</td>\n",
              "      <td>128</td>\n",
              "      <td>87</td>\n",
              "      <td>94</td>\n",
              "      <td>163</td>\n",
              "      <td>175</td>\n",
              "      <td>103</td>\n",
              "      <td>135</td>\n",
              "      <td>149</td>\n",
              "    </tr>\n",
              "    <tr>\n",
              "      <th>2</th>\n",
              "      <td>2</td>\n",
              "      <td>187</td>\n",
              "      <td>188</td>\n",
              "      <td>188</td>\n",
              "      <td>187</td>\n",
              "      <td>187</td>\n",
              "      <td>186</td>\n",
              "      <td>187</td>\n",
              "      <td>188</td>\n",
              "      <td>187</td>\n",
              "      <td>186</td>\n",
              "      <td>185</td>\n",
              "      <td>185</td>\n",
              "      <td>185</td>\n",
              "      <td>184</td>\n",
              "      <td>184</td>\n",
              "      <td>184</td>\n",
              "      <td>181</td>\n",
              "      <td>181</td>\n",
              "      <td>179</td>\n",
              "      <td>179</td>\n",
              "      <td>179</td>\n",
              "      <td>178</td>\n",
              "      <td>178</td>\n",
              "      <td>109</td>\n",
              "      <td>52</td>\n",
              "      <td>66</td>\n",
              "      <td>77</td>\n",
              "      <td>83</td>\n",
              "      <td>188</td>\n",
              "      <td>189</td>\n",
              "      <td>189</td>\n",
              "      <td>188</td>\n",
              "      <td>188</td>\n",
              "      <td>189</td>\n",
              "      <td>188</td>\n",
              "      <td>188</td>\n",
              "      <td>188</td>\n",
              "      <td>188</td>\n",
              "      <td>187</td>\n",
              "      <td>...</td>\n",
              "      <td>203</td>\n",
              "      <td>204</td>\n",
              "      <td>203</td>\n",
              "      <td>201</td>\n",
              "      <td>200</td>\n",
              "      <td>200</td>\n",
              "      <td>199</td>\n",
              "      <td>198</td>\n",
              "      <td>196</td>\n",
              "      <td>195</td>\n",
              "      <td>194</td>\n",
              "      <td>193</td>\n",
              "      <td>198</td>\n",
              "      <td>166</td>\n",
              "      <td>132</td>\n",
              "      <td>114</td>\n",
              "      <td>89</td>\n",
              "      <td>74</td>\n",
              "      <td>79</td>\n",
              "      <td>77</td>\n",
              "      <td>74</td>\n",
              "      <td>78</td>\n",
              "      <td>132</td>\n",
              "      <td>188</td>\n",
              "      <td>210</td>\n",
              "      <td>209</td>\n",
              "      <td>206</td>\n",
              "      <td>205</td>\n",
              "      <td>204</td>\n",
              "      <td>203</td>\n",
              "      <td>202</td>\n",
              "      <td>201</td>\n",
              "      <td>200</td>\n",
              "      <td>199</td>\n",
              "      <td>198</td>\n",
              "      <td>199</td>\n",
              "      <td>198</td>\n",
              "      <td>195</td>\n",
              "      <td>194</td>\n",
              "      <td>195</td>\n",
              "    </tr>\n",
              "    <tr>\n",
              "      <th>3</th>\n",
              "      <td>2</td>\n",
              "      <td>211</td>\n",
              "      <td>211</td>\n",
              "      <td>212</td>\n",
              "      <td>212</td>\n",
              "      <td>211</td>\n",
              "      <td>210</td>\n",
              "      <td>211</td>\n",
              "      <td>210</td>\n",
              "      <td>210</td>\n",
              "      <td>211</td>\n",
              "      <td>209</td>\n",
              "      <td>207</td>\n",
              "      <td>208</td>\n",
              "      <td>207</td>\n",
              "      <td>206</td>\n",
              "      <td>203</td>\n",
              "      <td>202</td>\n",
              "      <td>201</td>\n",
              "      <td>200</td>\n",
              "      <td>198</td>\n",
              "      <td>197</td>\n",
              "      <td>195</td>\n",
              "      <td>192</td>\n",
              "      <td>197</td>\n",
              "      <td>171</td>\n",
              "      <td>51</td>\n",
              "      <td>52</td>\n",
              "      <td>54</td>\n",
              "      <td>212</td>\n",
              "      <td>213</td>\n",
              "      <td>215</td>\n",
              "      <td>215</td>\n",
              "      <td>212</td>\n",
              "      <td>212</td>\n",
              "      <td>213</td>\n",
              "      <td>212</td>\n",
              "      <td>212</td>\n",
              "      <td>211</td>\n",
              "      <td>211</td>\n",
              "      <td>...</td>\n",
              "      <td>247</td>\n",
              "      <td>242</td>\n",
              "      <td>233</td>\n",
              "      <td>231</td>\n",
              "      <td>230</td>\n",
              "      <td>229</td>\n",
              "      <td>227</td>\n",
              "      <td>225</td>\n",
              "      <td>223</td>\n",
              "      <td>221</td>\n",
              "      <td>220</td>\n",
              "      <td>216</td>\n",
              "      <td>58</td>\n",
              "      <td>51</td>\n",
              "      <td>49</td>\n",
              "      <td>50</td>\n",
              "      <td>57</td>\n",
              "      <td>60</td>\n",
              "      <td>17</td>\n",
              "      <td>15</td>\n",
              "      <td>18</td>\n",
              "      <td>17</td>\n",
              "      <td>19</td>\n",
              "      <td>1</td>\n",
              "      <td>159</td>\n",
              "      <td>255</td>\n",
              "      <td>237</td>\n",
              "      <td>239</td>\n",
              "      <td>237</td>\n",
              "      <td>236</td>\n",
              "      <td>235</td>\n",
              "      <td>234</td>\n",
              "      <td>233</td>\n",
              "      <td>231</td>\n",
              "      <td>230</td>\n",
              "      <td>226</td>\n",
              "      <td>225</td>\n",
              "      <td>222</td>\n",
              "      <td>229</td>\n",
              "      <td>163</td>\n",
              "    </tr>\n",
              "    <tr>\n",
              "      <th>4</th>\n",
              "      <td>13</td>\n",
              "      <td>164</td>\n",
              "      <td>167</td>\n",
              "      <td>170</td>\n",
              "      <td>172</td>\n",
              "      <td>176</td>\n",
              "      <td>179</td>\n",
              "      <td>180</td>\n",
              "      <td>184</td>\n",
              "      <td>185</td>\n",
              "      <td>186</td>\n",
              "      <td>188</td>\n",
              "      <td>189</td>\n",
              "      <td>189</td>\n",
              "      <td>190</td>\n",
              "      <td>191</td>\n",
              "      <td>189</td>\n",
              "      <td>190</td>\n",
              "      <td>190</td>\n",
              "      <td>187</td>\n",
              "      <td>190</td>\n",
              "      <td>192</td>\n",
              "      <td>193</td>\n",
              "      <td>191</td>\n",
              "      <td>191</td>\n",
              "      <td>192</td>\n",
              "      <td>192</td>\n",
              "      <td>194</td>\n",
              "      <td>194</td>\n",
              "      <td>166</td>\n",
              "      <td>169</td>\n",
              "      <td>172</td>\n",
              "      <td>174</td>\n",
              "      <td>177</td>\n",
              "      <td>180</td>\n",
              "      <td>182</td>\n",
              "      <td>185</td>\n",
              "      <td>186</td>\n",
              "      <td>187</td>\n",
              "      <td>190</td>\n",
              "      <td>...</td>\n",
              "      <td>90</td>\n",
              "      <td>77</td>\n",
              "      <td>88</td>\n",
              "      <td>117</td>\n",
              "      <td>123</td>\n",
              "      <td>127</td>\n",
              "      <td>129</td>\n",
              "      <td>134</td>\n",
              "      <td>145</td>\n",
              "      <td>152</td>\n",
              "      <td>156</td>\n",
              "      <td>179</td>\n",
              "      <td>105</td>\n",
              "      <td>106</td>\n",
              "      <td>105</td>\n",
              "      <td>104</td>\n",
              "      <td>104</td>\n",
              "      <td>104</td>\n",
              "      <td>175</td>\n",
              "      <td>199</td>\n",
              "      <td>178</td>\n",
              "      <td>152</td>\n",
              "      <td>136</td>\n",
              "      <td>130</td>\n",
              "      <td>136</td>\n",
              "      <td>150</td>\n",
              "      <td>118</td>\n",
              "      <td>92</td>\n",
              "      <td>85</td>\n",
              "      <td>76</td>\n",
              "      <td>92</td>\n",
              "      <td>105</td>\n",
              "      <td>105</td>\n",
              "      <td>108</td>\n",
              "      <td>133</td>\n",
              "      <td>163</td>\n",
              "      <td>157</td>\n",
              "      <td>163</td>\n",
              "      <td>164</td>\n",
              "      <td>179</td>\n",
              "    </tr>\n",
              "    <tr>\n",
              "      <th>...</th>\n",
              "      <td>...</td>\n",
              "      <td>...</td>\n",
              "      <td>...</td>\n",
              "      <td>...</td>\n",
              "      <td>...</td>\n",
              "      <td>...</td>\n",
              "      <td>...</td>\n",
              "      <td>...</td>\n",
              "      <td>...</td>\n",
              "      <td>...</td>\n",
              "      <td>...</td>\n",
              "      <td>...</td>\n",
              "      <td>...</td>\n",
              "      <td>...</td>\n",
              "      <td>...</td>\n",
              "      <td>...</td>\n",
              "      <td>...</td>\n",
              "      <td>...</td>\n",
              "      <td>...</td>\n",
              "      <td>...</td>\n",
              "      <td>...</td>\n",
              "      <td>...</td>\n",
              "      <td>...</td>\n",
              "      <td>...</td>\n",
              "      <td>...</td>\n",
              "      <td>...</td>\n",
              "      <td>...</td>\n",
              "      <td>...</td>\n",
              "      <td>...</td>\n",
              "      <td>...</td>\n",
              "      <td>...</td>\n",
              "      <td>...</td>\n",
              "      <td>...</td>\n",
              "      <td>...</td>\n",
              "      <td>...</td>\n",
              "      <td>...</td>\n",
              "      <td>...</td>\n",
              "      <td>...</td>\n",
              "      <td>...</td>\n",
              "      <td>...</td>\n",
              "      <td>...</td>\n",
              "      <td>...</td>\n",
              "      <td>...</td>\n",
              "      <td>...</td>\n",
              "      <td>...</td>\n",
              "      <td>...</td>\n",
              "      <td>...</td>\n",
              "      <td>...</td>\n",
              "      <td>...</td>\n",
              "      <td>...</td>\n",
              "      <td>...</td>\n",
              "      <td>...</td>\n",
              "      <td>...</td>\n",
              "      <td>...</td>\n",
              "      <td>...</td>\n",
              "      <td>...</td>\n",
              "      <td>...</td>\n",
              "      <td>...</td>\n",
              "      <td>...</td>\n",
              "      <td>...</td>\n",
              "      <td>...</td>\n",
              "      <td>...</td>\n",
              "      <td>...</td>\n",
              "      <td>...</td>\n",
              "      <td>...</td>\n",
              "      <td>...</td>\n",
              "      <td>...</td>\n",
              "      <td>...</td>\n",
              "      <td>...</td>\n",
              "      <td>...</td>\n",
              "      <td>...</td>\n",
              "      <td>...</td>\n",
              "      <td>...</td>\n",
              "      <td>...</td>\n",
              "      <td>...</td>\n",
              "      <td>...</td>\n",
              "      <td>...</td>\n",
              "      <td>...</td>\n",
              "      <td>...</td>\n",
              "      <td>...</td>\n",
              "      <td>...</td>\n",
              "    </tr>\n",
              "    <tr>\n",
              "      <th>27450</th>\n",
              "      <td>13</td>\n",
              "      <td>189</td>\n",
              "      <td>189</td>\n",
              "      <td>190</td>\n",
              "      <td>190</td>\n",
              "      <td>192</td>\n",
              "      <td>193</td>\n",
              "      <td>193</td>\n",
              "      <td>193</td>\n",
              "      <td>193</td>\n",
              "      <td>194</td>\n",
              "      <td>193</td>\n",
              "      <td>193</td>\n",
              "      <td>194</td>\n",
              "      <td>194</td>\n",
              "      <td>195</td>\n",
              "      <td>195</td>\n",
              "      <td>196</td>\n",
              "      <td>194</td>\n",
              "      <td>195</td>\n",
              "      <td>196</td>\n",
              "      <td>196</td>\n",
              "      <td>197</td>\n",
              "      <td>196</td>\n",
              "      <td>197</td>\n",
              "      <td>197</td>\n",
              "      <td>196</td>\n",
              "      <td>195</td>\n",
              "      <td>195</td>\n",
              "      <td>189</td>\n",
              "      <td>190</td>\n",
              "      <td>192</td>\n",
              "      <td>192</td>\n",
              "      <td>193</td>\n",
              "      <td>194</td>\n",
              "      <td>195</td>\n",
              "      <td>196</td>\n",
              "      <td>196</td>\n",
              "      <td>196</td>\n",
              "      <td>193</td>\n",
              "      <td>...</td>\n",
              "      <td>115</td>\n",
              "      <td>92</td>\n",
              "      <td>132</td>\n",
              "      <td>173</td>\n",
              "      <td>118</td>\n",
              "      <td>84</td>\n",
              "      <td>53</td>\n",
              "      <td>135</td>\n",
              "      <td>253</td>\n",
              "      <td>213</td>\n",
              "      <td>219</td>\n",
              "      <td>208</td>\n",
              "      <td>82</td>\n",
              "      <td>82</td>\n",
              "      <td>84</td>\n",
              "      <td>85</td>\n",
              "      <td>85</td>\n",
              "      <td>87</td>\n",
              "      <td>84</td>\n",
              "      <td>87</td>\n",
              "      <td>78</td>\n",
              "      <td>113</td>\n",
              "      <td>216</td>\n",
              "      <td>189</td>\n",
              "      <td>172</td>\n",
              "      <td>175</td>\n",
              "      <td>155</td>\n",
              "      <td>131</td>\n",
              "      <td>116</td>\n",
              "      <td>93</td>\n",
              "      <td>132</td>\n",
              "      <td>165</td>\n",
              "      <td>99</td>\n",
              "      <td>77</td>\n",
              "      <td>52</td>\n",
              "      <td>200</td>\n",
              "      <td>234</td>\n",
              "      <td>200</td>\n",
              "      <td>222</td>\n",
              "      <td>225</td>\n",
              "    </tr>\n",
              "    <tr>\n",
              "      <th>27451</th>\n",
              "      <td>23</td>\n",
              "      <td>151</td>\n",
              "      <td>154</td>\n",
              "      <td>157</td>\n",
              "      <td>158</td>\n",
              "      <td>160</td>\n",
              "      <td>161</td>\n",
              "      <td>163</td>\n",
              "      <td>164</td>\n",
              "      <td>166</td>\n",
              "      <td>167</td>\n",
              "      <td>169</td>\n",
              "      <td>169</td>\n",
              "      <td>169</td>\n",
              "      <td>169</td>\n",
              "      <td>169</td>\n",
              "      <td>169</td>\n",
              "      <td>169</td>\n",
              "      <td>169</td>\n",
              "      <td>169</td>\n",
              "      <td>167</td>\n",
              "      <td>167</td>\n",
              "      <td>167</td>\n",
              "      <td>166</td>\n",
              "      <td>165</td>\n",
              "      <td>164</td>\n",
              "      <td>164</td>\n",
              "      <td>163</td>\n",
              "      <td>162</td>\n",
              "      <td>153</td>\n",
              "      <td>156</td>\n",
              "      <td>159</td>\n",
              "      <td>160</td>\n",
              "      <td>162</td>\n",
              "      <td>163</td>\n",
              "      <td>164</td>\n",
              "      <td>165</td>\n",
              "      <td>167</td>\n",
              "      <td>169</td>\n",
              "      <td>172</td>\n",
              "      <td>...</td>\n",
              "      <td>199</td>\n",
              "      <td>200</td>\n",
              "      <td>199</td>\n",
              "      <td>199</td>\n",
              "      <td>198</td>\n",
              "      <td>199</td>\n",
              "      <td>198</td>\n",
              "      <td>197</td>\n",
              "      <td>196</td>\n",
              "      <td>195</td>\n",
              "      <td>195</td>\n",
              "      <td>194</td>\n",
              "      <td>66</td>\n",
              "      <td>67</td>\n",
              "      <td>65</td>\n",
              "      <td>62</td>\n",
              "      <td>61</td>\n",
              "      <td>41</td>\n",
              "      <td>32</td>\n",
              "      <td>37</td>\n",
              "      <td>33</td>\n",
              "      <td>30</td>\n",
              "      <td>28</td>\n",
              "      <td>38</td>\n",
              "      <td>187</td>\n",
              "      <td>202</td>\n",
              "      <td>199</td>\n",
              "      <td>199</td>\n",
              "      <td>199</td>\n",
              "      <td>199</td>\n",
              "      <td>198</td>\n",
              "      <td>198</td>\n",
              "      <td>198</td>\n",
              "      <td>198</td>\n",
              "      <td>198</td>\n",
              "      <td>196</td>\n",
              "      <td>195</td>\n",
              "      <td>195</td>\n",
              "      <td>195</td>\n",
              "      <td>194</td>\n",
              "    </tr>\n",
              "    <tr>\n",
              "      <th>27452</th>\n",
              "      <td>18</td>\n",
              "      <td>174</td>\n",
              "      <td>174</td>\n",
              "      <td>174</td>\n",
              "      <td>174</td>\n",
              "      <td>174</td>\n",
              "      <td>175</td>\n",
              "      <td>175</td>\n",
              "      <td>174</td>\n",
              "      <td>173</td>\n",
              "      <td>173</td>\n",
              "      <td>173</td>\n",
              "      <td>172</td>\n",
              "      <td>171</td>\n",
              "      <td>171</td>\n",
              "      <td>171</td>\n",
              "      <td>170</td>\n",
              "      <td>169</td>\n",
              "      <td>168</td>\n",
              "      <td>166</td>\n",
              "      <td>166</td>\n",
              "      <td>165</td>\n",
              "      <td>165</td>\n",
              "      <td>163</td>\n",
              "      <td>162</td>\n",
              "      <td>161</td>\n",
              "      <td>160</td>\n",
              "      <td>158</td>\n",
              "      <td>156</td>\n",
              "      <td>178</td>\n",
              "      <td>178</td>\n",
              "      <td>177</td>\n",
              "      <td>176</td>\n",
              "      <td>177</td>\n",
              "      <td>177</td>\n",
              "      <td>177</td>\n",
              "      <td>176</td>\n",
              "      <td>176</td>\n",
              "      <td>176</td>\n",
              "      <td>175</td>\n",
              "      <td>...</td>\n",
              "      <td>110</td>\n",
              "      <td>85</td>\n",
              "      <td>90</td>\n",
              "      <td>166</td>\n",
              "      <td>205</td>\n",
              "      <td>207</td>\n",
              "      <td>205</td>\n",
              "      <td>203</td>\n",
              "      <td>202</td>\n",
              "      <td>201</td>\n",
              "      <td>200</td>\n",
              "      <td>198</td>\n",
              "      <td>217</td>\n",
              "      <td>217</td>\n",
              "      <td>217</td>\n",
              "      <td>218</td>\n",
              "      <td>218</td>\n",
              "      <td>211</td>\n",
              "      <td>203</td>\n",
              "      <td>200</td>\n",
              "      <td>189</td>\n",
              "      <td>171</td>\n",
              "      <td>157</td>\n",
              "      <td>145</td>\n",
              "      <td>136</td>\n",
              "      <td>129</td>\n",
              "      <td>128</td>\n",
              "      <td>125</td>\n",
              "      <td>101</td>\n",
              "      <td>77</td>\n",
              "      <td>121</td>\n",
              "      <td>196</td>\n",
              "      <td>209</td>\n",
              "      <td>208</td>\n",
              "      <td>206</td>\n",
              "      <td>204</td>\n",
              "      <td>203</td>\n",
              "      <td>202</td>\n",
              "      <td>200</td>\n",
              "      <td>200</td>\n",
              "    </tr>\n",
              "    <tr>\n",
              "      <th>27453</th>\n",
              "      <td>17</td>\n",
              "      <td>177</td>\n",
              "      <td>181</td>\n",
              "      <td>184</td>\n",
              "      <td>185</td>\n",
              "      <td>187</td>\n",
              "      <td>189</td>\n",
              "      <td>190</td>\n",
              "      <td>191</td>\n",
              "      <td>191</td>\n",
              "      <td>190</td>\n",
              "      <td>191</td>\n",
              "      <td>193</td>\n",
              "      <td>192</td>\n",
              "      <td>191</td>\n",
              "      <td>191</td>\n",
              "      <td>191</td>\n",
              "      <td>191</td>\n",
              "      <td>190</td>\n",
              "      <td>190</td>\n",
              "      <td>189</td>\n",
              "      <td>187</td>\n",
              "      <td>186</td>\n",
              "      <td>184</td>\n",
              "      <td>183</td>\n",
              "      <td>182</td>\n",
              "      <td>181</td>\n",
              "      <td>179</td>\n",
              "      <td>177</td>\n",
              "      <td>179</td>\n",
              "      <td>182</td>\n",
              "      <td>185</td>\n",
              "      <td>187</td>\n",
              "      <td>189</td>\n",
              "      <td>190</td>\n",
              "      <td>192</td>\n",
              "      <td>192</td>\n",
              "      <td>192</td>\n",
              "      <td>192</td>\n",
              "      <td>194</td>\n",
              "      <td>...</td>\n",
              "      <td>190</td>\n",
              "      <td>173</td>\n",
              "      <td>140</td>\n",
              "      <td>80</td>\n",
              "      <td>28</td>\n",
              "      <td>60</td>\n",
              "      <td>70</td>\n",
              "      <td>61</td>\n",
              "      <td>61</td>\n",
              "      <td>78</td>\n",
              "      <td>100</td>\n",
              "      <td>86</td>\n",
              "      <td>136</td>\n",
              "      <td>135</td>\n",
              "      <td>135</td>\n",
              "      <td>135</td>\n",
              "      <td>132</td>\n",
              "      <td>132</td>\n",
              "      <td>136</td>\n",
              "      <td>136</td>\n",
              "      <td>137</td>\n",
              "      <td>144</td>\n",
              "      <td>103</td>\n",
              "      <td>120</td>\n",
              "      <td>197</td>\n",
              "      <td>200</td>\n",
              "      <td>195</td>\n",
              "      <td>196</td>\n",
              "      <td>170</td>\n",
              "      <td>149</td>\n",
              "      <td>119</td>\n",
              "      <td>56</td>\n",
              "      <td>27</td>\n",
              "      <td>58</td>\n",
              "      <td>102</td>\n",
              "      <td>79</td>\n",
              "      <td>47</td>\n",
              "      <td>64</td>\n",
              "      <td>87</td>\n",
              "      <td>93</td>\n",
              "    </tr>\n",
              "    <tr>\n",
              "      <th>27454</th>\n",
              "      <td>23</td>\n",
              "      <td>179</td>\n",
              "      <td>180</td>\n",
              "      <td>180</td>\n",
              "      <td>180</td>\n",
              "      <td>182</td>\n",
              "      <td>181</td>\n",
              "      <td>182</td>\n",
              "      <td>183</td>\n",
              "      <td>182</td>\n",
              "      <td>182</td>\n",
              "      <td>182</td>\n",
              "      <td>181</td>\n",
              "      <td>181</td>\n",
              "      <td>182</td>\n",
              "      <td>181</td>\n",
              "      <td>181</td>\n",
              "      <td>181</td>\n",
              "      <td>181</td>\n",
              "      <td>179</td>\n",
              "      <td>178</td>\n",
              "      <td>178</td>\n",
              "      <td>176</td>\n",
              "      <td>177</td>\n",
              "      <td>178</td>\n",
              "      <td>159</td>\n",
              "      <td>47</td>\n",
              "      <td>30</td>\n",
              "      <td>39</td>\n",
              "      <td>180</td>\n",
              "      <td>182</td>\n",
              "      <td>183</td>\n",
              "      <td>183</td>\n",
              "      <td>183</td>\n",
              "      <td>183</td>\n",
              "      <td>185</td>\n",
              "      <td>184</td>\n",
              "      <td>185</td>\n",
              "      <td>183</td>\n",
              "      <td>184</td>\n",
              "      <td>...</td>\n",
              "      <td>97</td>\n",
              "      <td>97</td>\n",
              "      <td>95</td>\n",
              "      <td>90</td>\n",
              "      <td>92</td>\n",
              "      <td>101</td>\n",
              "      <td>125</td>\n",
              "      <td>160</td>\n",
              "      <td>191</td>\n",
              "      <td>202</td>\n",
              "      <td>213</td>\n",
              "      <td>215</td>\n",
              "      <td>96</td>\n",
              "      <td>88</td>\n",
              "      <td>109</td>\n",
              "      <td>216</td>\n",
              "      <td>208</td>\n",
              "      <td>207</td>\n",
              "      <td>203</td>\n",
              "      <td>178</td>\n",
              "      <td>151</td>\n",
              "      <td>112</td>\n",
              "      <td>87</td>\n",
              "      <td>80</td>\n",
              "      <td>76</td>\n",
              "      <td>80</td>\n",
              "      <td>86</td>\n",
              "      <td>97</td>\n",
              "      <td>102</td>\n",
              "      <td>103</td>\n",
              "      <td>108</td>\n",
              "      <td>132</td>\n",
              "      <td>170</td>\n",
              "      <td>194</td>\n",
              "      <td>214</td>\n",
              "      <td>203</td>\n",
              "      <td>197</td>\n",
              "      <td>205</td>\n",
              "      <td>209</td>\n",
              "      <td>215</td>\n",
              "    </tr>\n",
              "  </tbody>\n",
              "</table>\n",
              "<p>27455 rows × 785 columns</p>\n",
              "</div>"
            ],
            "text/plain": [
              "       label  pixel1  pixel2  pixel3  ...  pixel781  pixel782  pixel783  pixel784\n",
              "0          3     107     118     127  ...       206       204       203       202\n",
              "1          6     155     157     156  ...       175       103       135       149\n",
              "2          2     187     188     188  ...       198       195       194       195\n",
              "3          2     211     211     212  ...       225       222       229       163\n",
              "4         13     164     167     170  ...       157       163       164       179\n",
              "...      ...     ...     ...     ...  ...       ...       ...       ...       ...\n",
              "27450     13     189     189     190  ...       234       200       222       225\n",
              "27451     23     151     154     157  ...       195       195       195       194\n",
              "27452     18     174     174     174  ...       203       202       200       200\n",
              "27453     17     177     181     184  ...        47        64        87        93\n",
              "27454     23     179     180     180  ...       197       205       209       215\n",
              "\n",
              "[27455 rows x 785 columns]"
            ]
          },
          "metadata": {
            "tags": []
          }
        }
      ]
    },
    {
      "cell_type": "markdown",
      "metadata": {
        "id": "I2rTnLu0o1w_"
      },
      "source": [
        "**5. Make a label variable**"
      ]
    },
    {
      "cell_type": "code",
      "metadata": {
        "id": "54S24CA5Rc-H",
        "outputId": "7e458b8d-b9f5-452c-c1d1-d7af791d95cf",
        "colab": {
          "base_uri": "https://localhost:8080/",
          "height": 50
        }
      },
      "source": [
        "labels = train['label'].values\n",
        "unique_val = np.array(labels)\n",
        "np.unique(unique_val)"
      ],
      "execution_count": null,
      "outputs": [
        {
          "output_type": "execute_result",
          "data": {
            "text/plain": [
              "array([ 0,  1,  2,  3,  4,  5,  6,  7,  8, 10, 11, 12, 13, 14, 15, 16, 17,\n",
              "       18, 19, 20, 21, 22, 23, 24])"
            ]
          },
          "metadata": {
            "tags": []
          },
          "execution_count": 8
        }
      ]
    },
    {
      "cell_type": "markdown",
      "metadata": {
        "id": "fd3_SFGb7JIp"
      },
      "source": [
        "**6. Check the data distribution**\n",
        "\n",
        "Below we can see the data distribution."
      ]
    },
    {
      "cell_type": "code",
      "metadata": {
        "id": "cuxf5xQk5lbQ",
        "outputId": "479d0f51-c659-425e-b50c-ce78072dd411",
        "colab": {
          "base_uri": "https://localhost:8080/",
          "height": 500
        }
      },
      "source": [
        "plt.figure(figsize = (12,8))\n",
        "sns.countplot(x =labels)"
      ],
      "execution_count": null,
      "outputs": [
        {
          "output_type": "execute_result",
          "data": {
            "text/plain": [
              "<matplotlib.axes._subplots.AxesSubplot at 0x7fc60815af60>"
            ]
          },
          "metadata": {
            "tags": []
          },
          "execution_count": 9
        },
        {
          "output_type": "display_data",
          "data": {
            "image/png": "[encoded data removed]",
            "text/plain": [
              "<Figure size 864x576 with 1 Axes>"
            ]
          },
          "metadata": {
            "tags": []
          }
        }
      ]
    },
    {
      "cell_type": "markdown",
      "metadata": {
        "id": "FxZEA9HN76v7"
      },
      "source": [
        "**7. Drop the label column to make feature variable**"
      ]
    },
    {
      "cell_type": "code",
      "metadata": {
        "id": "BKNAvYVTSH5E"
      },
      "source": [
        "train.drop('label', axis = 1, inplace = True)"
      ],
      "execution_count": null,
      "outputs": []
    },
    {
      "cell_type": "markdown",
      "metadata": {
        "id": "ICpYwJW3_Ihb"
      },
      "source": [
        "**8. Change feature variable from column to image format**\n",
        "\n",
        "We need to change the dataset format from column pixel value to 2D array image because we will use CNN."
      ]
    },
    {
      "cell_type": "code",
      "metadata": {
        "id": "JVH58f0J-VOq"
      },
      "source": [
        "images = train.values\n",
        "images = np.array([np.reshape(i, (28, 28)) for i in images])\n",
        "images = np.array([i.flatten() for i in images])"
      ],
      "execution_count": null,
      "outputs": []
    },
    {
      "cell_type": "code",
      "metadata": {
        "id": "vuzuF6BABMzL",
        "outputId": "b29557a1-ecf8-408e-c9a0-5a9042524571",
        "colab": {
          "base_uri": "https://localhost:8080/",
          "height": 282
        }
      },
      "source": [
        "#example 1 image\n",
        "plt.imshow(images[20].reshape(28,28))"
      ],
      "execution_count": null,
      "outputs": [
        {
          "output_type": "execute_result",
          "data": {
            "text/plain": [
              "<matplotlib.image.AxesImage at 0x7fc60806ea90>"
            ]
          },
          "metadata": {
            "tags": []
          },
          "execution_count": 12
        },
        {
          "output_type": "display_data",
          "data": {
            "image/png": "[encoded data removed]",
            "text/plain": [
              "<Figure size 432x288 with 1 Axes>"
            ]
          },
          "metadata": {
            "tags": []
          }
        }
      ]
    },
    {
      "cell_type": "markdown",
      "metadata": {
        "id": "J4lmtShmAqbS"
      },
      "source": [
        "**9. Transform label format to categorical**\n",
        "\n",
        "Since our target variable are in categorical(nomial) so we are using label binarizer"
      ]
    },
    {
      "cell_type": "code",
      "metadata": {
        "outputId": "4a65858d-eea2-4280-ce76-aac4f40df41f",
        "id": "xEqQXjSEiVkK",
        "colab": {
          "base_uri": "https://localhost:8080/",
          "height": 134
        }
      },
      "source": [
        "label_binrizer = LabelBinarizer()\n",
        "labels = label_binrizer.fit_transform(labels)\n",
        "print(labels)"
      ],
      "execution_count": null,
      "outputs": [
        {
          "output_type": "stream",
          "text": [
            "[[0 0 0 ... 0 0 0]\n",
            " [0 0 0 ... 0 0 0]\n",
            " [0 0 1 ... 0 0 0]\n",
            " ...\n",
            " [0 0 0 ... 0 0 0]\n",
            " [0 0 0 ... 0 0 0]\n",
            " [0 0 0 ... 0 1 0]]\n"
          ],
          "name": "stdout"
        }
      ]
    },
    {
      "cell_type": "markdown",
      "metadata": {
        "id": "A7FeMm5LMZOp"
      },
      "source": [
        "**10. Split Data**\n",
        "\n",
        "![split image.png](data:image/png;base64,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)\n",
        "\n",
        "Split the dataset to 80% train 20% validation.\n",
        "\n",
        "And test data was splited in kaggle."
      ]
    },
    {
      "cell_type": "code",
      "metadata": {
        "id": "PDZLQfoHBIRE"
      },
      "source": [
        "x_train, x_validation, y_train, y_validation = train_test_split(images, labels, test_size = 0.2, stratify = labels, random_state = 7)"
      ],
      "execution_count": null,
      "outputs": []
    },
    {
      "cell_type": "markdown",
      "metadata": {
        "id": "ZpV0319HwuFY"
      },
      "source": [
        "**11. Reshape our rows as square tables for Input in CNN Method**"
      ]
    },
    {
      "cell_type": "code",
      "metadata": {
        "id": "NPx2Ck4Qp_GZ"
      },
      "source": [
        "x_train = x_train.reshape(x_train.shape[0], 28, 28, 1)\n",
        "x_validation = x_validation.reshape(x_validation.shape[0], 28, 28, 1)"
      ],
      "execution_count": null,
      "outputs": []
    },
    {
      "cell_type": "markdown",
      "metadata": {
        "id": "znd2PAAFy33h"
      },
      "source": [
        "**12. Augmentation Data to balance the dataset**\n",
        "![augmentation image.webp](data:image/webp;base64,UklGRpCuAABXRUJQVlA4TISuAAAvOIVgEFULg7aRHCXDn/VtuS8AImICeNCTj9tDSqbp0o6S3NBimL7KeWRepL2CoFYydQGJZ+UjzilTI5JB5pwXvLs5J+x8k31RVvcn7Y0+E1QXqt3FGafdN13iGD9TqhRTTl+UZIVzEEj7grSFW1QOFbKJKlhZqY5UgLSKS9j0lrTKCHCCY/qEVzrDLY0d+IrtAqeDzxbg/HvTg9+ZqpD2N9oEIM/lfINYlBPriXanD6EpgdFdfQ9C87vhjU5XnFBtm3a5sfSodSP3fZvubdnZ933n/mTf962z79xk3/d9r+z7vu/7vvVJZ9/37lJ5fOxKH2efyk5p+duD793t9//fv/cfG+odZBNwVOBKlNXuJAShgTACb1VnDZRgnBrIEGH2QAYFdkEgTKCBEgSKAqWJIjSwsQYaBJIohUCYbOTqvAtOI4QGMgQ4BoERWAVKfJo9MEYby4UwMXBAGGmggRAa3AaBFaAwBoXBZgfiNMIIbEHsQIMY2CgbDYTZAwsCrIEQQtnJIIwGOn0M5EQFp5EIbUKGKKGBDKKUTQyMpIHEUZkYCBGQp1EKsclmn9YSqIwKYoOFI6nTCCsgbNjp0kCoGmUTBiFiIIPAMggTg9NEouwzMAaFwRgNRODAMVBAYGIgg8DZBCL7VBICaWBMgCVQGA2q2UYehMCId2CBQVEghBAayPCDY6Ay2ZxGNqeJgZNtkIIyyR5YB0HGIJtI4w1hEDgGwggcBbbQIBslqJANG3MabbDRHmggjCBsSpBRoDIb8jQyCKFBJAgcASpzmiiQ0R44QGVUbkBgDURgZA10isBEeMC2/33S/v/QSDRuNIBNBxakxD2wtKDgrKhYkbreYWPFWvfeeytalLem4FZisSgaB5ahuFFGxYUMxRIIiiB5hYSQQCDXBGh+tv/d3Tb6ZIrHvVc57r13y1Zxt5p777077rbce++9925HI1lusmTT5j/3vuect/6MOdO+mnHhgsCk0IELU08KF4LzQpPittAYHMCFU10XjQDtgxQu5FQXAkMgFCADKWfB8SEGLkTQkzNdozQXTnt9FikCyAHkwbtwt6ZrugRostIYludZTBFiAW5cuMhMTzhNOgeggfRwDC5SON0l/RwTLlzYhqW4m0AaAzSXnwswLoQhyB4ghQvFIMYtRRg3LtwtvZjyLlzosphCwDRAT3UR52jxLgRbgFxSuHDhdBeB4uIsBLjJRgoXLgczLppOAgcDF2UgySmcai5S3G2VgbkgBoJGL0ADKcdA7+0ATuFUMWdayjsz0rjbAkyncuFynMNFygHGTuV0pp9FutJzgEnhBD1xg9N7T7hIk9/pQ0ACfAI0LiQjhYsUguaCAXpypjdCaVwIsIAjEETQjoH5FxCUKGhR23a8jg60dm07XemYqW3btm27GdtTI/toWLsZGzmqbf9Za/+1rgngwmzbfSn2rbXWPvXOTHrvdV5r7qzz6p1O1rGzOplZ57U6mTv/pJN17J3z3jOZSScza+7dSSfT7U46mUmvdPI/9j539jp25jp2ss+nmaxjJ53M7HXqbWYys2dCVie91/SddNI77X6/MWrUqCq6Zv/3YZ1QGIJqQ4YAhWGXwqBAYcgQoDCdEhUMChQGRdq0YohKGRSlMKgKphUlKhgUKdMKQzCoHqKCaUVKvCgMKYMiv4SgMKREodaJYFqhQGHIEIXCkFIYFKh1IkMQDKpLYVCg2pAhCAZFiREMipRpxU8QDIoSFQyKlEFhCAZFKqmgMKRMqzIEgyIjqaAwpAwKQ0q1IUNUqzakxECtEymFIY8AhSElKhgUpcqgQO0TKVHBoCiFQXUwKEpU2rSi1D6hCAbFEATTilRSQWFIGRSGYFCkkgqqDSnTClMphekMUSgMiej/BPB/ksXkTEPoB5pMc+eai8LIVUYONGcuOf1KnjLqREFzMWmSjOxp9FxMmkjtZa3NxaQpJJGRfC7mBNRNRh4UMReTusrIiYLnYpK7jNrRjLmYNIJBv8zFpKnWudA80hNyEmiWjPqTFXKy0Q4ZfUUFYNJtmQslgknp1ENG58Gk+9RLRr+BSXWzy+aiBjDJTTYmVYFJ4bII9AZMSmDQKzDpOmNMikxAIutUgqh7EJfaS85Gno99uCIYa255Ro30Mnbs2K9bWpGNUQHb/BQ7duzYOyzarJl128bYsWPHfofCuxZYt2f8RYWxY8eOfTcC69YbdvQmduzYsZ9Ay1pryxuVxI4dO/aTaNfQynqz4tixY8d+5XfrbmY9ZWXs2LFjv/PrjVtY91IXW74pM+vOhNjSP9IpaftO/Nf5FxnoPzo1JnW2NoV60gr6Z9MjJH9pv/RKsmyPTcFYG8+LEUKIN6ViWI+EEEL8Qm4J1hYQQoh35t5gbYW3Rwgh7gPWHfA2CCHE08BaB2+JEEI8PZXB2gFCCPGabADWsyKEEO/KZmHdP0J+c7DuCSGE2CG3DYAopBrTy1oUaktD6So14q7f7OKj1CLE23KXhKsEZ2fndfP8yN6MNeAsr5RHRbZjbg1nZsOM+8SZeacw7htn5uZhPB3OzPWyXWTPSBZn5uiy12IjODOfHcbN48x8IBhHdmY+CLJXZC0AgCeV0vIg/T57cozJpA6MIjGZqRiBqWIyIzD8YrLdZUFxYzJDMey9NJ59qpgxY8Ys4i7zislMZc+wicmMy6COMdlesiCbmEwXGbWhLjGZNg4yr5jsRIy4MZlF3GU5YzJT2cscbGIyXRiZYrINMhKTNCYzkcy9SExmOneN5RdARgDRXhshxHvxEjwlL0D8+PFflLll3i9IfObksnfn5YnPfFVkuU4bn/nzqRrZaeMzX4X3QDZ6fOaLURWyt+KFic+MKit9k/jMt0a2c16W+MzXg/FyxGe+ObInJosbAFTYVNFBL708F/KnpRTAIF+6VYhJ4xm0txCTrjGap+uFmF0w6PdC7LgycrlOISZtdpctSsl0glbSmFCajA7TZcosVKhQITqYTkaDCzEnHpNBpwsxr8MYktIKMamvjPp8UyEmrZHZL1uISRfoaxn1K8T+QgYdL8SkQ+lkX1WI2Tv9KKMv5ijEpA2MTy3ETiSj729ciDmkLBPtK8Sk2AKyRWj3kOTqoGGCaBN9BoAKOfW7INTh3C/FqdcFgNtvesN4I7GeiCFCEfqGvqUBTSVclcY2REt+xa+go+di0klKpexmcpyLTX986q/4FT2tuuooTdGgDNQ7ZigvbeYQmabT3/SJLPHWmiaNkMY4Ojre09YKm8G8yz2O8vXkgFlxg6P8LvZUZALzllSO8s1dBvvFZzg6Ojo+SeSa34G54XtVjXN0dNz5mFv7A57xwlL1HBSYQkMZ2UuOa6oGc10FL/2Lo6Oj49aXg1mx6b7WO8or04D5bznKbye+AiuYD7fQ0dHR8THn9QHmxtMcHR0ddzBp09fBXH31U4Y7Ojo6PuwisO/wqKN8zWVgrrPg/3B0dHTcwmEw/8v72uDo6Oj4TMHXAXMjtx3lm7wJ9htOcXR0dLzftZUIYHbv6Ojo+GqB68kDc50vX2imo6Oj4x0up1ZqIhM9pWU0PFCTdBEPAFbPbfEK+KsEIXKNvnXq2DD5DyNdk1yM2uh7kPO3fdgRad1lT0eX6AE9obdUGQXmHikjvad8epzjwvTnXmghKZofLJ1WCkWL6GFYALhZ69ubjBBCnGR1sPoS8q3CWitC/mysGdYjIOTbxJh/AiGEuPotwroHqkEIkfzBATPriTVPa8G51EWaJB3cxY27M7HumJ0ihBCvDCvaSyLklcOqT8gfH2fWayCEEK9PTtZ9IYQQ78YDwrrg8EII8eoY86QI+S3AuiMWEUKI47NWeQmEEGL0C7LuBSG/P4zxFkKIl2ZC1n6EEKJ0w6w2ahZCiIfSA4APaS5LAwyaY80eG3gHYE08NHMLNZn8WscSQmqWUox66WkExs1N301HiymuOXpHFdWRbqFiMOX0o7GTTDhhltHY07NMmJUMK9JHKqeXvdMBip6ultzpArVJ8ArLwLzga6IxquKuYa3PtK1Qo46axdD2Zamm4qQdb/6nJN1hxNPipq6OIAMq0FcS7q4xjNrufOIbmu8W5w1yjqJCXe4CCSGEZH33q+sKoP0k0bcgcduLlu+I1PSc6mHyJDdDfbfH2SNGvF8elt56exJGYD83rbwC5xiB/c/11ltvtUa8Z+6Ey906G2P9hIPJo9TY3MWW/SEaGEFLLCUN2loRq3JakZ32PonIfDUYj0dE5oEY+9gaEZnPB8MhIvsdkdX8cERkVoGTECLxPm+TOooD4fb57oJ0RBrarAYhUXf0GlgjEwkhRGe3z1XugYgRIz4m74TszYnIvB/eAMZDEpGZjfHi3DsRmdtHViV/KiJzr7Lk+47ITDCIbLmI7DMyeovIfAxOKWslIvOH+pH9IhJEZD4FjAtEZBeVvSEPQERmQVnUxyUi89EpLbtdKoNxe5/fdLlRB40hDZMKRZfb4EWwE2o0xJO1rLOxGEW76024kyQd9aMFpOyPSqorBrmbc2OrrJ2jXm7KfT4Zz8+FDjL5DtgRNXt7FxXmGML7lHXlqJKrvzE3PGEnBQ5559wGA2ZZpbFwbpBTc/TJKI/OfGrCuBGCNJ3UXoqSirbXcqu4Tb8Bam38TfCW5fJm52Jk9maWY+TyZr8njBDebA+ZU1RvZmYhhHCq6wBvxKl+8YbYKP2Ik0llksLVJZ9BMyT67PkAYKskFkJk/gXshC69vb0Te8j8vZnl/BlRvZlRGTG82XYyu6jezKIyUdSbWc5JZufNTs6I6s1M7CFL7s32lzmV82YWZRT1ZnvI/Mt5M2PIPDJ7MxM7ybbLdngcbodoedK8EpIgnTDqvZRmMOou/X0YITLnEmr0HXgosgD0Ynn9iGS1jEOrKDkjtYC9eq7/pXfFgQpc7XWo2UModvR0h3h0au3ipiM1BmNXrIe2kKIpJ5llIIdAyem3SK1GOB3izhihtNC8O2PbCCGEZNre0cquU8ZwGiERbSwGeX1XEKrcv58f+sxc4gOM8qWx7vMYFBdznqqjhHrt7lYAAEpw0H8wUF+af2F6RrVgO2+O++NGx/qUfZ3SSWjADkdv5ozf9kuaXEYGYCEqur85r91KNtnMsdZ5kvLfEEJkrkto7kYepKkSm209JNUEM3UPAMW/fx+51JkQmb2FEGIXhY+8saWPVhztGeuJKpKrF/99rwKADKn0G3LSd+OQkop9PAHA+YJV/7nvzTJwPA9Tlec0Lv929f0/05qI4OlDOlLteTAXjROKklGp7Sls3kKzPzNLTfS/9mCjAYxED7pvAwDrYd/Jhbp3Gmg9NpSYzqAsciUBeeo7h2oRHikBYGl3PQbqNSSdG6sXyJ1vmVo7WSoHTG+frV/r98/0AZMKb/zfZ3fXKEG0oBcgSzZ/zaZ/lYioF1ppUJ7RyKpLn59NcMy+nIS6d1pwdwBaiqmsX1EMQDL1Ik7YNYD+6Es9BRJHpinfRDWRPAG3LPN/YCfDNxLCQ5jyWoNj3Q/AOddHOABhqXbinmbPqTnIe1wA4c5eNZoN8b1TiEC64IozcjW6J9nsPngqO6H2DjEhAJ9e7ZXkQikAkpxQxXT5XW7rZRM1FS6Lq5eQk8Y1SjnpAWCZmz4Mz8PcdkJrvh0DPTp3w5wAYDsoHaGfAzWE140BuF37DRCa3vsgEXC6TEoz2ncYoRMmfmQAgD60pqQWUwO45iQqxqPg/l+GtyttiOsfJos5GmXGsQWKzzn/D+yj5lxCu/o3Mt5Ts+sJnQGf6EPUVCqZJhinJIBVbmKn8fAf3kjF12Kl7S6K8iLPVx4ufRI64rT7dQN8jpNJQTShJFC8NycVI3LlEh8gfa13kCwh7aIiTwDL3PR8CyYW2tn/ClMfIQkAtL5SU8oL6tUWwCGFFlT+pR93f7zSZyMpVzT593K75S/ZWk5HEJ1dH0jfLckUdGIAa+GzhdqVpugZBJEXxVOZLZAn2t3x2bPlEtrbqeZL3yvrJA8Qb4aD5XZXmEOGe7i2GcI1/TpoA2SsLSeMIhVFYjoLtLc1ptURYiRwru/R3m5piIOC6Ic1K+/Q0t7eXxfVI83XK8hU743DAph+13+sZqH9Ozz5mRoDEIW2zeSuKD6B9DTxs7HvXFqBaXTPyEFJNKwFAJWTQ0cQOV6Iov+PNIMr2UhupBeTJFc9b38slbvegGG6080MIM81n4EcdkINeuQY4aPCAbYd0NxEipL6SQahTaX/JB8lkaIXAOeLoSsIIT7gtwQoTO0e5B/fG7dVThmp9AQShmsrqyfQ3pTbIYSHUItOmfd3sXAAmVtNpaR/WmrSKj/2XvPW0iNQMck+AcCEpxK6pHTn39VpfjYPgKT6AUTpOd8egFkiHiuEUJFOxz7znTA9AHo/j5KkuAtqkRhXfy7u9kkF53pUjAulApi/O51CKpfcdZqnAvoC8d7+UUICc14qXTkPoRY9Es8WP+JRV4F8oZmUE+pOPXd4u8vk2iP+3tdC8ZIDKMamdQB3iJ0GkfgIlml4s8jDe+7tWu9+bb0kUYz9doa+a33movpRmT8iEuDQRuOZhWpMPvkzcX8cE/IkW2QkIK9yKKyi+s2ZjvsDHWqNU80JhKWFiolAG2/n5a43zZ8SGvSJvuMqf379+ua7d+87cP/vf9zs8X5kKqcxfFk+xcy1vov30/TTj4iVlZe5eZmKRCTJGcS5wV2lVGYPqEvGHhPbqQO7qDvkZ++UA88CoHhl9P3wTPUW/DwU9d8DQHitMdBQAGiTYrjD28Tm6LhNTQKpbR8qWSavi8vQ1+yGTHrARyS81hQr/YEAfvs8SjHQRQBjaBNerjeCXmvOQy7kPQBFsL9w1byJTJXqNEGsbhoy5QTG2NPqVCazn/QSPRyHdlBA5G7q4NwhckJSNGTScCoW7zZNmlz+/DkILrN5pp5qpzhpu1yz3eTRuFhjkLfXxv6XiiHEtPtVVKPapZ/KURaXDgiN240GgtX5X4ujyv+9KAIbm2LiAQFAuRnU0qDd5xXC6P/YuHfMeUo1RcpiSNl7r4dduLkyrVNKTfam6K5wQhYpYEsVqVNTEZAyderUXYEsxiyfuiYTeS1W5m9/GI0+ImXSoxUW49ydZIvT/4thiBMcdg1rWMOnEZu1xAdWrCCQvZFGGgmJvI000kgxoFl5BWCkNh6CqUJoszaflaMcIyTkbhf7ualyOAlhuVNIEPzvJnUTe6Nxh1uZF3xF5+4iiP9vT97kNkUMPvtmaWcDtanzWVYwtvYg+KkqvV6vKthJds8PKOFuEr/mQCp7mYHmzDBKkINDPqBRBweHTAuvSBJG0EqeS+QzgT1tiPKbScy5wWVpW9rI5atmxNJeBrkDbc2fk2cofOIgBweHGUDZDg4OQRQ1c2ta6UF4Zu6am32JSJ3yE9t/0iuZM3N4hd/VgjutdERE2QN7v57xDA+25RD8K1NcDGekFzv0My8oM6m3hSBo/VeSOHjY2b3HIQdueXmY4GiMCU34UMHxlTTQJP2SgNaXlznQ2ou6c85TAWflnHMbulELw2ZQpJzXBKWajJSKy+O2xCKvJkG7gzhz8bZc+KqUQBLOOV8N/XHOeeDCA2ils4kQoadzf5ZYz1be8fuSzJTYoeMGt3Un1qZFCoc+DWE1mvSPXRWcN+RZDt//RvolBpYnM76lZWm3nATpHaMjn9XpU515IYApYiGEkGK4pQjzTWeDH7cxzoFiIxWzXcxdRjOa4ibic5E7o6GFuvL8pkTG0TjPSH4MQ0OLmY6kpIjA90bTuYl4881rH1oGZHMyAlyCRd+To8ZYEVFKXIvWw1rapmlNPanCdu33v9qhjxsRkUPP4dN7RUpgxNI9A+SpqfiEkNUODnbHl/zrlxsdXPqbxipMmvc+zvjClZuZOY9iQn3CXeR+ZVZH0wu2kyilPqCvv7v1hUX1lpQH2gy/gVYG7bYB/2e+t/Xnjx8cf1H/7M3IQeZLTEUkEemiDsbMNGujNYJyXDjnPIKXKSJ4yWzaORdlIk4G42ga4i3rIOOjUIjp5PYkMYV9Tu3zhcAPVYVgl5W675+1syKm25xX+y2un2CKyUNHDPvnbvIl1uDlE/u300KEMb4PoCDl1LTmnNswnv3sxzY7AAvcaaMKgP9/WCLdYYqjSCKdxUcIIZVIPbhiSwFEzUwx6a8hOgy+ZZ717aSeq2m5BnvG3koVx47NgfASY2zk/rlS8k8zXa6WLr3FKxQdVzH/3Jpybs969ohWRuyNFKArRVhBtH7UUMMi3ofJ2CZgGg49GclHs8VpjAteDHFmjCAj58VNFdzATWicNiZ/4LrljAE4WUbfrpuGuOuISOcwtW2TZo8lx6p4U4VXGZLr/3t3bvppwToiUkcl5hld+JCXHCI+C0Chysn0NH5v/XqQQfzNJWsMlQaTT/vN1rr53xYBv6rlswPcTXQSytxW9wLIsnLoBWA99QMAm6iBUkD/8+lD0wWAFM6VW+SpfHdSP0iHFuFJLw4GryR/KcDZx8bGxtrzgNYQGysBL7FMgMxCxgO8v1eSc6SKRROugtYyyUcPcDJnZyXPwtsn69k0lhbhGvGwixHjXf6wN1iSnCALoszDitzgjHz59KiexGbmUv3f5pnSggoKGOMyhw9AyhbdufEm8OrUQY2walN/y13He+qIVTdm26x/v6F3rClh8P56zI59Z1OIvcPwLz2QpYFxKotLfaUCYc7fWCMASKidTpelRit26Q88S6hNtASxza2aAYjv+ZkuwvRP+SUAUJ0u50RwI/k4wvz55Isl8rsOuiNY1/p3cFDmGn37pxsbaoHwEZ9+XCy2VhM7G5c3rMZnQPa7Bs/fNurSuEgg8uoXf2yv8CuZVDQmIaHLIve4KTkYSV87cjCDwQ2q27r38TvXi0Vn5zvfnedTbBFLkghnAVpjUUTrw/GgFdBkU2a2N9IOzPmwIB3NMMaQl/4F0q9G0TlNdNbAoKAgEtdLqUGqBYA0adDFr8z+jJWOmG5jijaa8n0LPLV6jjMhPKfX2l6dfnl40Ra+xNSlBNzycZn/5nEtjFl7IMcpst7KxvM8m8/mFkLwfE7dNaIDkO6JSQavL/UThEv+pAYg9bmQ0xX5zk6irDo3zfGl/BN4PrIJUWk9AES2WJFWOB9Zz3u1gy64sPZ7f/S6JNca9dLXQbJ3fQq9W+T46qnk9MjkS6Nvc0upwgOOV9qqM1kOza481/VQc3exmAIAklqSJG8GoBkMvyH+khfn9L+u0v8lLzNyoIQ5inC+QG2gv1xYnEfunQyAD2XXa2+C1W5MyX/sj1EmWVKrGnbD1iuXf4ldAAnOf6nHsBMNszKSNWKkcrWtP3TDsN23BpPg7JvqTJk+VgGx1CK4n+iMFuB9xv5Qq5evegKqYr0p+AfWZvkD8kH9W311xFypsYToLvwb/rcFb5KqFe5VogcBQF5+XvP1wcIBnMWEJTPq5XQBLYnOnNBi7FQ6GAF4zaEglj3NlYBtolWhi4o3+ynCnawiANxHeQA8kp8ub5ei3VmaXSUZuEJbAgFgsjVL8qgt3wIQm9/8at7WF+Cc10L5aJBkZhR8VgrlnBe5MapryjhOzrSgNgBpaaONcXSSPPPmzbvAiHRPBTGTtpa5cmaSOwtTHbyl2/hld3aqYJMV/aTxBLosyDX9wOoL3W5K1JFg91vb/3WbPxYCsdUmh4jKeQC2+37JvzX5jhsru8Bi3G3W1r2/VNsWqoLdJub6sEXP7sbS8QfWt1lLRa8oWq1YXCfaA8Dn420vzU3taQTV12bUbZj8hZywUKINUoB7ICq9Ag996ZSf482o/X8DcOxpNUwCAF5xVp4ATpADgIySZAMAy+i6D4Be+UuuZVzNZulk1SQBAGqaN22lKEDeMnKg5L+eLlSoUOkoJp7PF5qNF+2ibJKFChUq1J4jedJuE3CHeYYtDKSnxEBjogZxzrnfWVUSAKnkSUXHt0d+T7k5TunErrbytQ7IDk481eiFHiNHFlwlbIOJI0cObtToxyVmx1lHWamJPSqs56kLA3I9KrOXcxBnZXVz96EvU7ptlspscWITqVIpyCoH9+X55MHqHvacJOvskL4SCcc1sJ6ogbaC28BQ4+incgCMqJh8pFlb/dSpuUwvfoMTNTJA+ge6/Zpv6hFvhKTqBzcoAVNnb6NG6y8+VymlGGjOBv66f8sfOJvF8AEAz19CSzRARDndQi1QvqY9i/VFMPWl+vJI8HtPUC/GX6LeABBaKWyoMIHXfd8CM8i8KT9xDHG6kZFfdVeiJPkStmjCbOaps8lfI6e0YmihiAk4D6KpQ8QDvtAUnHzd1QH9FA+H69K8BHvVt3n9o9wzTjmReCfWm9HjvdMz8ybBJJ4F6EI5jQJAeIujPEiJG1Bj6pitAP66b6MQYFClsHcBxC6jVgD2/Gyni6YWiUd59gvTpnmZXk8OJoffwsF1p3UEYKR7Ut4DTKEiRGgwg2KqBzCGxYhkSNurZygAaSvKDAdX4SOw2bAAkPzhk1NqGmGiaM6t+Scam08RQ208qw8lo5PV552d2SqqG9NMyi9BPrMzT+BJpp4MskwLyLh7KVIBpA40hQNXBwnT4iqDWBTmM8rIJwJTZ771WlDNUXl+Socwp0R3d3cr4Xzd3bOdnNZ0mFOvcvvaxcu4eIREPimFST2aM2indnF8YYYHwL3lfj1eCNWHRU8ACB3VZ4SpxfmHwtQVRl7cV9fEH2iZEiAB4GEnnB39LsaUnDi8pmPA1Un3Jq/Y3dEokmm9l3XxGiEOG1IcCptLEfmIfSChWQPnPOlkNNPAmV9FFtuFvcwgZ3+1e3Fmi6TFMnFlkWkjg3Nyrw6UncIUnHNyCaUCFugEn9WmRRJe6uHRsuHM06dPr5sl7I4rp09/rWHDCA8lTMPTp0Gv2uLJszSmIeCvgLZ8s9ZuQkHrBd5yQ26nnKvrgiLvT7TOlwagIfmukMKnk4N7G38PrKcvQHrVMIb+RXtISi2lM/pDOWutdGfsAeBuOpWjV5DCCJL/7egVBbBBHNqQ7yoxmqGPPjZe1d/KliKaZTpqL+zCOTdcYoiYnB25P1wpgxl81aw9crbLX/eMU4NsnhuTA8vvy1AolKm8zppJ3ZmF2sRCR0VTATxdbOO2eVWshQP3nbfmf7lZnpwpPrYkTW0X+6S914j1+afudQaAHHbq92u/tP6usymDm0SgCoUNOzBMvlkdN6VBxeaVaU6/B3PWaqeclzIezbTeuzCGN8JYhzoSiMnX+9ASjfiUO8ABXieBXIIsQ1yWmdazwxScc57hSl1wYx3+Urx4NZku1I1JyY2/AQmgPxkrfjQrVOf4VG4aL1rSKbc6eJBotB4IbDKpuwIxAcIpK3QrYovUcjlRaXPXbSpXrtzw0aO7td7d3RKs+sVF6YZCG1zb+5YbAQyq45v/DgPKz7BOyfyqT/c+Q2orcr6+w9D0rtQSzKerpGReksEIZak5xOVbt9LRXuIjhJBiuCUmUTuIEckfKKW2s/MZOOfuFB2pG+P4V60IKrBnZABIyRqYtEOaIDi9A+mSytBB2wwKCjsrSWU0aj58ghdrtyWKGhOhBaS25HuqJlEXwDlfnu2AUVR7W7wWC2Ob7XyHu1PD6tWHVozXTC93KiIizTRRpAr+VjgHwfLQMjMDOd7DxkULSDNshqYBvOP2CVly+H9wzICcrxcZNeZUVLLAO5h2wChL6Kwl4DGYHBDBGZO8SgrlSwZcm1Jvc55Og1NsWKSlFNpOK0/Q6qA1tkoBQZwxfcGYufGCKybyC0kYfOyu4ENJCQN5isE6AlpftBuScBvyrRMjLx6XdRhiUo3AWYp4sbjEsb2e5CNKhNvneoJ39jKMaWo6Q2MK5P5xHXTQQQfJanE8C1FMSKqXqZ4EdDVALS6WePrD2Sl3aMFd8e2hNdof2/K+H4zPw87uvUq35+iuGJKlr6jV2XkKTSL/D1euvJGXFBdNMVHX8PJWWo5x11iM4aFyffT3THIGO1/WaRBbqJPu72gY29Pp599b5LZr5HbnSO3XfzS1ASCdQsPlANYOubE/B/DF0/PXACBbrlO//5V+hSbR0cOp5jp5aDRFl2dT1KLBA7lcU/tm/P3T7MpLiE9ro5UvX/6iX+XHyX260cqXL3/opjLx3EOWL3/R7nKziNrp/P39/X9dVpYqotPa0yzmNGGJz9IlZ4ypiEh1lfkbtzpfIYkPvpny5ctPQD6pLJnI+xZ2PnZlu+02YlHetVPPdgGUA2i0EuAOWwvVN2VLfQChNxuPEEIq+QKu2FIA0K4uAUAK58qNW8WoHRlqXsRidB3eY0DrJaG8AExYJmM8NXZjnjz7ny8PQFPWnXynPNZui65meZslB/O0XyD79uTP5Wn7Tqjh3SJ5Bq7e8KShTfN6eU7+YQ3QLsiadL/qao+wJh/EmuvIUr0vY3oiX4jYPnrGVclzXDR5APVSBdOjI+Xwz/8gYc4tE+lDDsDT8Q0qxXUuzwGqhbqj3Z095pVLKXruoqfLnPRWSbt2rXVyWxId8sG2bPcGW1uah/GVxhEWMZTIy3FoQ1sND8H9dvEMzt7V0tIyUgIAmohaLvaQRoz15xWulpaWsVJ5pKWlpU+C1GBpaWnpz0kVrpaWrgYOgNKjVg0ZF+GXAOPP/2w4PFLqBIksvzhwhgZx/eHVywyVAbqpuZRdiSYNq5DrdJVJYZ1jXMHsaEdxi1bW/qE+VnWKJ0SWUPeZ/XkP19U6q6Y7LzTeSVsGOH9XIRJGDN9nAbNyCgBIqu9UcBbNJT33ykddu3addU/p1+4f4WLJgVW7fdGa9YWVroNXvqUEN6jEltV+HB8/ZcvBdfHaw3OWBMIUcCeRZYFKJUv4BA2nbTCM+2Eypu4wn73XJ6pe34rFLUTkjyaxJUGEL3GRIS51q1c4P9sRz8rId955552XpPoZyYLMzvCe/XZR4OSkPfqpHAAjWojZC1G0wQw84eamU/Tq3/9+4xfNZF6ZcxFTXURjqOG2Vj+zqa/GLUApIlsh5qWQb4ddUjOG7lCqSiRN9OjRo9NI/QxyIeUiZtbsOm/dqZAyZc0qpPOS9ZPEVC7nvcfs1lprRpcoQoQGM5hX4qLE7UxhREMXAYxhbmmP3nnw4ML6cgGP7Sv6wjmYoQx1uap+BjlQfj15zapRAHhz1Aii/woSm4bzDxW6pbjA4oHiSY1lKKtEAFyLyfDDLwzje5aZyaCmFlkBiEQnW7QEiE3sA4i7lziDRkrM+mfjqEetDL2ARVZAkkOplwWjgbLNi48PUM6q7irKj5IBoIMB/HQ+9nEAEKyyVFxskM46+369AJuJgfdXL+FDYlxzIzXgE4dWFHBXTYYZyQIAJQstmipIx/sSLQBYnKSKrL6cSwjxoteHVI19WubFbU7VbJeQII25nQYA4n33AEXUhE0d5kqKkjIgXjNft0CgrpOpDnMtwgsACiI1v4O/C/eSYrhqbNASbZ+HIfIRGdzL4GCuTWWFnHQ5KCJCkDbrsK8rPu6n9a7dmzGLjmu+tiwgLJU1R6GlqL075wXo7mYqzn72a5mTJpwzm3Ld3thEnIyKqtDa3zyc9ziu+XoLAxw3stRF1B3obsxfr9C8BlvXx9NLKuz9AS/YRh6VyurmNLRLnGMXZgBk674jGp/P3SSfuvqSTTfeAovtEK0hhOj/C7ixNAMWOOxV66+hQG4AaNecHq7pbzb1pKYmInTChG3ErerHefuwwLZfVv+q5GzgnPNSDxHwxsY3pzv9JEBbY9Wz26WLqqLRcSCpcartdVV741be5s+vUzT55DFUD4DwI1OARfg1vt8wm5YE3GUiAJyZcwsGoPCNa5DxlcYRancH1F33Y13bZSLLmnhEsZriEpF5ELETnICoX50J459A8Hw3d3M3l7nOVKlUXAWAZ3qqpesNLZ5K9wA8vS//dESPxEL453+Q0K7KSJ92CIq9iEtkC+BtRUs4U+upwz6iaJaDRZ+gNyPixRn/vVdN56CktAn3HO+9y0ecZI8saWZi9ursXGFr+tyWLVZx8//HDyEmZSI+JhLEt80Tvz/KwmPFikWktTB+8FiCX/koj/IoRPKu//pf391l13NHz/0l//F9iGhy7iG3na+J0wydTOcAFBfKVDtnyvplnzppKM55KfOTjiS6ycPUOpfPVQQZreNZTLAFS19t/R8WkxuvDI+g51+8kj9qh7/4zL37s+raJmYKAEhqKaKJ12mEl4lP9NnETS01+q3kzt6ghb0nJFcb0p7IazBpylgZLvTX32zxj/s+tcfN6uTCHQAUW3HUyy5aDxBfvQyyLlCbjUVyvnzoz09SpxWTCvv6WbyJyjXtTtnxuwf0iGBMouzm+m2FWV1R0dj9FnHncgtQ/2Bnqxue50ypx2+rLALZnfVMB/vs5lpLCVZX4+4lYVwHblJFSJYMfBryVu4DI8RHOfcSmXPVmejtiVHEcmLl/oMlhclr7h6iddBBB/3KQDJQMXb/0mfpQLDHsuAFL9hDiIkjRdnr0Yi3n6mdeyuokl856zGZPD1ZgIOqF9Ee4iTgbbd1VHFSUlrjsi/1uc/gy4xroippuPc8632rLsZLRRHbZUBYCb2JWu63bZ7bMVX6gEKNMeeArDKf1j+1bgM31vykL62cW5Q+n2wMymKPuOgF6CPSwOXoGM8B8P/GXKUgvcu5vEq2P/tnAUVWqIQR395XkH3eczXSeAD+Oz7TU0D4NwXI253LKxOgeUwOebssZ9GlOTq+7PIUQWRn3q35MFajlSQ3cJOT722seWZTX9eycKHu8wG4nn/AID5QlDCv0ls55SBixMA3ayZ6vqR5IVz3dVM4TfH00fqRUmXwGZaUO+OYyd7kZ+o3zZnmlXfVV1/BzexmfsaeyVUvdDp3rWtdayrTfvuTsM46G/F8waClZOl7epRuiHWXxdLNXA3hjkRAnK/1LN/juduoySujRp4YvFxS0fjffNTOS5pOvuR+j9+dv5px8HMRZ4LzMGzS7i5ccj0zdoK7mPMi7wYaKDHL2/O3qGnLh5M/Gbat58ADFrzRbAvnIRPWT+UAGNFCeB3HE/BZkTYOZ+AmTBFnzQ0lS3Y3jsh6ezUHdOkN2byvtJ69Wgt9r7uuzz7NUB2bX+Sr+/L94eTkZK2hYftbjhkK/txKSx/Qa7s0mrqlRAiL9pH2d/Qe9YsnqPgE7x3lOmlPvDH1Z/xzkcCj6/vQkBc6v6eB4XTnI6s3/cLz/ohuf5TcG3U+mSSPnz67B4v22JHeo+u8cVgG6NMmV16f5Hc5z9RNH3CiKn3w4NqqKDmyufUKwDP6J8zkzk1p6KHChjXbotVn4ZrRGQBQqWDeFy9JEf/L7j87jGm5995KyRnoDHlGMuOcyUzbFV3Ak84ZztRugjNmG7ENXsqSkqUPckprHYy2IFLvsYmYxEtecoI6DEahvZ57Ipi921CfdbYcasac5wIAz8t/RFxm4kYBIDxLwCeM5gOAvssYalTeaMBlM6NUO0Cx30Ne3LQfCuP9pFsGWvah9mzARvo5KgCyolQQgOqHnB7Uw/J28h0zZtBDF6hPTNl8A34+5b/4+vUvLAvTDbBnVNi/HdzDU/tU0PyBAelUttnw6nfkVzeRw9VvB+3f6mfBqfqlfy8QOinqvDbW77fTT3nXz1FV49qPppqMhFVnDycgvjU1T0L89HrUdMK2Zbmb6pYWE1URIjSYwbwS1QOkp6yLcNMbqgewCSzcl9nE2xxKX+fbv1noRlJqIVxdeGUfNSwZ60z0pjjTnRndLI+X/llfhTf9mepNcsZj9zIwObWZWkDQ9Sv3P7tlZtXLvLhnoMups4LpaUanvlAOoVYtAp2UdZvNiolLNpAN3JvpVncliODvmBmzdw784RTcYikv1NZCVYc6xAuowGbfm8VjS34DgAW+iQu2avTTAnz3/YcKjD2oO9U1Whv71fSDHgBSizbQA/Ii6qLh2rTZtLJVtDa2a8ovygDwMlV2BeCdp8VWQPsVXedkYCj1jAeg1dZkK/XZ3hoAW/NEfZiglzagPu2PGbjtmVGfmKQUKwANkItBSZIIPxUbz9elMzzPC8N7uch4rZKNj3axF8AnuLgYeKOpXFx4ARKXeD2vMD43N3haLujrPF87x1q4N4Rb9ySPPJAZ5ox/ZjCzOV4mz/iOP/IZ+PRNehYzCFcQR2a3TKJ2co3MIhlNHpkEyEtS0X9DygDyoSxTeNZG2RS7AvBVQr1ahPEB0tRvz0RpZoi/TmP+tBlGnk1GvyiJucXiXsnjAeDtf8SttFQ0n9DnACBkVPr/DcBvy40XAUjupM7fAVDfif4YoG2y5aKfn5/fy1bUGMr5NEAPYOiaMaWEGTSwqQuA193r5BAC2Mgi3U+vAIB0R8pPyAtMoDwuAOw/pa/ITVCLqUvSRhJzs7QonPflQjXfcKr7DQDhde+wow5Hjkx0FcCnntnZe/n+ymMZXuuWfzrcoW4qD3AdS+ycP3xIna8bof7E8dvK5Z+YBEDy0qVtM64XGmZspQcf/GXODOZliZAw3JESBLOBULdeZhAzUhu/TeW+/vGyfaa254ncKGww1tekgVCbjWwgUxtOMqlIT4VKAoDPEL3+UL9xOeekNhEJTVx+4FL8vVWezaigWppkzyXKcjyRrRnW/qA1kYRbMP/VXwCA+JW0PEk0L7G5jne7wtKnFgDMon/OH0DGUYZnoT7zz5w5c2bGzQNjGP0AoNecsIbCqBYMfQoIaeIrktQAqs/ABw70MmOlJwA0p7ISE5RwtZpCceXwL3bbnCF1Lu3bdCwgdxn0KnUeNChVJSBtX2VPznldT4ZjxeN59ZGbdY3sgRpNC4Ui8l4qGihUsfUvOWtTF1EPA/BKZmOtfPvKKsYmhJBiuGqUewm3Uh3xQc4CjgDgUZL0UYYiB7nOCzXLUfLyUGlX0dQ/iRlW+jFVWasBKIiQuPDqyySe9tLIFEPMgA6yAj5x+rv88pm8ONMY2zgd0Ind5otAIs5l+9ZYGq2pMLs5ZVhtidYM3GJ96xK1CGEYHnnvi6s3n7bghZKmvtVkyrLSe1QA59nlzvratTsuFCnGsdgfe+/yq9Mf4xl625eLLKv7HypMQL8UFMQt2ouJq7KysrLWLiPrDaKZoHNQAkj+Fda/V3Q1tgwspmCXiAzgXBec7N1aNG/7UgaLYxgtMzV6/GgHrqCkU4lpAGTtdW94AEBdOgNht1rNA6A6Mxbgljh4AzhB6g2Qz1LX5YHUOXFfE8br0+ZaANuD++TilIWGOwNchWHmJ+9S4s3OQtyDYPENDXXGJlObWV3Ak7u3Np5ZSymyIwht6IaIqUREJUMW7b0rAN1THPln4iZk0IcmDttHKm4sbY+HqTVV9IDSUhN3ZKxIvuZEPsssz83azPjF2brLBkaVDudbdjniO9hRqA+W7vugVOkhmbXgc+JCVNgHMXZbfGmTC0NRtnX3c4fd328JQPvQp8WPvf05948jBUx+oqY31FxR+YwWwmwT0dyHTIuJSRXdkkt1WacE068XTVI5q10AQoccjBTdiy161odgkelt9n2xseJBd5Gc/4coggVnqbOpYfYW5E3qDebMMLd5nAhW0AUNgFpjgXZulTUAvCqPqg95V7eFAJIK3VBcmO1xfz0+Pj7+6hzarQwpV+nrPOBRwZzEqXFietVBPAF1nFZKlzHNBiucAMfLZ78Z37Sto8HML7I2ALDPR3wbM6uLbIhMOwt7In3hvxQ8ETfxNKSbr4EbDGdDIm5CWhoWR7doBeqM2nRr1UsrR5WrWrXqqVHLPUVWkHxTTdyWQJRxzKkIybjFueAjk6Ulrdji1roYD6BA+m0y4LGDvg/xQoRfDzsG2O/WnVHInWOsEncXqRG4omdKaT2gnLh0LAflNjruDKxdupgDd25M+mEByeeebbvv73ZoEcVEo4ZKmwMCXheZy6jCStbYbRRnKxLp0JUrbZxTS7QtANFN+2x2d56Fk4hMUjrzioKHiK5Y0UVBRcRi1fz5G/93LymUwpM+2M9vaBw8v3lp6lArlvBN9EvkIvAOdiuR9RQkSuAl6qoFwLuGSMFbbPeB1tKmnnAnqe0LL7zwQqGldj1k2nzqnv19eKnCXIQo84Svnh0ADNc18IxNKhhe3ld8k7ChSX/l9QBAQRxcA9HYSvpIRD7jA8h41tm5aVsm/7jctEo44TTjpeLFP3KiX1K8ePEqo8bYiswmz/400888593Q+a3VnPSki5go/7K6dZe10OluswVznDqfAZC3pn56ITpWqlQDwAPp1+OBQZXS+9kD2iLqZTKgS/BJANL7o35OKjQzbvcBgOGUR4AQQir5Aq7YUgBRM1Fp7xmvAftMUn8oFQXSFh4Iujbxh0JgDNGXqIQ/S2opkY0IHqwARNUynRay6M/SQ2IBQAonOwUbyY30wtxd7OgKC/ZR3FMi0EwPpriTDbUASlA/PYRVhY5rf2aLcPvpAwhZYxS5LXrbC8a+SDPNPK8qob1OR2QQZYhRVROBFjDEKXvGNdOZQjwX9KttsjNi6X0cdIDN5X9Ptnh66SIxhffpiWKUNnQgt4BKeD1fMg8E2lFdAPppl7aKTOviyJtl/PM/SJhUNpAa5a1fv2P3bVGfrVlKCqBX5be14OTrhfNpMjEZ0K76DNuQhgDwv7kdD4d0M7UBAMv+DeXoWGlUlR07duwY5dvH09QL3FkNApOb0n5PxmSykwOQtWZR1h4pkSg0PIxD2ZwCXtcDMPSrLyJeM1K9hAdwWhieF6S0o24JjD8bVi86p2DsGprONpLUGhHAfsNKN92YfhpgBgXJheC9NjYqHpFRSLi2tEoYblDddHX2+GLG9hw03fQ69SVS6HBWayeW5Qag/qy1jWby8FxSOaUbhvQ6hQE4nmWZBfVSFOpgYYH5aIEXt5BKOLwdEAJosEBkpqJmmQ8mP6ID5d8AVm3q6d0lhWN62XxcNYUt7F3GXt/j4VBVonMM1lXpF9qwX4w19SpMTRIk70pRxTkAoUQ1OM6jdEkayQG1fGcUOHbsWF7vVI3o8G4wuW9s6b227OVYo81Td8uQdAkpQit7Qb42n1XVjPJpx3RjOnJrUwUhJq7P23qAeytxuiqnoEYHKsFWljIlogAU1aq6+c5S4gg1NbBZarlzp2b4AUlGuE6jpSy8kgOAsZuD6WC8cU0BAEl1t/tqLJ8ngG5niDKxm+nxnHPaM+brt5gDIMK9vr2L1JDksCWBWRf14ppqkIUR/DJyrqB6LYXqKBkZd80/37GQURQxvZfMLO0uAjnRUCHGUXUVjK6hfJoW9RIkfYnoYCAA/5vp1MQq439oG2V+NBfdSe109OjReivLXS4G1AgI6A9A+3eotw+AQU5UC4C0nxvpzq48O2ouD/9TlJvx7tmAETywIth92YHqik/idLML7s7XPr1PkY/SBnVwa/3xkfJATeqmApCW2/fSVuCxS80tAf5lyuMNQFmTmhvMqMimVFTQaK0IElQAyo9OsctAP0o5x3Ze63r7jR/AaO2ppzeLopa9VgPAsCrYd685hipuJuKCJ5DGplyrPMAFPC6qtFt1OVKSGABnIlkijHRkWpqsKEYZJDVwjcXzRuB5JJRXwivUi2EZMcg7Scrm780B4BXeQEL0oSekOQlwDqCSLwIJf73oMB8pOgvHrW00vrwKMQGiSKErbDyHcTQ8xCjlbrjgS1RuNjC75uFmXr50qewxJUtyrvW3TNpUoosc/NBCiSUbdVFUPLixmB6xJ3u2zWNnZ2c35B/f4pVVdtKmywuUITHrJ70xzw8NR1addKShAbDvXqdF4pbO0bw04/SlSRf6W0imld20acoxAyLvbFGydygSdnRInNPD69CmFquToFyXGTa7IR/SeP+kN94pD8C+waT3e1xbf8UARB6bP2l2wSzYrlo+aVFMDlNopruMfLmGBS9kXthBVnkZ2uF92vAiKNUXAPyGpAzCiylUJwcPJJwujoj04EEAPOsI1zhKPd8DgLT/m/qkdwDAEKRuYn7hQozaLgBD36XdSnnu6j7F2WE3A4C4elNEVBoCaTWZYPtN2bmFVQK7EJAcO/Bz8tbvvaV3MgwPHdlcveryd2QAFBdH55EDsodL5EHSXW0zW2/IWUA2HW0JxFifTACMcqjtpQhANNoO1FnCYpGXKx415Bibi4ytn5wARtQ8fHJSUlKSl5ZFY5HEDJcCSJqwPQn6rFQAsJx40XFQVlZWVpfiTTdYJjG1hiRmGiySkpKSvFQAkLSgzYuxAC9LYtrrw5OSkpLCVUBsgVquADRj22RpgBofRAKQvDjTAzAkMWUAwHkWaNPQEwASnJOSkpLCoUhixormxMSJt5VOKwooxVA9gDHMrXwmDdAAGJSndzhYlgnVJsgfgHbNlmhIFpFb5TK2e/qVs0CEte84CRTrhkTt1cwVlGMRpVQ+UT7v843yImR8OwDcMN+/bl7he4bfY6GFW1+zt9qUPKe1O83gY6aGDXH4S2JLnDtFk4B4lJiJW9w/R0b0rDDlOxfUNHn+HN/sUlgY945r2tpR2e9I4fzaJiIJPAueIrXL6uHL3qeSjibgZMh6YsWQ/8biH6x6V7vq0Ez83OmgM0L2B7eBkfTvpQRJRaUfTENWSAFwu1bwpcaoOysZyrJ6UyHwo5/wSuONz2Ym4in/+KQE7NKJC5BzWIQIDVIfjaZ/ZUvwy+FK2/ZtU3mA9/pFZKfghVhh/XGIQfG71rSSAFu7qdUOY47+lFwcLGfoggf/peMf11FXDcqCxy+h6v4At3aOWu3Q4uiYEVKEtC3UUqZ0WT7b2ZzClxiSBcB1jcRCBTwOfJ7+iQNA5D08EZG0vc0H2ybq5haYAkqiYYUBfkTbLuYoXVvhak0WALpSISWAVxhANVJPnKBH3jVWh03APkFmWqKYRgEgvFkoRqZQaSD0YFQDKfj4btTvaXuOzX43bXMF7HdEXY+XSIzAfy2AThXQQzmhtyMM40k9sTwP1/dqw1Tg/EOFgru0WMcJyNE+9tkS9A1rZt52ckrXCAAJ0zq9UKjQO2MzBHUZvv+F6psvNDAAwKHmY9QO67erAO5cIze31iti33Nf2R9+D44vlK9/EoC17StR3PERUiDkSOedo+t+mjsC5hM1ZaoR6JIMNNMbd54LK2d8oxNXHTyLtkFkSVQKUnti1hYNWkZD1EkLrRzxcYnhAD6hpQYA59gakrodD8QeUQeZZV7BtM1eolVpfLrG+eazAJKP0xYbi7ebT6VlQ3PJ+eqUTw9pJ6uAayFrc7/hmzn0eccaYUMKMK74FvICLFenUKVP6x4/u5gD3s1PvnnOVO+2v35OwMu+UxtY+CuVStnY0YXxrAlw9c6aG60BAL1XEqtMkL9FSLEac+O1YE1zyarvBSbn2auXhRRpe2y1SEtiGgDwCu+svM5SAKqQZL9eWRGxvLGFH2GEh0qn6Ag618sQWwDddY1v/HjOPP0bWCwBImiUyCdB7ieIh7QDcwutKaaBtfFMLaTeH7N1FAIAJCdptdnVZo0Pifq0rruja4lTduv3ygDg4T5EvjNcyhItyxFeKw9lz0zioocT6d7PNXMIZbYp/zG5DdgjkY1dTu5vBUqRNvozROrM6RwA6YTZRJRSpwZyAhxHR5F72/n7Otvt3C59NmXWSzFcNcoPIkrs9oThJqd8PJcONQqpGShGjCeyJScD1aJYo4FaDODq3zV/fc5Hh959bQQO3RPOgylts6T66xYIrD7OEZFzt9vYTLPk4fLh6la9pIb7/867mhwFbGwKlFfFhl61sWlpIQVcJ4xcPWyuBEx99LygHsVTkTOA5Ff+xQ5ETusblEdO43ejiKeDAR7DGjueY091rqSG9/x8JMWvAYDSyZFrMU3Dmp1t5LlyPsya5wGAhxF5MHmIluchLM9DWIUF1fIqJ/Ln71I5AM+KnMjvQsUldgDWI5lCPOc+TanRgUhvhsiQEJoYB8Wm49psXeZ0SyCnyVSd9mojPEn1+pc1pZiYnW+4+trXPoeScj5NFh/4ljY/VeMIn23V4PXqCqQZ76TmOXhDpUWNy7chGX6U5Ok5R6BFI/8ouCM0x9Ub5itguvwpkOXrFEMbK65eT/MGWXI5rSGEkEq+gCu2FAC0q0vEhoe/+mIbB8XwlYz0Qu0mrrnmN/qzlINOdQobeIxw3HlOPq2rAzhLGIloakWk/TBu0ZdPiQtqjiA6KTFlLglPilUMud5d2Eu9nWqqzJZzAKRwrmAVdK022th05RAxdSmiejCoByEzH56bKydo3RbYEKP0EmBoFPg9mSwcuVeHDaCMb2+h3LwQa1lW08p4ThKxmt5P80jAi2wFTNS+gWEVwz//g4R2tUKbAgCS6lCqI3nj6uUfz9mHGeAkzUlACiqGLQVwrXHOnTpbssUTtZIyRuho+ZWN+aqT78LSMjxElAHg3yd1MgDDGdoW+8OyEueCeqTDc/fp3geCCFcjAbuNjsIk0RY1Jjeytj6ae8ITgGTFfGvrnq+5ALA/4+vmO9jbxcHtQrvYavutrZetCI/ZaW1d3ebpYp3WWFf6yh979uLkVE3JTqQGyyFq95aD3l1fNITVAtE4L3ohMTlcgBtOdLiEj9gC/zBAO7i2ELlqz38Yqgc/6AMtTEn1NMjuz/aQn9d2gPwsDaJLlXrMveSZUykGOjifD5ouym2eBF1rE0DZqeQ4HD+h+SwQJ2OLLXKDIEMf2s70VU/9VA4A2qQYG0q51ZLjHvdYusS1kiVXr//xbhRTPYAlZ+M2+9S1LgG3UYfn8uVNbwTaw4iNRnYFypnHEmGlCo2VtUSLNrw6Mti/y6EYMex0iVoBNJhBMbQFQHuHUjfZQhZHnzF1qBpwql/A6fz6KQDRXmydwvM4gQrIHgftJeY0f9hdKbQfAMKrI84/VOiWyuK0AEC0c6ib4U9y+k1nfFMRHSot0l+F0/GDHeDFxPbjyDoaV2BQRgy4A7hLZ0CrRazYKKArINzhPVSNEE6v80Modx0qKsza5nZDGsBfXC6kQfQelcDnw8Hzc5fTAr8nrhXbt00G4LilVY5UayTmqlErpITZtG+2nb2RDqQhiWXC0tploKEA0EYFVX0geeYQOkTiKZVF0hxuq7NdvAqiqhwpyUikU0WH9SSP2w1yAGK4uCgyK67KLRN6kvWjNcaLeO31WSowzqgYewq851t/4BSfqUOc8v7IAnx3UsXwZdd89UkL3w2hZo89VVGpUVIYtdGpcsGjY27X3wBFxEW7bdGo5UPjWsOpy+Ff+vGGpkVWTIHVAFxTh7BbbqC9buoSbQ2lnCJ32F3aJDWrmjJH/W2v81zqx61U+h3AXUw5SQXQDEuF4B3cnPaRbAOF0BpCCOmI1J4r1uXHARzv2LqDEEKqfpd+7lzJknv/KsZjqjqAChvtSGS1VIruID15Wiokmn1nm39MaNPDSEuM2ionkI4CGKoVnUJ6JMm4sqWdQhx7PA91MknPeQDUE2S1NNyoKJFBGS1gzteBu7y/M+hGKqVwLv0oGbWKpP1/uXINAV0BeVrLpUNItn/eqIPCpC/f7fGr2Nrp+4M91EiI8zkDGPci3GqJfKoDZZdSRrdY5SbcJfyS+O3zKMeo4/+nPWrdMNf/LTkpiI/ZJICLTaIr1HV1f6leCuEK31znrZzeQCtwuck91Ec1XCANgHhLB1oxLRoPlFxE9+h4IyiKX1uy5Zq7nFZwvHXvPT/TyXV0NSjIrx5gmdtg++gIdkfbFLW+/tvX+k5pzdNnAM7HGM9OdXgca0LAc3xy4FZMNBdoK9CyoaqBO6iY+oKPgjaQfzUdiHRYEiuItxxv44YntjUidMQ3ZHdApXraVURhETrKCgDzxw+hNoR4vtYNtoBKyZdbNZ0A+EsGy4a1LdxUTRpsgI61gEsHAqJQmLuSXNp8ouBqjEJHDHHIcACmiaswTrKJPQGEO2lmFeHhXxVCCMn2Hs+2tH7QP+elawVDVzGp4XzZxPRrMFFP3JLBviUAbptndI0X/kuIgInTcYVLJ3UEp30DwMzjcMW7kJoswPk7FkI4vTseakBy9Qv0caKoQmqUbhn15qG4utQKUWHWNrcrI8BtimkFzDyOZQOftySANLX6azjFRF/Gqlzp/4lUKsQgw6s+p1YuKJvGT3k89x+2LfYsGiGE2BHbYv/PwXj7CqHVpFnFS9S3elAZz8L/Lu36D7jqtBQZ4gD+YpoPGcnb0iHCJxQDEK63zJpt2vvDGfA+lkbqlpJm7fzjy3LLNLltPFRe8nbnBFAiA5eF9nPRxuf7Rlorvfgx8fGzFF8do82S5Lcx9pmFWTmMPWVhnr8u2SWzMDfFKyPrLAtzvUwhq5LjZWEeVLbcZ2VhTm0nhCgaMQszYiOyG2VhDncAWRVMmIWZWAgR4rrOkG9aeMwgI3uys5I5rdhIbIsW5lEIJaLrr1Iv+8qJ1MEVxEtRBgB837SaTQxylnA+oSMw6Tdq96SncgLttOKv7kTm/Tgj5QQOGoEHJeNc8pDWS5n3YQFzD4xDgnkexv7BvPgksscCzCsPJDshmNMfVDb6SGCeXDb8+cHclSzzpcC8VGnZ4cEc462Q7ccZzKhCCLujgWn7K7huRhyD9aSG250bIHqKp20fUEEihXwCpr+keqn59kFG8lQS/7bWfSq0bdlWl9DYHpn9hRCSbSdPN3Jy/EB6GUA+FZUCwHl2NbedWvNPLoQQVenu8mbhTw3kGrSngmtoYN2FSaqQ37eRtd6WMPJt1LM2at1xVZgwYcI8kp61ztaXqAkTJkyYl/vE+l8fRwgTJkyY7X7YoJX1KPowYcKEeZMPN9/Eeoj6nVeECROmqsqtNrLEzrRhwoQJ83B61kas2/sQJkyYMI8uVGxjvXNlmDBhJM0zVqzOCvhEqZOWldLRQsNyrMPpKrotAvHFM6kPCnGFLqxqdsIdAtL2qChD0c5X9+SVUqVWIYTdcok1UIhLn2VBIaQm6YbUxy8fk4UuFBcP8mvuS6WNvp8p/IX4HUbzEpGvgWvUDKRezVa21lTJTb5uFavi6tDyDcSzKimv4sfQoUOH3uhBVkWftxweOnTo0HeiYFXQtOldoUOHDv0woyuuYm3sQOjQoUM/6PjVv2Zt+NjO3EOHDv1a/deawVpL5vMMCx06dOibOcyqRPNwo0KHDh16E/sqsLJebmDo0KFrH2XcjPSgrSHTcVWqFWYHww6VXG7K0yOAuJ1cPPS7J3qwjODuNIjk79pLOvx/XlBUyS3T8FflqIoQ/gw7fzbDw5/txHDyZ3vIPPzZdgwnf7aHzC7qL2CKUwyFM1VtkxqlvUa9yE5TpqL4rLI74p0RQtiFyOXv7+9vx/DwZzsx7PyZdgw7fzbDw86facdw8md7yJz82R4MO3+mHcPJn+0h8/BnOzHs/NkMD3+2E8POn2nHeHe8W/npxVbP2plcskq5kq+RPde4BUh+kQGWJWX+ubj8BvmZtJfLd5ufeTAXzjn/sPzMRofjnPME+ZkXm45zzgsMmJ85Keeck3On+Zk01Z1znqym/MyaInDOeXf5mQez4Zzzvz9sfqY955z7kefySQO5StUKRDcF+iwzPA6nHK05gEiGEQ/FemJZSwm5kVia+mt33rQtAKSp7x64pCzEc5KN7S2b7bHIxnwFPIQQdvvLxt4Bskb2k415gXKyG2Zj/rE3Q/Ypm2UZAAj38G/fJdCoLdecJKFFnQBdX1oIIU5712ydbNmyZbtAVNno2ZitdcZ4YrIxq4Bxkmzs5LI2/7lszOdHluta2Zg36lD2KdmYhx+c8W3ZmCNEld0wG/NR6FhW+kbZmL+GMUM2dgzZdpk6G3PbyDL/xmzMp8Vbdk+sC8jv1PA2B42k3NJdKzROnERXZOLH4VJ8FECs8BVPq8APWVpwLn31/Hs31ADmNWVd7gHsNmVTrQ8wF3ISQiQ/OtgTyapk44B5lUlkxwcz5LVkVwC7olctkp0mdaCA/jzXdXtn16QGIcTuwbzKIrJfA+b0B2VUDpj1MX4x2FFl/eQE87fJMtcK5kYYXva0gDlnfMZiYJ59EdnxwVzlJrLRLwjm0Rj3B9jesjNOCOZ+ZKUbBrONmmVHALMi3VoUBiupMD9VgVIkNXeb2Dkgw8GZWEv1BwS3xAiqcG0x1iE1h92AsnhNdpRUo3BD0ADkaSSSvv3PpDTpzZ02qaxHgBGFMsdxsDTza5Ty2WSStTAW89zdaShWXRC4jfM424xvtdASa4j84hlsVpBuZUsM9xY7HbWY7M6vSLulWF/fX6i8rVJj3viEr6+v77Ne+puse3myi8O+vr7vGndX/xrzDCm+vr6+r3NqXXpW5RVvcdzX19d3m1msNZqf8Lqv76dJC95r4XrygfS/nbaQdxDXyEYdpYFrEVjR3zLB19fX95kvsSpueeB7vvL11rE2XOsr38JrY3Z2zNfX1/clVLOz7qjQ19fX9x3/v+UXrHXWv8pZX19f34e8zVqD+fFu+so3VMuqvPI/8vX19f1fWKtrejK1r6+v76ufWYeBtbVHvvItvjJmp8d8fX19n+rqmhpZ9/fQ19fXt8r4my9nbUZ7XF9fae1/sc0jAOL8EgohJ2557kAbfGCGJerQVC7LB3opk7+Aw80KDX3cECkJE++iKdFfEaXQCuTZp2pxeiM+CmS4iCbgPKgA9adVPXRORbs1snd1db1naUVHqZR9a1+7urq6rntEBdllmGtY/uoSV1fXp+hc6cYy7HWNcnV1db151wqyyjArunBbX7q6urquMaIMc6y1T3J1bYgbaAElL9tvXC+uqYv013oZeUWq25G5urq6rntkGWbqNc51lVeQXoZZwQ1XeSX7yrAfyMHV1dV1I0P+WhlmJTGurq6uD9Otkl1lmBXc24yHq6ura2WhZZhjrW2Kq7yCm2WYv7sLV1dX14OWYY66jgmurq6uN+tWwf0yzDUscpVXsrcM+957urq6uq5zXAU5ZZhrmO/q6up6104VnS3DrOjirX7j6mrUlrfd+9g0JTJJDNwyfdK0ZnEk6qipWO1ZgL5L+cPNRmOWUIRnYqZIagadTaQUCgN+Wq2MvvszVQwwqWZgBtEXETjn3D1mdnYQ55wHJs3OLMI554a42dk5Oec8KHd2Zj4Hzjl3yc6MnIhrxQLZ5fkcOOc8MDuTXFy4vFR2Jsm4vEB2tjvnnJO4VHZmAc45N9hkZ+b24pzzTNmZkSNwebTszHwOnHPukp25SCLOOffKnZ0ZissLZGe7c855zsjZmaE459xh5ezMFEHckj4FFZgFreEaW0UMDgLdAOSlldzLbqzTLYHnX7cWk9dZ4fl1DrqFR+Y34lE4cNcAWelD+xpEn9zQgBnYzqS5mO8qbKDrO6ZwnKvQcKarAtx5XCZmP7qHKF/IdYod8dzcG7MAsJ1haXJ3DyaBd2cGcwZqMBZvdt5AbzKRCXDcqrYhpzC0td4bE7cNGVGGhivpyPtzUhdcjkfjNlkLAHzK/LstepFdMIorRzFdow6ajFn9nKRAlzNUqZ9D2R2/twIoEsRlYid/YIi4iiGFLeC2FQ6xY1SDPjrXHSkAPKmCbnSXkwe7GNi7qaKMwzW7b7qNAIZSMslTcqWKZvjSgwDORIKIMPH3ClAcV2w3FE9GAKNtiXaHUQX/w9Av35pOBMzXEfmF4sEyOtRvqs5r0XBMtWJihz3UnZfhyFMquVCoCUwfYw5tyud2YuIvQrlAH8phVkkevntbuFVK0/t/Tby13E7oLNvNURl5AJ+M3VJ4qmQ8GMdVqcoU2u+hkXWMBe0kJWB4oTHMTIfz+E3lypauAVDcX5V6JoGrUhXImElBjCWsYy/dewJo7955nw61V+afzxNwhGgA4NPfeS+SiAf7mJsemcL7hzM56HPwohZAnD7ImKc2Py5TaBo3cOkedPBMS7yWXMMkMIi22mJid0UxHpj9Eq2XBNxWOd75Xpth7LRPiA5v2NotU0cawDMSlf2SevN58WAhHYb1NFkkopg8YCxVZTkVgKGvM5q0wFnsjj9YqRkAkSZyT6BhErnyEEjfk0FhnHObG/yewgCwzB2znwsl1ioey8U/35mcAYCsk/1tmpuCBzNZbzyT/VsmJ1Ur3jJxUwFY9gEjTQupOYhfxVPNAKa70EHrTfx+XXUyCa2hK9Cb5bkGNMTtkWLHDesJOF//KlfcPkWrQSv4F62SEQ7XztoB4FmsuiZ2OVMEsguGMhOZTKQlJskLxliej/jbAJD+quObRftxi1nMFGb406uoAeRd6uOqmKQ6UBJ82kqmCeT2f66BGYoBQJqr7OkVmNtOw5Ub71QPyZdWDOQLNdhDgA0P1pLUJoqVX44wlxN8xOUBoKs59TBnzwGOO4Qam5SeHgoAOBb+kuRMcr+tNpCRRnHNmZOGUnS3YSFfP7fHgV6IaTVXl5fOdmfMvwrk8ah47D9Hfbx4sJfLmih0VnnCmMrrxXIFAaCz7ZkMbyZ59bvLv4ptavYdd21tAGDf5E9N4qtnkkudj+MDyjJoEM4NXpGP2O1qWQG4hZt+13sa6OrDaJgQc493kofgdljFOQ8Az5Kpr1r/YMkceDCZCaszQfoD6+ULYyzV27/Z7UHQuh8YgvzXmZhcc5/WjWoWe1BzAPDemf88VEyix8yIrF/INW6yFuc6TpNgdn2z9HyZq+3LX0M4DfJS3GhrnP2YYJNxhfO2HNyeB7NZqpAJVizC5LBVwdXUksECgK5LiBZu9HO75Y+dHFLWNYN7weFOn+T13NSAIkiTR/o/sTVMxO5BZpSsek/P35NK83BuSJRiuvP2RxoyegIovkod7Vzjkidcrs2qcFJMjLdnR3S8x0se5cgbIEsaAPAhw3x1XmzI3HG9eLCc7r3aGreakzxijGkCvRGxsREFBNN0MDgZ40xx2pMrftOfCdsIpAyp1gGCDRI/ZyJaezHRZ5oguBlRUDGkXJRr7MDlAzpqKaUPmHmWPNOpP7OvVjouZ9FC5N8Oh3gSznew84eEsVkHbfWsPTWVjAf7SYEljeuIyXLitXYyZxQZY8wpTxWX3VYBbwDoYhbcCxm4jNqmfrWlcJd5foXae+kJ2AdsqEcwMwDQOie9ULJEBV2Y6B2S/rHk5Gc2wZuB51+311ycc/tSg/1QW/1VV7KYJ+TR2rv4kRs+5MmflxPO3WHpd6IqQlRNLg+zsEuePGrULkvvlNm2zSEelwM1fP5NcdQszpD7hJ1o5jobOHHCDOQQxIMJTZHRGJ/uZFpUFCDW5ReDoC/R5DF2RqSIEEJ1Ndc37ClXJjZN1CWz7KZ/k7LvOCIrU66rC4HwlNslVm7mvph4/WoqA5hNzjmAMuTBtSBJV6XVx6G01CvCxAfv+0w9n+Xo2dp9Wjp5Hl4ck87QSSedPCZHP/qler72gbuGicOSdglKpVha1jw5GXiwpJRiDBVGlnHwrJXol1EsjLEQxNNPRcRrKKDVQtC82+ll+oZBZGQzEZueKZVKGaJUKsuz84xKmupXtr1gSwjVegZ/jxc7eHO+TLz62v96SZjVnouBjLQkSBtwzr1WHuwiAyw9TZ/pPT09ZSYd7eAmTQLTenp6+pSo9Q9/KvknrDsVD+Z0RmO+yU/WAYqi7hnFIzTe2h+IyD3JRvLC6Dg9zUBkqCn3LjbpmapN92qzkyK/2upZ9arGP6OToUvp8mxxYLQi9+uFbvpxifJM/BqiCrEoCORmQe0GiAN0RPZcy3rVMu9FB/w9P95fjVQSJ6Utw0yjpAxPRWO1lMNuQIr+sJnseTCrJJ+ZESmAyzjzbgBArMtGEJ9ghIMTfeb3W2p1FiLU1uyLr1QyBiyDkOFkMeOdi01rIkvUjC/y5O42yp0RzOCmDLnsHnsi3cbXBoypyLeBLb/Rrl7mXZgkWi0iMPEQaCyN2dD39A7oPBrXzomizfRtk47TE80pv/DCC488sUmnGXbhhS/RRRcfPU4NTc0TMxkPxnVlymCM26OmSz/hG/J0I2oo0s75fL4SwBhTZQwRtL40xKr5BNtWVAsthKsNtp1HYQ+Pron2F/Utfc++B5v9nfbHjnaaampvuzfxpGYs01RTP3aYsr/93VT69NG0q/WIU9jBXA22T6SZm6yxWjpfvruCXmFc9Ewig779WzsTT+A2pwnZPxSFJj+RAl6PqM3kvMHLyytnImMndHFRsWBlg2i7j+yqDpotOor/ktnc+G4A0QEgjqxhHnpJMNr6DPU91OKX/9f3ensFIN1Zy6xAl9/78l3U228+bpGJnCf8Lc4AqhqhlHd8y6JY+0m0SBlRJe+C8f2hFWW0gmv2XPCY4PDKS4xVXsgN8N7IA92Xj+QIjZeq0+Ze5gRE1zci4g0Qm89ye/mCByduEIGrhbOztzgU9s55XV2DBI91ezkLvwfxmj/NGHO4RfKly2ngFlqVo43QrlqoW/kV20jNi8KlSBatNsMTatg31F8qNYD0s2sDnudrG8XUYQsgOPFRG04SZUKrwxxmnxGfihjm73/lpptuuumwtZh8+U033XQnxCT/N4oY8QSH+RgmtfpAv2q7NgBqXuXkJ8DxvChcGk0LZHgqDTMFH2H2MRMOvMuPXsBGlmjMhMyksmTLJ2S2LXPIkJDZdpAsQ0LmTF6ylRMyewyUkdMCCZmBMr/FEzLJUeaQNyGzbkbehMy86oaPDKClTFqC95vBjGZ6FHPAM/cGlplDJSUmjedlchcm/ZqM8dfzlc6ArksYkEzGZn68UBMln7MrtLmfUMNMw/eUukSJTkiIXuOaAo3EAQEBG+4/WQlmpasCAgICNvdNBbdKMH93QEBAwN31qOhwCWZFiVt1DAgICKgotgSzguRblgUEBASsMawEkwo26hEQEBBQWUjrJZib6BMQEBCwvu8reFqCWdmsgICAgPvvVsHtEsyK9gXI/1oJZkUJDRmJjNpyPtxwge7qZC4ABwvSFjzPz/TGbE9fHABSZqoyqwyQxfHe5zECA4D5Ww1Bpn5+vJEmSEg0LaoAAjerYabbDYHunEtdpcFb31kc8sqaq3hatmzZsq+WUZENzPspKlu2bNk3v7VxAcxbrilbtmzZ/3nLGjBvrXon18uWLVt2K+Vg3nztDm6WLVu27KM8A3NNTa+VXrZs2bKPnr86K5ivn1a2bNmyL3F3HWYwHzevbNmyZd9RvSEDmHf5vqx8I/Vgbr5COi3t+dclxTv4rud0sVHrbzGZGok8EaJ3x7UIz5d/47UBSOcBAK65koXjHDX9qhvaFvEIAA46MrtKgOONabwQa8gHKJo/HzPt/mHH6caol/SrlPqfv4l+74y1cQ4jhBCTh2O4faYQQsx9ZNYRhBDC+2Ssht8eIYS4LusOmEQIIZ4G1joYXgghLjAaawcIIcRrsgFY7yOEEInnZ51FyI/HmlIIIVl3VHkbdYDtrJ/gokIyHQmUs4h24fnU9YxItr1WAJ7OTRLvZctjxRFcCr4PMaNogzZawLyqAcvELoWSN7ZxEv+6r1QAKX9VbGbKPS8lLuR5FwWScDIhJtkS2u1AQgjRShYA8Bl0lw6ag3q2Or5mpNy0IN1vH1+TE0NEwfN8Cx1dtSSoAaDVqnf3RudzkX9ZiX7rIQ4Q17QA0FWUgpHLVVLzJjXK6bqIPUQIKO4vJjPl7tB8nQDOM5sRQlTNbh6GJ6X//vv/2eVk016xf3kV3FBWFc9J/8yTyJJfun/mtULIXpb+mc9PZtmh+mfutRHZ5Mfvn3lK2STPQP/MN0eW69non7kg48z9M08re2TApuPJNEe+MlDH8xMRz8/i6v+vA50eIY4a0OaN+igfEfG+cljJKU3sCET9x7i/tK0qADh0G4cd2UzvZjZK3uRCXDL/c+LXAoCCOD6/VBpTbkFdzAcA4Y4eQgjhn1xo/TZ/8CpZ3IBbNT/XDqPOGiVcyCurXQ9xCFY6RltKb9I5QGjU5ptOd29Z5U/jVRBzX71WRwgaqjreyK19XsQtA0SbfXaycBsAwZsOpGGm3SclAfIx2i0n1GLmuu+KcEkWlJr/L8lRk2yUCyyodocLcfF8xVbPpOfct5zeTQcARJg22L+dXzaiUoiMvvLAKkwq4qkf3hiR/OwaFQDg4FHtYGS8M62rK+CJ2q6fAaLEUgA2Dd5UuIzM9Hul/db80Q1obA+vg79QkXU9LRdwEpJZOir1NLhrjJvlUELtjhfiE1r92G4vG7p2cYNw79e7p2TLLFG7lwwjMhKfgWhHDCI+XipxAkaavWqZY79qJS/6QuO0wUo3BYLOj5IskJ6Zhn8vr+18vk3cJrxRLqFGq1Zu1o8ig3SsnLCe1ImH55UV3JRtvFZvv+IhIBiSuBCdSH77ObeT30fmGGIWDaA9xPdn+crsjhBuuPtVljuTvhlYal6sdT0bBImwNaLfYVTMVLyRq3TH6fVo+IpVY4QqfbmGtb1fkabpWFFhNp0Tl5HTnHaHPDv81PXZwmjP4MRPDcz5hxch6iUhIkETSpGDTe7h9jb0vLRk7OrHIiNMWNi1d1JqWhyfXTPgSWJZESDmJGem5aUuUqJQrd4/NwvQYAJLCp7nK5kmJmpjug8YoPQilkKE5w3eSIf/lkgQXyZ7ph9eZf6XySE5Vjf3Mmt/0i95JmIh8XkPV612TiqnOpi4+B7LkuHZ2OVVKg1wvISO/4YrvRfgCZkp+aCc0kSpXr0sVx+A9PUbLC3k7oXaq3xxY5jT9i8re6sPLG4Lo2288xJhJCJIGjU48c985nO0GDFirOGNFiHCyoh4jBgxwjYzn1xRowYp5hrJIq+3I/EERqot00ertrcoJ0cY90zFKrxQldysL+BJsLv7cgFivGm5AWt93leNeKiWanhaZgGQtoClhtHhZ3C7H+f8jgVdcW19xhHjQLp1R+yVbGigGZyMQLYwfpvSVHB+vFQOLoC/KblUGRHt+/ahWkS5aQDgU3WqnCg+0ZEOocoUM74WpjfXmpLdxuhkGDJ46e+0HC1at2HWDRT38Oh8HBwcDKIxd3Bw+HqSxsMjvZnZB0Zro+T0P50tyGUtU7ypzdwrrbwuO156laUEeFJTcj2RGchzIPUizjg9gGoL6FIJMM8xjhSZuIW2pzHn6bjj0U3dddc9zAx2RDr8qbvuuv/g+KTjjqc8bU/XZm68zAw1JyCc6bgIc3gCjb0IKqb0nQDnddYtXUqXWg90PkqZIZenMj0GnGsyHTdcnQBuhypRMXbHP8Wz8Vpv7q0T2elST+WIvkilHE55GTcEDmM6jsaRAOQ5Xy4Vw5Qcdar7+ttIM4HjcCmWBxCv+ZqO6wnALA5C7f7HOhWRr2kFbjk8dzu+G25vwcxUvGHRSv+5BevFD9yM6pHm61SMaJwShrEMZ2v9sNB+XBjukzMDc1XyN8vFM2TIkIHc0ulDcP5v7lg4yKWrQvX8e7oVkXUaLXouu1dyszbPawvXRIxLBkUIlSpF9m6CB6dAmt3TP0c7P4H+bq65Bvvss88StTGjr2iWcWqrrbbaSNt9n332mbq55lq97HnP22zL4wQPnj37yqn8qINB38BIbqQXare7H5z6bp7/sQK6FLu5RoA+pfzhZnVvB95zZtzQK1/w9v8cRX4d7TpX9YWWaLJ7KN2zySZXKNQDxY342QP0kXCRCHpUUwBAUp2KyPjhwaE7XqVK7hV+DGcGRS0F5Zp7spyh4g5GAeXHvvASHZSZ7zyRfGBSt3DOzo113fUsSZIkSbIumEe+I8ywdDQ9oDxLkiRJVum668bSOIeTGZ8+StruU1Mepbd1+d3ORD1dEnkZgj1ivo0SIdC7TNY410rOawkEzsPkdoHhyHeXtKItSmmBjDCl83rY+2Ln3xKn2MOpz7KnG13yeWi88RN23HHHywnz9qi54447Pm3jjZ/joDea+kCnvhtOcaJb5pwbIGQemDxrjRMvfNHuxizlFYwRs5ozDyx5wubHrSqcIYoDcJL8TC4bUsz7dT1UOyppqAEmXj19X2XK3vbz3BSc6kKTD79ThsksFFxumEk6nryzBRv/wcfiQZnynOvHjSX3jN5nf5Rygg8rZUVnGHKjyoe1PCJPjNUD8yVGE5cAy5YqGA5lt6qVqaG46zxM3trnHvOraEuO+Xx8PMHME22kxc50p2ydG/34Faa1c3Ly8PAQGtXDw8PJ6d25+k1+9jKn2PU5R4oGpqePbfe/pk0aXbe91Vv1nm5uF7eCYL6Pe3uAofS5CyVXqmiGL0cE7N8jMZOvoaajpaertpP0MHa03e3hfE9P/G3TcYdCCzpN2/FSz88T8jObZ8O4gR1lib/dJrm7W7UBGEObBC6MUQqlmLzLvIKpkjRD3IO6S/JvpnuzGS5U14SlDltoc/uHYPIzArnWUf/EnZQMCyJSx60pumhjzIvJaUo5zFROHuvjspt/fKLKmTANAM+uohf6aL2WhW7BEUK47uppPUUMdtN33+uto+J8uhdjyTMFAQy/u932OI/fBldZHFDsvwiTmyRpqiZKmLUrMH2L7run+1gvPcxuuyo583EHBPuP6bX8lsRJOYT401/vSeJQ7gAHeJ0EcnHQxVi8Eo/iDHQ59z+Oac+Py1Ri07F1u6rhmZKIJ9bIB4d0wS/fUviFPAG3ZdbJge+FEbJyROphNvNyf9f4tfPOcmtsiqFGy6MXo0x1lAoBtBcLIYQUw5XPzRhL5f+VCsDQdxllFs1Z7CZuTXUbACIRueE0TC46LP/fU9ZCkB/8drg/dv9aZBbaWvPtR9sc3vjpz/ElgXkOPtyds1X0XYwcZN7BVGc4VqtawHa+Lc3wAhwHUc7qLvbNPxCAosMqiGJMThaptRjkXd8de9wuUavBQ2hbXqp/Wp73xLqKy8tlBuuIqS7unGbJ/e7/atsh/zCnsnKjxAqapp9+fisMxthhmv5KBQC3tY192nbnFu21P2w5qhoAERC7icEqJjdtWoCx4a6/JT7kiTnJgq+Po4wzE/SywLzHTlxpUnmOGwlWx/Xstu3AFfe4UwT7JlZtnK80jrCQ2hxSyAO/qREN97gBse0UDHlgaoaCTf9nE4DwVEuGIeO/kwtQ/VkVG/dEeU+tuQgjsqv5cZ8NAG6/e9Az6bHjDi2MYUrP3gHAe2ftEGWYHLVpAcXDMZjFB+x70e3t/423bIp5mWKWeS8evnZm2/U8YSRsyk+Z8eW3bLI87GHSpYCrRtBDcDlZx9/iruttp5TiYXjnC5s3T5ypApxjNv+m+ogufaGU6z83KcgL+rVTfn2+Or+muwaQ+n34hrdkcetyn9poMah5t9m1YxmqrJPzPVksFm4b3Hphc7E4SEMN3eeD2l10OcaITCdiYGuxbAC127Vn2Jn4lHfu8q+uqdt4bHnWtgDy5mwskY+eyeq41NmM+t7H+x+it4PdtJ2RohUHO8UtPSD7J17a96Xnf/sfyHosw9FHITVhvEHhGF+sxrFdV4ps2+SU7Z7upiN2K4fMop87UnvXMX97iZaHUQ8AVEvOegeR753S0dbbixZ1UCd+wPGK3UT3ynmASws74RPTyMr6zdE93YJXaJ8P+9DVfmse372QTJ/tSwX6vbG/km7M1ofe2F81IOUaBzh/WC8lM4NxaPjyrfYRr/qKxdMQLtx/GC+pbscYy1iCiBP/QNDy6Yck47AKR665T31GbWVIVbYAQISXaHQeTJbTxtP1RB4kMov5xxNCiMTL7WM3Vzz6lEe4fjoZMaBDuTfmNy/bdd6qxgVK+Xn4ixXn6lHs3avVDhfcWLHEG92mZpMR029uXbF2s8JZ0bEQ+bH1Enh9G6Kg6anRkxOpTjwQfZZOgul3eyQn/WMObuubzb22JIfrHKtQAF1pJaC52ofuPG2hHepEnYs8oo3cSEuTAa18bxSLsnOLaQAC48RiCgDQ/RgjshMT7WeXgcgDoEtzEwNKu3uu3E4O+dU1Q5vsDUt6NzW/nRqwyU78SyxIFELDZPocmKiTLztxi+ToZTbMGN7T5vDoWPirdSsv/Rlnf1yctZqEjLJ2cBpytlLPevWODx68e9hHHzV7mPnH2gm/p0yZMmX6n//oo7KDB1+olyez0hinxIB0HQlWp2eHnc1cWvPAuAm9PCwiDSoYr34CEErUXw5o73cLeJuH6ispbdsB4Eo/yAOOdikTlZAY4JwdYAtgBQUDaFeSJugBviZ18+KBFx2OjgWALtkMbm/UZXsAWG8e4SIyxpg+82beY+GOEOxy+pbObnjyF0qu+M29418wYKnKAEFXIkksKUHkY6LXEE/7ygr5RP8NbaPJ+QxmZWKvYg13FV9YZPT4RVPH6MgUHNLhjdbNl/QrvviYSxLE1upt3spjHtu8nxEsRiQARG+ikQnAnjxuv1kP5OgsA+DY09oGTEn3NwH43EcOADJKUi8AmEi9ASC0UthQxlWW8NvcmoEZZB5xRy9GlNSLjDFGFMxDdCZWZiFuOQJAnCP2FuveQtuhKhl3mednt5IK7mLDSj/yxa+nA+BJ3ItU9M8RtQpqmOhVsdeQkygmSwCf6qiAjtGEVPYGWZGWMNQrYDbscoWXp8uhjseqvTPrwLZfMcrpRztkZ1tbW/taWVnpjCHFysrN2to9O7tP4tGqjc6MbFXB5sX6Lo7OCgnE3MrNUD2AMSyQvgT19gdUd1NTH/CF+0E4APKQl2ouF4dHKzn8LvOLXIi+zKxiEPS9t8UT24JZQKhuR6Vl6Nbu8SOvRGYVmu5N2sY1I54ycnEHCE9bdHbEQKIKE68XMb5WIJFsYUanRIru0Y/zTFfFgMcyDxF6tmvX5eKE09OnTy9bvXr16lNqVhZ+W/Xq1asHLZw+/eWLFxe4tHuCg8nWd0BB3QwFgKREmozYumONIh104MI7Sf+hOFy06tPYPANEXuCnIjLFwhgjiiV5UuI1IkmEEG7eyiv2SwaekczPmubJnHomNKOwpZQs245mCSMzEGsWcfAIKibmeYQlQgBEYxkExGuhnn93prgWzsiczFX4NJiueg+tdCUMAFCR9rt6r/6OEaSNRxWJ5iEWbSi9gvnFSQDAe/8RY4uHMaZXxSYaHamWP3p5ZwhV6wxub1WqDHHqHt982VWesoWZjBQVqvCmd1OdyVy9o56hzcp7FUuDTq2GoCJqTmJ3jC9pzlfDxK3fCrEsuxaS4u4SN27SDBlqIWJE7fdplmgRMWLEt/ffxCY2sYlnOxrzwp133nnnK5oGgE+8Ehlx8JsoyZSveU50Xos+Q7+Uj/SMR/+pzxx+bTKMkGV9igPEY0E2/Z0E8XHKlevdDnkZdKio0BUGUGNYor64hDdHNCEGJSO+je4M4xYvCb3JDv/UIGdIabjc+ckTt2vVYyc5qac/V5uIjctGOcObQcrx+iPzvfuuA8Z1/Oy3JuKVRaydyGGSmJAYQuyzAbqQzkEsJKslLwV0t2da9nV0iJTXaZXUy3z3la5U50aCB89tD4lOcxZvtbLIpgAVLq/HoCrx42zAfDJIt7JOklF20GWIi8so6mkrPkIIKYYrn1ul/wWHfT0dPInrD38CHwlgjPk6ESWI8ruqbHe5cmaISoQ2MDaP8/Rdz5Iky3/bnays5ZafK126Fsc46dLd8B/YrwmnYONJunTpRpYhSbpBy7lb7k1a2VH6LaXpgnQOXwcw1idSnHFbp6xz0RLyby55CBc9k0iv+hJYaOHWB5nQ9S3G04QJmpiIEs+Fe9JFEK8tJnRo4mzaqNlrLFDAOaS3J0Tt2SqzZJzChQtnNYv0M0ei/COkz7lay5i7dPWTLKjhpD7JC2rDcif9FFfoHb9MN2ptOWOS36VTV0zm+PCdtIwzh3i9q/lNeAYubgAunym+RBgd4v+0QQy/8l5IRXdqDA9lF16tpTnoCG2c6+8vX4BbZJ+3f3XiNoAe5iDlXcBr2ajk8d/+jZ6tgdYCZyimhYjtM2TI8GAXutCFErxH2LBhibeSJUuW7JU/hLlU8zS6tdZqNZVP93T5NDTtv6EhffFcoWEr0d5M6/XbsBglnAFZ+56PQeCZuGlg/fZRq9LPMAqTuubp8/vOUNS6KtqOTvR1Rl26jTE3LPEi47dYDzkEwPYUuY1//oFlS2nM6XbPHpzbiYDP8Wd5sdsuik90eL6iq7ffOJUajpdvK1w8vcQI9XLJl72WxVft6TR7GfnHqYC09GHmpJEKtGpP3AupEJ3WO6Q9ERaIlDR78FhVhz7Np73YRy8+HLmSLJQ9t9iaoESHpSbVQm1mc2i7gCewK6JY3E8iPghc660ktYDRxMOQRFigWPaosTYSOvTRjhX+82/zNtvIn/8MRPS+7itC4sSJczg5OTn5MhPPYaL0JLRAqkPXks49U++U/+pzbPSi4ykeduJbGparEouxeXzpK8tu/8O8oA01IxlPF9t4NOyWCkkAZBWzbwhr3bLYUetCWzseGBO2eq7S68TKsHoxgU/V/1LJkne0lCS0XHb06MbH5ECv1jdG/ehyu4L+ye/pqzBNmnOSJQl/rOWCBUO9hHNcsKDhVj+tiOSe0zctMVKC97g8Lz8jdrng0XHA43k+9XitdOmyALAg1q0muUSZ1q+WQETzDcdslJj6TJnaaqut5RObTXy0ttpq66Y28UzEJKLnhosQT8+DyGZSqw9EjK/BBoDZtiZnvGDLAPHVWbxhtH3KnB0mIBKzS/ZMRJ8Nx59HYibJJrDtfpkRV/XjcpIckFIeeo4NUf9dRMdXMtILixhK5PVo8eILVBCy9CqOoQ35FtMVAPy7NHhYCf2xB8NhGx0dHR0oSYtmJqsco6Ojo7+tUmVER0dHe2oBaBY02BWOoaW0MP7ZGm/8Ca7GzCghz7SYHDJE5XI4kaz6aYXRNyf18WMhehH5DQumI0bqVSSRhpkcXlmh/cX7twW0xYjkGyXXSIsp9XWaOCOTgfqERGwxOe0BtdsdTcJC8UYJahU2RNDh0ZI97q7WHoiIBM3IpJHhaZt25AG+zYYba78Xou7Psbmp2WWVvkgY0f/TaJiV+w4Zco3mYgUlhUj/osSyA5BeIKqaIUz9kmT9CUTOa3+NCKSynSaK5/kAd/zz7kgNwLUBoltmjfTJYq9mienE7wBg3mMZnEz3eKMFCkQvnIno0JyeSfcciEdlP36C1rjJVQ8V9WsFdWAQO4gyMka7aiHMzCkAYCsSUpkz9h9XIzvQ1d2K7hNC8uVEitsuOqCJCIDjJo3nQ01iBjFdCwBYXGjLRKOEXIOoTsy46wwKAIYPG7ldxZ03Xi2rCRSPST/tnuOICYtw06qb0pcDaYe2gvpVwPfIKjseL1jl6ivXXXJKnrRV2DRzb7KkUUmqJxcUatfcLOJ5u+pHJnWYAVBY1BqeaBw3IUcgMgu+9pE6dHUE4FDVALLS9vx4Y7cMEM2ZTAwMNHDTK0Xpw/LkE3rhpMlPi07vbG8STvn9oJq/bwVFjAcUNcRPKJLh7iHklRv2cQkL8AhRDiH2uumsf8oqfU7JaxcDtEkXvxW9xuhRm1I+4QUUvPCA2cTz/CHueVByr2oAsKj6poghtfvKPSKDqHKKjwgcCYLFS5E/sucAx5u0ZYBoLBvM1owcv836BFugh4eHR7hUGG2pJlUY/qXHn+CEcXxzRrToTty2Q/ucgSoAgDix+BwiMFQPYAxzc2yTj+jOmUoBay+lrCz8FHJKnKIAgGPRzRTQFEHFxtDnLdm+M7BaLiH0g+btuPdhV0GPHe53Je8BAdqx03esW6AyVXi+4qv+H/df9m6pBrREmLYoES9BVPFykVOa2JmJ+osn9m2kVU8Abuvrt4xQIreuDHgml0Pnyt48dWrTYd5sMwf0zOzdUi9E9F1TU8YzMpaq2xuEKN4ogAaJLh9lK01MYFwbhcaNQBItG2RpkphIA4DzB5xiKy5S8VR4Rrt2HpZSAXpnPwsOZpY+dlCxLl8AaLWDy5O7i2bwuSulzwmewTXb79lf0HeqDN9bJvfUX7JAy9A83/ZLi79yaSCbY5Upv/3wopJ1LUwXwRnYGGfdvYkbhObe2acR/cJ1Kndczkd0IOZdIguEmu+jTBnV/AlexLKNxI0SvcUbCQm5idanQaBXyVttISyn30cs/h+1/r2cEE93yRaJv4ZlxfFZWhNTb+9fplBKpROk1LLnXUzLzkiKIbXsquSjMbOdRQCwqXUN2XykwKw3jdOnNSPWBxMGIC0lNdSvQQPYZ/Wk8RpG/M4YCPLPnXkMkK8KGPMfMp5PvF8LaZkbWJ7KNyUN+FbVlIkqU4fn7ea+0pbmeypbNQAUIE5+wD11cHCidBgrlRzQu/i8CxF93BjEAeJIEC0A9dcRy1ccvFxs2veHeZHLNgMtISqoNxpcAugXOwr65tTDUqGAa2ywt9BD2HY/ThR8dz8WvYU9TMyJyQTLyXglSdCynXSvOQsIA2yCv7V/4/GCVFWbU031LEnuVkYRxd4aEhtpslZpQeScDkqTn6GobwDgKnSQCeJj4npoACjX0yV7oMbZ/Y8D0I5i+V2ZXwfA9yOHDFNIaHn3Xdb99Fc3QLh3k/dELCd6lmg8uQxTdZqEaP8hb7aBtBCua2VOZU+51oSSF6ts4zURXdOKwH4zOZzg2bjzbR1hxIUCjBotEttL3iwm1JJDZ7TZ7kqTdmNQT0IIKYYZU5LkZPmyG9grDKHpVEICxO6/jxOU1CigGpgrKOoTaL6gK6gHgCYM2fotex965ZVXihCNMCkfgOITG/HwvLL8+6Fjm6HZjaQRELTPTaT2/x7P1k64EDLHkCohRYx9icDBXBUQbtsL2WyQSV+lAY4Xt1ziG/9oWi1nS+48EiZGviPqOQ+AZ8omEupEK1ZPUeSVTGn6ypSZBXQpOgiC8mYHX2WxLam+U1q+nPuDEOKxomer3Mvey6SkhFkT4hL0C3B2U5nL/IP7r7ab0jlAqKcN8SBk8BqINS94hubJKzi5xvVTEInipkjQL/lMWhPtosQrRS+W3tYTgmrLkrDk8w5PJmihUvvxkiiX4DqerF3YZoZ5AzDU/wMFzmVojWA/qB2bxK9UAe9DAp6O/sMFjrkYAP6J93Tqvt92fArQ+2VxbDk6FmgZIWGR2q4FnB9911slqqI/DU8KtepyJC5sd2zycXFn/ZKK9GuzhTy/qvKqpZhYCxhnxQbp6EUiBBk4W0HokqguorGvuUMrRH9KXMDivJO2+bR0yM4lTIGwWwI5dt6kRIVZ25IgvFDkbW5hqDIgWVlxGDde4dTjNzdyW7SFFt+AJpFXghQWxzfzfRG1nuq6/Bcf44DNHYnyS0SHiT92vpdscazT/t4CHC+xRwC+RP6gAtHdbHUv+IPPm3tb2fY337rKXhjVxS9m3sXif8/+HrtbXw5gkdVef2DJzoG5ZbBscpDo9vZl23H1P2xb7imGZvG2uk2ujyroCXDe93Y7iqwL+d2WnhZViATABHywmspr9hE/LoacXT6latm3bpJKtWxUyfL+t4+RLSg34d7ucNHzma7ViqpyIepXIdb1GJV22EOTjJtYSa6V6Wz0zMx2EGIy3diYxbI11ZRdpYBPhMucBmFNPXnqFBVe9ZO3Mc7QZQDZx010W4q7qWGkjT0RRqqRuJqbOJtvu803/1PDh/80/08Smi2R4MG/5JOEzi98+PDESmJb881HuZXLpwxSYyQiz95bCyPVhbfUSo9w1DKzoLHZ59c/46v4/AKeRA9hAH85FLuFlhZjWA55SwrPn3/08aeU/8XRPrWEkPb9yIlYDEvsJthrsrqpGfYHwqopE0Im6a7xektvUo+19NF6v7OSijIkBcdsNyQ4X4665AmP4lXJYcGMiV+drV7jbSyaP8hey5IkhJwtQlJy0rIpIou/lt5ZYcusRENDOXCTG8mN9EKZeqVK3PQqEzPMeOO92Ll+vYwz7zkYYUed3835MBMqiX8oSn2y/RRemO0pbp14NnUTboGVephUiLWVfItzLAnJZoXR7i89ufl511jLwFOanPrq1pBuXffzbO88QBmUDFsuM35bXAt+vFQOauST9LWU9Jf1AH5gVATwW2gSAO116icE4NqbRfW9wcMkAA5HMXrZTZ0GSM/TIhkQTmpvMO9ju+j2z3EA4g+qB9gDMeR7LYJHambUYTPN8j1mYUYHl6+bm14h2pkf5a7SRS9O+tSXHjYxUwBAUgtiU1gW/i9FZiZXEjSTKGDgWggTMZVGxzKcd1qXwZ5MauQlRPxOqurJ0uaYSYmFtd6FdAh/jYYW3cQGf+i4ZNTS0lJu/emj1ZzeungcS0sHW1tztWh0tra2tpaWlh7Wa329mkuSvqbk7GFIch0zZlnVFCdyPS20V8nxUtzfAEQbGUZzffAzyc0EW+3ol4QDaZWL6IHf1ScfAPwGOiBU7BSW1FE/aSsAhOZnDGq7KQLALqpqIdQnLIrhuv8bAFQFdZVKAW3IwRWAbJn65HfVyA8A0i5N8iCuIZKvvdyxdnZYaaX4BNb+p31rmwXNRwHCfndeey5b8HyKelmkUPYDdD3zMr45ZKA9LHuroybrAWkQDQb0f0et+0KIFqq8gy1NCrEbccY20mTS+qc9e57Q1Dtu+yMNNzzCNLUHwYHNEUqJYOl5oT0IHdo03HDDI7NxSb31rmraMx2b+fEyM9ScAOIVGTZvdFwqs9nIB+hoBXD1Jw8CoFrrDMRvWCmaVXSTghE9hCF18QZkpdqLZuiYIWMZaDiGWknRhoIBwD6IlnxX7bOBeOPTaG62ilBVOSuH/Ubfei7i4zh0JZkJFEEmRL88OXAzVciS0QpGfLfEmWCuIvf+AOBSlKrrAf17+ScA2J5IQw6Xtz1diVba+iBHJumK3lPh2soGekDViBaKH7EShgXJDpMr62pI8JoBjpfhG7w4QuaQR2hpTTPk2lmX5GDyOdZVrtJNNHWpKIQB+Nj+n/a4LJq3olq8yOJdlCrKv2v3CfCceHaD2ZDLA017PeMbEt7C2SbWBJBj9yyZ+CDt15sNtCzsijQnkGsMPqme3VwegH7hTg0A3n+GWlfdnwfQ5Wz6tXj/VQP3KgGozkdR3MpNJfJRXNnyQJmpaiLS3Z0G8C43q5dLeHEjeirwg2ZkMkseKssdN1wojFzCcXLq67wmhgfA2c6qeiUWzUXzBh2UCqVoVrWJLfqLZjrlL8Vi0Y2OSMQgxp8CjmiwemqAjJRAEm62huoBjGHhmtEZiL2ihNnw3qnndecaw7/wlddea/V7vQCEHAKAMg1ee+2114ofkwAIWXdh/+d3RIOVe6Ti/vUPKvYGPQqm17DxhZb9LgDo2OC1115rEC1ujWfA603SOFyKIwCf5iufXrHSjSx+cygARO9veoiD6HqGCxPZdWoFCUT1ppXuhKCyWjFwOj1A24OsnihtYRuuSe7OaSHJX6LR3MyVYOyG8FgIKQ33BwwSsPP+35HDRLJiv4cWH+XH3Y5SGBnujcmnkOFUqdIAFQB9e3U1QGS7KXgFL0R362V6iOyDFjSRZ+TYFHACYiB2D9BuKyjytedKU1mklk/SMzhD7GU6Ehv7JCeE3DYih8GgZOF8ykc4atnkSRERjva8UbQWERHJehZpeISfa4LMFDHkNGgRU5nFiG7FUPhbcLbK3xnahw8jp/T3R5H7UAAIP0gnjCGXlfpIpCBpD9oM0bkuopskjK12lzK+e2eOFsarX8UelY+PCwGQ3KTiHNpSseIsH0GOC3tXr7j5y1kM7es9gj5dtM6L0a5riS9+zxu55xohfNyA9pc6v/wkAH33X98+aPCAN42tn5Of/L7vn8bFYpirqvKpBehzInO0FPt3QAEixuQU/OzolJxhuZLG+2hCKkylzT5bpbhGtzH8K1JZHgjcr7bu56oJLx1FGxK0ByjPWKXsg0LUtt1cn2QrdWP7jts5vE43JwBo4657RQ/o9/b5RAqsoGCe0YMG8M+d4ENblyhmmTEy4BZvHqro1GW0LTXVQyvA//J+P8uMWZljASQvGb42OX5f1D4lEHG9zjTXkCop1y2F4aMvlM5IPtQ0/aQEmNCzWnJ4GbsqxiaEkGK48lUVO0Fa6EqXGQ0ncx/xdDFwfkEm0/9+YbRRFWaGiVQcrDtIXehAoYKfUv7djTn9DBooA+B5nQbLAAztSSnXB3QeHUeLbPy7OJHd7t7LSrvFffpegv9ssrtcuT6kf4cSHQGo7u2zJZe/3KbpSBWAhRSXASB5PNWMfO6ET6NsRwCyT9XjLQCgLp2BsHOt5wFQ5hsL8DvizgFoTLQA2oW6AQBSO8Q1FiZy868xAPyKAKcTvObCcgtA+nxB8wcii5jSKnRlSQWn5F52ox5reBLfZpZt5DUZcp7S7PbM9mZLGuzgvrSw4UTimLeVfoc/X6fRsHPote54ncrnvQFu7QsO7mffmtsz30Uv7smXE93D3gtxuZTYJBnSNnPcB17lLFbtq1NnVkMVELui29TjnZctVgCuMYPr7N/RhdszfXydC62KPSeAVBU0p0kzv7lV060HAL5wsHU1XgQTaLQWQP9zgJfDIiWAQLuAtUgo63Y3AM866cWFaZn4gEaj0fQaqP5LEue272fxwGNvmT8wF2KFDXRzmuT5ca0UQ7ftADVEYLK9xzLmonXWsgGeHhLgGU8ZROyVoYHKE6yy8rEAXD3BlHtIYFSv8q4QWyu3Be5w8fOYTnJp80poRB8y4LyJhqtEsCfO7eQeHhJX4K9TFS0A+CfxQLvijoCsS1HhqtDw0aNHj87XbeUSRcIMajvTHwgxh2BeT2cD9EhGK4W4VQtJzQHi7/hMnpn5uweG9bJC43ylcYS5t5tDV1i4yuSQIILYJlFWS9fl4AGspn56hmB5hRLNKwk3nF6PYP+zUtQaQiVLjNXCPIL5EOODA4ZTT9bCc6dZ2sRsyTp43tBW9LPNnWROUEqgnsHaNbSOBSeJNCJAQoWDvilh8wzADFoiFyakU52FqYH7hWtLkyEklzXYQe2ez9vYRui660qsZMqtazFWxVkUQHdlaAnFlRoakXwFYP/wRHkm89XNDCHxe/QNOlaiJWxlqYVEFOC9x52l7Dfl2EdVn2RTAd77Fi0AkgoZZbcwQGy11m403tK4pgCApLqXhihHvEZc08K8t/IdW+dCFd1Kb9kBWuJqZe/CvmGDP9OUTnEsTehVrQgkKkAbOkO3NBC1yaoGi76BJu2OGzdwRttM9VJ5RuzMWL0G4GT3xaWvMp9gzCUisQOA2ytMalJzndSvUrakARRvTbTWM9N1JH2csW9lOEDN5oW6lJLBkG5Lf5sXwdaOABDqRPWxgKi3KwDpxdIon50YAaNNTnHbrWDUOqz1+l0A4H+GlphXMJb4yhk8oetOrjitm9VwmfC39jhfoYYncf3ZEuuZPGy7RmRpRKU4Ze5rTqs1w14qLdtM6/zXNLf6wTRLC6B80RccAWA3NReqzUQNAPmaFu2gHKVO3+wtszxdNRAuVunvqLgnF6+JelMSD8URlvKTyL35Y2nJ21u3xOPbngDA3eO2zvyCsbhPl1ILmC33VQpxlYpmIjZw8QBQgEgQMQ2TjyRbAphWjcTo+IwHvcb181ixVQ9gDHPTT87/E95KgGvdpVkAkLaf6umFWZH9kg/0249eswd/rB6R28CSwQ9wCB9OJTc+37ziKfX4frWQNJwGJACwWUOUbrcmrhkQ0rbmXB6On1/pYZ7BQkQMDACuZWdyw0nsxnMr3xEAEMlfF4LJS3XS4bF+ruHFJswDQA8B9o23hL364bbmLQEYyuwOIKuRr/QSVOao0wsT/87PuTscgLZUUSIqOdkf0F9sQdRib8gAXZ9O0q2zsqlSq1RAemKTjujoX5cAIXXWDAz6sHWjYzDXYMx3V8RmIgCgO+rvXHWb3CLU4r5T90UNgEjfdZUaJj9Vhscggx9r99cYoziYPhkbPF29JNI7AOT1R2wPhIhd05RbT9gkg127Z0RDJViTJ2zwB2TboyH803kbL/AHAE2SPv5i40Ew/mYuc5m7f0K7Q+lwjHn9usIAYLh4mTKeaY87/LXLhHtYACDu/aJ2vJg8le3pFTilGnAa5Can/wMnOl7XYBej/L99URpNLtxK3eKY9VIMVz63Y/p3yRY2nz2g7jx2NET5ljO4QvLvD8cc+w1AzBwAEHlNEm8RzxH59EzuOK8y1DV3VfBQg1SFh3aK0eHob0jjDS0w/8FHS+MGAOmro2K6Q7EUSK6hAg3cit2KRDD+Y+RyBgC33mXQGatV6ifPKrlDj3IavgkdALi+OjEsM5O7NueKBGbxOjbPqX8u/qEyaxePndLMZz8uf6Dn+kLCWNvClEZKWrYouZE9t5K3QmGqmoh6x8pCpD0BdZqSsPIxzrRuxmMnh2Ztf7j82/0wpE/zFW4AiIdEUPXiq4mtZ/LXnaT9UsTpVps5kg8AhJtzpPlXPvyZB5972qi5NJpT5i4XyXGJ3fxcxGPscgMkcYbcJ+uKGUf9pvLkkyFVTgO3qjfcYCPxD22+zOmtRgS9iA7Exx3mhaDlHldzw/utS674xXy471NmqoLQqIGJ14rEY6J3J3dy1mDMRD1S1NhXnTUSjM2zXnZ9ssv87NWaWc5b89h1uK9mZrjA0ZL13M7B3WA8WTK2ROpeaQGNjenOrfxXGkeoYN1qdqfI4Ss6xojsuESbGLWGtAEAy5voowxu2p22VWyp/WSen3v4Cm5CNuz0Jz0VMx0AraPFha7cbGYVE707OdAWeta+puOcG1KRfOgz0MklSBc2vQ+Y4ZIc83hn6vlDjv/89DNM5hBVk8vOSTEedv65kofInPi0+xthVwe6ypee85gh04DtE69Y1sKF8tPi5hePbMP1A1XQqY5whM1qCqXSoaLC/jTNikFQlYiYvNQmLSBU18rKh22nfaTpTwqZlWIbu/+Ow7cypqQYIJy4UEMDxMAITLyhKHpWgPy0gLEO5NXy0pRU7axxbGHiLLs70ZQPycn7qnugV+YNmXw2y0itWPiXrmvuqw++bRb8+EO0e7YPOdxV5l8LMCUJ841KmXSZdoxG40px/UIVNAUAJNWp4PmVxMAwYmGMOQUiehDxwEQI4eYLnm8pGLSMzCYqzciaADe9G//UfY1S0ms8rDmEOxKHwzZKNC6oYmIORKqJoFXkQSlanG7ITnv4bipLb4yx4dbF+tndOW/a+kKJM2c+XLeu064JzAUuqex5bSYwK0w99dRb5xrX2EPDR9j1Yudc8sqVAVMXK1Ht36YdDS3aftupvLj+oZUE4FhDtjDiYYyprJLfKLEkQfTg9hBUG2zd0vc6A5Vkl5nY3d/V6qm8LikKP+Pb29V+6DZHP0NN/6S3sXSzNaghaJ+SOEjsORbRk6iS0UXPxKyJsIakntA+THcv+5x+i8/73/8rzbVUZ5nuo0fyhMl1KSkpbr7MKGuBN/iyuhUvXjwPTOlTMmX3VFLnuevJPyLNGZpc/RLZezlwPcUIL+T11vWzzW3VYP6BOiBIY4HEJfzmqiNGfFprOe1hXLNT9l5ufXkvOjSpe4wzwZnUxJyezcIkp9D0J/JKx2ujnRHJizb83059ym4GxvUmUq192kMRbRpXMUlMeJs1EA+B0f4Z7WTSwNz9jrLbCX4FbW+Lzv94S5M1WYxFPNOXmIzyfrz3ti5LK2Zsmaa2nzd3BK73aPjUdaTdbvNNj5uL2/Sva0XBWs+1xfQ62Gwk0/lcJIAx5uKVtbm3v6NXL5olbY3OnjA2T5rGVkly8AHbKwkHLTnnLi2DkaFLSy3VPbYRPNftTv2MXFVLgnsYpgxdWhrUnPvcK3ONtqOarT2uzxZGelokvXyU7RIr7ygbEe3Uy4VJpD7oE86HCAG3u5zw9S3yztignH7pCpAsWjd1z0STKfDP/eYRR6Qd30RJ8npSG1snqX+N/DoHPvCBNxEz5ob/z83FLWhdUyqvjPYGri9psAOwQapE3WwdALa5dahc8JjgKCc6A4oDgAxryC8RRteU6KlWQSw9IKW0lDojlF2MOLJd4qvdJSNGRTxfCCbJIYh+rTkCOOiIpLaA1zJH0IM19AqgvUOpm/sEQMZ8OhbPz/hK9BYOgGO+H0dErSRHaGDc3AkGI++PHu0vtTUNZY06c8rkkQpY5M3r7ejoqBWVo6NjyLx5iTBSpKTZo9fxHuv5fGLwghPNI0IqHybZqlQbboYItFB3Hes+TeqAZ4ruUwGsnZdF3XS817Os7yPlkqPOxfNtjs5uuXMCgAiX30adEmXaZNmJp/JXGbOKzydmL37xu/s4wRsidmzAyAQfJ3R+i1/8KohuMbPV/jJWTGo11Tw3kQKg7h7KkUMHPEFTc3ycsECao6kbIYTU389dB+OVlW7hlAC0xNW33oyX1JghkS9oDiNTMRmpanZ2fzskgM5jle1XfLwpuzG7BzClt8qR6v83rnxOxvN8oXHchtKrAa0FsSpmBF/ZIGP1QYl6xIxgWgC2PcPQpgklb6RxXIIGTeWgx5avVjhvit5KqxxJbSTS2Xi+oQnI8boKACBC4qcYRcJwDN/zPdBS0wKA7XxHNlO/ABfwjCnEae2ftIa2wi51qXf9ty/7K2hMKD21oH9lzc8eUXuJGELFvjsHEJJV+s2ojQ7H869Rz4jkd6cH4NlqlBgliOrxOELCxO/zGNt1dQRQ+AeXIZOya/rxxm4Z+Dhic9pIeW0g1Cdsyep+DSnmCdJD435b6Fn1vsMYoWKdHpeR9v8mxVUO5Todz/MzvQnYuh9BDQDeX9mAf7NOck8VgehHvEUkiRCCZqXLqKeJABfwjO+++6NClPHmrL8bPTTOpWGSVs0Mfn24rb16DQcddD2er+RmcP+ozHQ/cdQA7GNV3VgVeVJllFOad+mUiH1+riyRFADcui79xChnGta6kjfpNfslBkBrX2M+Yg8Rr6ydBZ9hnwN8XQ9lUsYDuqLiljPpoU3wz0s2Me0kHuqk9C8pDoDuBOl+ghXcOGaw8sjWENrqhdp6o11txVfeuAT6jx28+mdDqO1RB5LRztV4kQaYYY8BSPCr1h6PGTMnDYu6RDFgoerJTf+MG/WWige/U669fdTJo9MYgJRfZbAc4Hn3eh5pRLKXOF9b1AAQMvgfTUC89VRZrVw0ejmgcrGKQPSMEZo4GEQLADrbak86QYlc0fCi3v0RgeqYSYO6oRX0nw9AWWMa9M4epcND7f2vgO+bVo3cJCQAnwZCccsCoa13PPTZS7VdAoy8fDOdEIN3laSgr+xSFSSere5xjxX68hCuW18dxxuNTeuUvFhbBojGJuKc56YjCwGTtaZ3NkpWAMWPu13URzW8jyx1Ka5bRYf1JE88PM+HmtrUO6IZwJQEgwAARfZgFyJyP40YRDSqSeboM9/oQ33at79QkzXaQLjtPi75rSZuM5wAx4tbVDzC11UH1LmAvhlJe4f8RKetBrUh/C8ZDWl/iOtYKWHWhNh4nveza7PtcciQ50Z6Ia10IWoIKrydiTAt8fvDH5iihl48ePZUmRRE5HhlzrPiZttolFjx6sRfUXlnbwUE1Z1HtF6lZCzov1beZmplwJNAkXGHofsE2cbqV8+Mk3s9soq5P94JNVEVpYUQ4j2Ktnauxi68dK2oMGtbEoSnrnQS0+5wpIzc5cfC2GkHXaJ3UtGhlWZc6sPar6WbRBJDFM7zMkTz+r6k0QdaDLHmEhf6gHyRYOxW+ihlyLBljDNZq9+Pl9j+ByD6iIbzebsHSB1Bz4zX0gyApj9FqMfML0uyn84lhPQyVhAND+KWGXK/iq7yGdx3HqOc9yZ7kWjdioeDGkYqnFstlj1WWuLkZy+8tZ11Fr6TTjrxb0eEP6eTTjr5tF+0s50Ryc/+7HxpYyUtVsDZEUYbOg/rA/RAXnHAGYqMc6Y8M7zKUwQ4XqKHMIC/qFw+KSm6+s0k1jMztE3JYcM+0cdqWoQQdV2yr0NVyU4YxpsRdRhmaUbiYZiNOMkyD8OcNpcs1zDsorJqKD0MM7PMrsthmIllHt7DML09ZJmHYTZiJys6DNtDCOFR86V7uzVC5snyIlRTL52S+jZLdhpTlzFmpdc7LhtFhjGL/W99wod1J5DuOL9s21+wvMHKcGe0MwH7+xUcL53XEANz6cQG47amZ8Z5ukYpbjs+0jGpSoiB1g7CbZhbZktMzaiCaZhTMi4wDfM+KS3bzTTMPRxE9sHTME9xEtkgR5mGeQjZjjjkNMzf6CSEeE/ONg3zUSgn62sa5i+ZRHaOU0zDLCqEKDolmLcuvNpyIzHXoGrqK1F8pVIitNCM75zTslVPei42mlnQIKW09Bk9inXxNHE6L25uDgaDwSAStcFgMHdwc3u7OHHSWG/pp/QlpWbQMpQZ9ey5isWdZnpWfyh3Xor7K0BEkbHMuTw9r+qlb8YjFOFSJ2m4dFLSPnQrmHtgHBLM8zD2D+bFJ5E9FmCuh4FkJwRz+oPKRr8ZwDy5bPjzg7krOyFE5kuBeanSssODuQlmk+3HGcyoQoiq2ScrEkVy3eyuMc8tSJNJC03HIl+ho47GOi222GKLi12lCK8xvGmxxRFlDNZRRxO8yJH/Ei87v2+fBcgvOlaiNuCH9M7Yz+a0Oj3rLs3SR/nWTKz1tRSUb7OBtbGWHX8qWLBgwUcxsNbV+pJ1BQsWLPjydaxKbY9bX7BgwYLbrdlgC+tRDQULFiz4prU338x6KOPOPxYsWPBdq3+emXUn5rerLliwYMGHN7I22rL9moIFCxZ8DIMx71xdsGBB6cPTayu2ArCdYS9t62g7wtfK4MVPZsjlDfYECJlDDFZ0Amgirn5a0rSsDWXFkm/yKqvS2ljym7vAWqP2RQNjxYoV69aOsyrR3d/yWLFixXqQxawKm283LlasWLGefvbqqlm3Hh8rVqxYVYSspYR1i+eqGh0rVqzt/bS+h6z//1UDYsWKFetWTrP+02ecFStWrFi3pazAynqTCbFixTIaeW+RFWkRltJoQV4Scx2tiA322AyHUy7XDYHDiIHV3QlKLmXQSzPYZwgY8Ju67bZTLi/fLZMSuZyiumXSyXScc95yt8yR++Wc8xa7ZU5M0zjnPF8D3TL/HOec575Yt8ye3Dnn9oftlnnYTJxzPkC3zL+dj3POaXrv3TJzcs55zC8k33TuBq5h85XBMZ+T10TtPiCMeURBF6VjDlfRDUCANajEkYyOAK366aXprvnKINyVz6N2V2H4vJkCe6nkuNtEzRzE2RtlYiUfKkOxfoO1Use1M8ZeOzgM7fpxtQqvHwItsfFdxJNzZE/Q/mCq4pKqWnVMIYwxl8tqUe2qOFqKoY0DiPAMTMxf6AMqSBEslXuqFBozwdiUcaQj3d+uEstoP8YYy9wk0Ke0zcncr2O6FBB3ieVM3MlqAwktB0ulSQtQKgBkY7Jc9etSAqVkesfBUpc7W4Jngq2IjR8HPkt7WVPB2M8hbgNHm4xxrjaHMNsBihLlmfhpSlacO5q1FT7Ea8Qt4F47Ss2tyrvBijnwYM0yCWy7A5BxMGsrWMZGswNxhiz1K7mT3Qu+og6OtWTWS4LfyMCy1lcwRgxqRAtdf+ThlFypoRa7FyBvAwWZZHaaHiNbZxG0fO9Z4ZZkh//anQt93wlJH+IGbVJilBOT0IFLos9k1lhwbkPrwgO6ex2ZVM55Uv/QfXcJgCJXdXomqUUyYsUFrLXg9jVUGxYo3MGYpE0ll7mHOxxE/qQa2iDEksx6JrmUhYXOYL0F5xGWiu4I6F5olHaHSq4S6mct1gNAja+eSMUkmbbDdmyDNRecE88dmAgAGF5oh+fkJHZjt//WrQBAHf88BJPsPwdUn8naC6ZpLnxOR0AdJ9zY5/1Tcwpl64sbykTTAcie4AkT6pmE5y2J8eu2/oIxVZL5BQMA8ysNJpOYQpxBucvR5+rdBgBEIjb9cycm+d3UiHGbsg6DMZfkxJDQKRWA2uPDhmZ3UZ7ZyT3lzG/uNz5g6QauD9ASYfQf8H/C6JkUxswBW/K3HoMx5pLt0x7MBgDc9jikjMPq8ZNndtO4UU8Z0iMYAMD1aIvIyqQ08L2BPVubwZjLx2x4+dktAKiL//KfVK5so/VKTil/lIUecr/Dlb6nJBQGYNPgwu8ofgg9k1ZD7bagWGs0GGP6gl9CJKp2hqD5tp/rMl9Wv1zxm85MbEYu5UiPBEKz5/pxr52QSfUAJdG79RqMsXiHedLdZVFoAcC2e+idPM4vvVp4P6XMUyr92pu4tRjuFXekAwBP4gHx+5zvzVrDpPzvV4fU1m4IapKs4t8SKeImhFv2TgYt5VruqVwFdw8yyq+9yJOb8c69lD09jAHCiUsdEuuJflmZLMw+GYrZW8fBGPMhnqpyEzsjrgoAUHucsp8yIBnWjHGukEe2KPNMfsZiI54ypZTpFRZsDuE2Gb795+9qKyomG/1SIz25WdPBGNNk9CJqPdPRHuz2InlC0OBg6dFKv3LV4c8N/+WrbOM6r6EUSuko1F4LzUzzVj1pG7+NcoYq++6L7MjD0sEcQkNmj1LDZRcxjxA+GiY7CyFe89Z3CM+R/xxXJj7f7ka0MKau6/iwOZUuq9ziNxvNnGsiNrWbe10SUsHNvf0WvrX9NoeSqw5Q+pm7rKo7gfEtot/1el6sykA+TNb+EvjUZN0H59yQM1928rzB0heeNXx1UbJqYaShcJela9LKgqvqCfoqHzqoDEfqPpcYf+WtL69PcnHXBXcL2jiFDTBmvIVIlzZ8md4ve9HmX6ZgqoRMFtcOn/NaA2K8O30xJk1v81gft7M7J05k94TUEmHG1vtr4o/RocNSdHf95nPnmnwpYA5rRNgZgzaXJP4+iZ7PvZ6nq+NRiCutWuQl7oa0URBPxOLpbZ/XokCG7Yb+H1t+7s2UIOr1S/JFUhXhWnBooB4X60ZMmDDu/yHatfP5xIK2vr0Yj/YRyyRaJ8nM5G9uWzQT2VoTDpsvI2Zt0Xomm9+O+WqwnilUDkSZV2ulSJAgQYJFjd3ljLSEecR5F2UvnyBBgqTWmQS+NzwDtENQhLj5spPbYMsfutmvO+snUEoTlEnF3XdPVXHixImT3NiJumJnjZKcPXOcOHEKd999ky010QQdOStta7bZxZdP0E20ApnsrQ0J+ueAER00nP0iddTb0+XP+ktIPUTr3aeHojspc+4cDfypEbugwBoyFLEGhF/UBwdMppmCEoUqkGHe8u/d+1gzzDfzRD4woVuaNF3PMkuWkCEHbK+99tq73InYK590WzDvjxMZu0Haa6+9CUOGXDurzFIZ06cpLjM2UspOWhiV7uT/7z96uFRFEjlY47FbqkM9OTWOIVTbzU9w2KMukdYHJp6+vU1z7bPv955ItnVO/8Q8D6faXz/DDz+IEeb/Tgw//OQDneoc/Z++t2T3wZ2zZY5xsyy5CkzsOTPljVz7UtPNHsGajhrCo4MImsRgCBxzxl9CWTUWLgZj3dzc1sttcbgyR/v4S2+H8bbL3NNmFkqtmtKT7GvwG74CL04VXCbi7TCGm5ubG9hhOxm11o4GyOtgsH6j7VlRMpSmyDnPKBT13rN2BWPTXLnvjzrFSfs/yZuTWWjeEMu9NO0+JPvddeW0VxzGRj/SJebNSw7u1mqQ8xIAuWuETJN2Osf4hWFs1+c/7p7OfMaD1BxDaPJq2CnjDfQb93S33BLTywBknaH3hQcuYo2G+1WBSZVG4mhjtjkNaXpJDwDFDz7GTY/S/1SDeGf2F9rRP/MpJ3k5Lnm4+jbMLG4AbHuprdWG8qZztx6DkxJYVlm5mx27HRLAXD1Hvu5jca0PLie08TD7eGaOfqI6wEzbav0ZHKzFqB64rNQY/LoZoLk+S/oAWMap6OXufyzJwMHsjlHXdon/IOQcMA2AsOP+sUnTGay/qBLYgLQMF0CqwpCnOfK9c9BSTyOnMERnj85t4gwA6Q/oZ/1F7cCDEaWlwN2+6HVS9wKg+DLn3Dqt5K8KkTPoUQ0xEm+HK94dTReXgdJtrL9IaIEoSSTOYbgZzw0AbnVsnj2d1kOoQs0OmOrZ+IFdrwJ2Y3ms0vwGVtPT+Vkp+UZH1IiSVqT2scgCoPjxpt7jJEIVxj98T77bYMk0YB/1A09+tDmt0qh/dWo67XBWSkQGkYB3o5LWry3kX/q0dNbxMHZaTSrLmNtm4YWp1r46AuCWpOk+vu83Dp44udMrU4dVWl6oaZ/BrJT0Vwa2nFDCmoKxAx6v5zK73+OxnbRTxoK3mgy+5aia2J37vsbU53hNTimYVm5ZtopKTmLVxFZjgwREMcmbc3d7T1IcANyWCbnk/Nc4/E2KOboqpWaCNjbZ1qX7uBk/5ycnWhNTHfDZm1pfm3D1ScrZCeOt3I7RiEoezsqp2Qz425klr+dBDvLZj8J1LzdgHhjre/Dzdw57u5a3j2nGPbHnP1zVr/3yNVYk+Oit/3Lt35KVDCNbuX2UUMlNWjkRkQ7hXY0UTCuEU7m5r/BSPAFT9h1ylenzgDXu6Pvlhn9p+sW84TKDRsWZEpxKE5vmWqp/6TOLRmU6RRGrlfWNTk2/0KlhsRyxUojy/XeJ1CSzBsOKyAWIUZJ3p3QoTFjXtunkwbl7CtW7kYTV2S1q/vE7D21/cZCXjDc5Cs9Da2tV++sfL9tZKYWELdl0/T83rH+NNBjn1W8B9JnbGgxGLLDB00kYyatDH7OZRJ7YM3ToroWjB1qzsbvl37J00fFf02Nhg8YLvOPFyNV764nXCzaZf9vsoj9liJqETtzZ/v7CL3qHPwXjtjajiDOy+EhWhnHR5HKmYfM85/juf9A13/FueVp8hoRXq9XqlEqndi6rWPHDTp06nZ5p5E86deq0sWLFbaea9lEzSVh1XIul3V6o+N6uP+bD8xBTazO8CiBlOBkhkPfPMbfhiLeuBW0btUWASa10y7a6C0+vaBjqaIB4W5vBlgrn6vUyhZ3XJtjLIpO9v9593sSg9bPbLh3Y4WzJPg4OatHpHByCx5y1Wzqq2/ApI6evqlUjOVJhL9HyMIHWZ/w54D3eRQYZOdbR49FzH/zf/ft3On/+/Me5jVz2/Pnz9/fvP+Ldc6E5kp+Bibc+YxQS0EEtms+IT9sbWSI06zfL0bhJrcWIfG7EO7SWMfUthlN6crcWg+w/wQc9WCx6j2vnVzeu6wm1WIvByT86qiMHi0Syc+M8N7QmKFTrIMsAFilftdYH8dqBJuJazzRTdKQd2nomF1J5elICiaxl4j8UHZFq0SEiOxP6tS4j7n8DUJyD7qA/Q5jXugxOAfEw38AGixLzyxByKXWDzYQvtDbD5dzw7CGCRXGhROQ5o/VBfODC8KQIi+L3TcD+rBHye29PjDq73p+9K+MZC41xLNKI3gGPNhl8LpxKz4z396y/h5m3/ONyMZAHVtj0dxgxYfslontFxjj/FfQOOIWSDvFW8tIv4zL6HkmhSvmCPj34uX6HeGNrVzqRLjN6UJyj6NpFls/WP3iX9YSE6ylcZjv4IiHAKiqVl4UDUOosDQi3dy1Q1areo7xxJchuY9vT/IpeBPY+LIFNdriaSu4u5HLoy2a3smFexGYgaqOzHdxnBdpqFdVrsw4KOFSUNsoBDLKmtt82LuAym4i3T2Yx0eJIQaO/rveZQQaSW92wah5MC+L6E2pM4m4wXbzlA2fWyzkgaf6cg3K4RuTbzERxM543pQxBmSioLcqZzxOw2mHxqwZcicWxTdBTs01lMg2bM/C46OeABJpDYsXwBYmWaEyQspOV6ZS0/WWXIROMtdph95YFsIiR1XhzkGXQZWjl7CpTQRTniTi0LIJixhF9OQG8RzP90/9xgwiGz4SXGxSQC3Bd3GmXpwA+dRUb983f0qmCLQBl6SFUu3x5GYDwXJ5sMptO/9sxA5t/NQ8ot3dqrBIvmx8auyXS+sCEVjz68yVQQNHIakKYCED6Xmp9oBIfY2XqZ9liQPpuewxUBreNblgleaRunJvzxDi3egrYr/iefoc/HbK8Bg9A3uBg9VU9ZtdjGIaWiHNi8M79Gl3Zu6jFOIP/uELBdHDbtr4al9xHt6xlyCt8bknMXVvy2Ggg8f47Z8f0fbFQWHr6p47iorFuaq6JZ+7KBya34mHMmsjNCxQI27wp5M7E7z+V6JNZY7pnnIkAgMo6GkwRxdxpVKp/lxJEP1B9inWe7yCmaUcgcjNd9wcQM6S2CgnzbmSEt7lADgyfI7f6AQXiAnIBluPpeQCRBQ7QZ8cC0D549nk5nokpOaSaPrbA30kfUrr5usU78rs14MQiecxM+4/jCdNb+bAQ6TLYwDMlXaapKQJNAWgLbKQzol/tOYhiGqky+BjRYLrlPYFCf3PLNEPL5n8ZOZshclItS84k1Zy5+5TBdlxKIG8bB4v0xUCf5L5VU7aU4oBjRCN9DFsPcT5r7tUD2Erq7uDXzlnuCcC1HAOoxnY+fQUAwxZqLwQwNpGl5ZbrPgDkJ9U/JRDI6un26z30kPxz9KrKuFyCNk4MIb6KQqQVMFOrH8aqmR0RAECDHd2gxQgmE+pK7OusvpuSpk7rjXieN6WKu2FYznuC5WTJEn1q18nOfSQNWpgBoKt6Lt++n8W5ZfdfGt2028ff4AA8ShQIZvH0iY0bN278ENFq2PdI6QfmarYNLK4Db4oGgF3VtwtV47MMri6VBbOYGxUE8tZLnAkADahogjF9frJmGoToyUSKUbTkOJQtO4OlFHuX+pZKOh8Ayam0GVKdpkHTAJ7EhezA4avGQyGr0yu+uWrVZqJZq1Z97+qo5pzoOL2JapOOVjk/gyWFrhiPNEMcljxdvCxGE9t2Lt7xEjCnEWkYXAnrEguZI0c2gGfP9MIsl4VrmLg/icEpORHIfyI9wPJMT5rNIW+9IbUYMcaGSAqI06e28FoyY1ZZPZZTjLF+h6WchWCuV/4D8cspY/6DUgDViKYB0E+/3RjqLzBRGxhBZ7XSYtZIWyJbiI1yCCnI65cEX4TgaWRtI4p30hexsBrJlmgVC2rSnHhx4pRLWFrxZBm+8BOulN4csiRoPKoyqntAGNheloqu7OLnPhQblXZPGlNBKRV4QStEVi9DdPWJOrEFPQeBc+4eVCRhTbRrNdPZR4lig6M4CYUu4IXjP+BFpd/VwhQg0Rnq0exf1t9v17LRs8hZKqPaFbUrEdhLWLE+SX3iyEHunCsmbTm9qmRzxEWyKi2Kh+LUF9nCLY3mmUKbBV3nxUh7rMJRLL6BGHsOU9h8JfE5MZyIvVirOJlQtiB2z28pBeiTckiQoAeuHnQwBTS+O0lJpmXnEU7OJqz3o7VrFZshxkviqMakL9QmeQVytlIQRMEvsjz5VRxyp31pItjqRK+qWFrFG037Pm2yZLmD+kGMPJP45L/N5WfxFJXPuC1oVUq2TNPmvZUaPi1RDh8924xM8V98ZH2dnhsjeICvn2/4hfEV/5JXbLX3fX0bBQV9M+fGMp5kpJV5zkyqocnBnRuvmAU6uj5XDvjM2oDk/dSnOw9om9MUYbQ7KeBNf8A+5iTH+F6eVwji73ML28AD0NdziBAvxvREvuT7bIz4N2o8s+iFfFJp1SKWZ45fufyfU01GJlSmpM06kiW3/RJtehyImHR3uHZu5UYWhl6v5HEv2LKl7LkGFNQLAE9Sz0sibmJzm5uHvviUEZ5gUd1GZNd11+He62PxTLU+ZDdCoYixo50SKTCCBSviKLji5Ji6ozoCshl0xjWrAbC1JAOBhWhbGoCGAQslQK/3xUmo165qn3hm001Ecm7F/OrQ2hf7o8fa582FYUbLlDcz2wHwOUq1Oe6Kwx4AWYMtAL/zRzuzUPJYayxhFUUrisGz8NcVMHCLw0sUzdypqJ9BysYp5hG1StMDwKHWUaTLDli0hwfs+7mrg0dtuvyCOnHJIL3/SbIuZQ8kvBRGFBC35gEJwN1jFTCqW1+psoKV9fOxHPg9A913Z1guKJTbEpz9b8+2mhcr1SuW0A2HNLxYMOZeIPie6+lkIR8rrY8LFtY/ETOhLEmYms/W2dk55DiNckxo4vaOFvB/0DQoHwAqsoo6IEA5NNqdm1Y8UpcVf6lIkSLnr/qzKRdXKVLkL/0WSwaSr1SevbyKI5ja7su6Le8UXvrMwyqknfi4SJN1DTlAe7XE9TculwIzbckb+2xUsWNrFylSu4sSQMi9M45PubMxByT8gY+KFJn1QVry4q5FikyfphUTpk3AsOOTwQorUO0ZmYlXQwQoZFqc0332jUWLFi0q6fb+XOn9VlO/V8VzlpLnKiQa2XOFHrnpxWPc0mTbEC3YOZltkhSWChg1NjCHPdg1f9YVRpRa2v5Ze4i1KDj3mmfSXlcr5mNFJdJ9Bkdb02Ke+mM5BAfuI1p5OhB4rkKqif96dq5RzF7RMNterLnJyKJ3MUxdUSkEcvydRIpq9AH3XIVS5fNxHYVzP/LqglSk1bP4qrqeJZtWC0BVrH1J3ZoFz1Vw9+K6C+eGQJK2Tw56FYt1ZMM2LZBP4ADJzDnU+7kKZj1bg1W5LLGwpltcOID3GimTTEgCwBenDqZAuwAM6m7NDTaTrtuuDE+bmhWQ8HEuANhD+xnLXNFj7qmUI8tGiRTWlfx8k6WfSLSKYylWR0d9ipZrUUKGhCY9W0r08pfiFgM+K6Odox33s5WDPiDNPNaSnCEf3E2S6psjxp86ta9vNAO2QZkpbh12JAMJC3euHLww6PhiFYCrjVF8pKnLWT/TXENIMVEZEaweLLDPmvAfTpMDeMY2sNfVE9s9pABg10z8dEWFdUNm4//Cuvlmt6bp2pi5NWtL/FXO5ZDy71tLkrFJ5BldzXh4TLI760rYH0WewVVLrhwnPHkfy8D6pWP/YLI2BswDAHFGsbakH9XhVHq5gRZqMssybgDIVIIyaVmGIOtK3K575hyqYraP39N37c4ZctvUf3su8gzkVuf6VlUDeaJd/LtGyD9Mcq3nEWLaY9fwA5un6ZDhAPhMVPi7z0t+Sf24lbq+1TN1uBDks7Rxmc+evKg2627BvZ70KgOCnbbQv3KDth24lbu+lSpu8xQ3a1ZbAHmSVE7YXbUybQh/Dy1jlzxzjoL7X/mcS04PAD7pF6LSA5Li20jmxa3i9a2ELn6a5maNBGbxPk7a1wmXS6wlPMp1PFXd+z/cgWFsL7N+2V4myM6t7vWyOPdrkaYuvIQPmM7nuXbPZ7taPxqvzQWPn2zlIy+ZBmzb8NXX/1UtFuBW+npanHMH+5i7/VdaoiISbAEgj/P0E/bxM9cZ6INH95aaMlEHGf4Sl77iHzjCUI2lCecG+ULhqeBIKw3ZTaCXO7fqzwvs7hVQyQfWM2AmGoxm1D/yqLYwNtwxv3TKkfNGdLSQmgYxqqSZq+3+Tx3lmvUNVRzGZ62z1fP21D65BJGdfmBeqGk9BM65Q6aYsx96JUobNGOU9GBGZTudnVN5SatqLSM8PL+TpnxafHiJvczSc/TBL3S13fd2d9z0+kMNuMoybmCmj1JbmfHpeP0XIdeYLl5cf1D/y1ibxVvulBK+LPWKENqtw6jl+3JXeenl/ouvnjsX4ejoaRCBo6OjY9a5tRP6V7t/3Mndr7Ze2XRxmJwsGVdorqPLt5yQnA1c7zAyJarp0+XWY+CcG0iSL0PeDyt/nXo6SRklUth4MGGetRBtwr3v/eLzz7+74W4T0x+cf/75R9r7kiGjjZYHJvRM31UvpEsZvltSdrrLHmfKbePF9RNVsTm1u36DSW0W/8IZaTud6L3WKw2atitY7IUKl+i82qv2MGynZ/gwkpMDt743bgpyzzsK+X/ViWtfmJIuPFaNq5HBHMLXWGOhX9MA7aqdor9qUvLpcfbcNg482Gw=)\n",
        "\n",
        "Data augmentation uses a variety of techniques used to produce \"new\" training samples from the original by applying transformation techniques without changing class labels.\n",
        "\n",
        "1. Enter the collection of training data images into ImageDataGenerator\n",
        "2. ImageDataGenerator will transform an image into a group of images that have been transformed as needed\n",
        "3. The results will be returned to the calling function\n",
        "\n",
        "\n",
        "\n"
      ]
    },
    {
      "cell_type": "code",
      "metadata": {
        "id": "2MEBkhDRr2rU"
      },
      "source": [
        "#initiate ImageDataGenerator to augmentate data train to rescale and zoom\n",
        "train_datagen = ImageDataGenerator(rescale=1.0/255.0, zoom_range=0.2)\n",
        "#initiate ImageDataGenerator to augmentate data validation to rescale\n",
        "validation_datagen = ImageDataGenerator(rescale=1.0/255.0)"
      ],
      "execution_count": null,
      "outputs": []
    },
    {
      "cell_type": "code",
      "metadata": {
        "id": "7nZy9nBozGjC"
      },
      "source": [
        "#input the data to ImageDataGenerator\n",
        "x_train_set = train_datagen.flow(x_train,y_train,batch_size=32)\n",
        "x_validation_set = validation_datagen.flow(x_validation,y_validation,batch_size=32)"
      ],
      "execution_count": null,
      "outputs": []
    },
    {
      "cell_type": "markdown",
      "metadata": {
        "id": "N_--4kCE30vR"
      },
      "source": [
        "## Build Model CNN"
      ]
    },
    {
      "cell_type": "markdown",
      "metadata": {
        "id": "kB4jYzLqNVqI"
      },
      "source": [
        "**12. Build Architecture Model CNN**"
      ]
    },
    {
      "cell_type": "code",
      "metadata": {
        "id": "iUwrLVlzzlZ8",
        "outputId": "e50da38f-356e-47fa-8935-72cc541eabe3",
        "colab": {
          "base_uri": "https://localhost:8080/",
          "height": 655
        }
      },
      "source": [
        "# Initialising the CNN\n",
        "classifier = Sequential()\n",
        " \n",
        "# Step 1 - Convolution\n",
        "classifier.add(Conv2D(32, (3, 3), input_shape=(28,28,1), activation='relu'))\n",
        "classifier.add(Conv2D(32, (3, 3), activation='relu'))\n",
        "classifier.add(MaxPooling2D(pool_size=(2, 2)))  # 2x2 is optimal\n",
        " \n",
        "# Adding a second convolutional layer\n",
        "classifier.add(Conv2D(128, (3, 3), activation='relu'))\n",
        "classifier.add(Conv2D(128, (3, 3), activation='relu'))\n",
        "classifier.add(MaxPooling2D(pool_size=(2, 2)))\n",
        "classifier.add(Dropout(0.5))\n",
        " \n",
        "# Adding a third convolutional layer\n",
        "classifier.add(Conv2D(256, (3, 3), activation='relu'))\n",
        "classifier.add(MaxPooling2D(pool_size=(2, 2)))\n",
        "classifier.add(Dropout(0.5))\n",
        " \n",
        "# Step 3 - Flattening\n",
        "classifier.add(Flatten())\n",
        " \n",
        "# Step 4 - Full connection\n",
        "classifier.add(Dense(units=1000, activation='relu'))\n",
        "classifier.add(Dropout(0.5))\n",
        "classifier.add(Dense(units=128, activation='relu'))\n",
        "classifier.add(Dense(units=24, activation='softmax'))\n",
        "\n",
        "# Compiling the CNN\n",
        "classifier.compile(optimizer='adam', loss='categorical_crossentropy', metrics=['accuracy'])\n",
        "\n",
        "classifier.summary()"
      ],
      "execution_count": null,
      "outputs": [
        {
          "output_type": "stream",
          "text": [
            "Model: \"sequential_2\"\n",
            "_________________________________________________________________\n",
            "Layer (type)                 Output Shape              Param #   \n",
            "=================================================================\n",
            "conv2d_10 (Conv2D)           (None, 26, 26, 32)        320       \n",
            "_________________________________________________________________\n",
            "conv2d_11 (Conv2D)           (None, 24, 24, 32)        9248      \n",
            "_________________________________________________________________\n",
            "max_pooling2d_6 (MaxPooling2 (None, 12, 12, 32)        0         \n",
            "_________________________________________________________________\n",
            "conv2d_12 (Conv2D)           (None, 10, 10, 128)       36992     \n",
            "_________________________________________________________________\n",
            "conv2d_13 (Conv2D)           (None, 8, 8, 128)         147584    \n",
            "_________________________________________________________________\n",
            "max_pooling2d_7 (MaxPooling2 (None, 4, 4, 128)         0         \n",
            "_________________________________________________________________\n",
            "dropout_6 (Dropout)          (None, 4, 4, 128)         0         \n",
            "_________________________________________________________________\n",
            "conv2d_14 (Conv2D)           (None, 2, 2, 256)         295168    \n",
            "_________________________________________________________________\n",
            "max_pooling2d_8 (MaxPooling2 (None, 1, 1, 256)         0         \n",
            "_________________________________________________________________\n",
            "dropout_7 (Dropout)          (None, 1, 1, 256)         0         \n",
            "_________________________________________________________________\n",
            "flatten_2 (Flatten)          (None, 256)               0         \n",
            "_________________________________________________________________\n",
            "dense_6 (Dense)              (None, 1000)              257000    \n",
            "_________________________________________________________________\n",
            "dropout_8 (Dropout)          (None, 1000)              0         \n",
            "_________________________________________________________________\n",
            "dense_7 (Dense)              (None, 128)               128128    \n",
            "_________________________________________________________________\n",
            "dense_8 (Dense)              (None, 24)                3096      \n",
            "=================================================================\n",
            "Total params: 877,536\n",
            "Trainable params: 877,536\n",
            "Non-trainable params: 0\n",
            "_________________________________________________________________\n"
          ],
          "name": "stdout"
        }
      ]
    },
    {
      "cell_type": "markdown",
      "metadata": {
        "id": "nMMDlxZaNPlL"
      },
      "source": [
        "**13. Train the model**"
      ]
    },
    {
      "cell_type": "code",
      "metadata": {
        "id": "iFQWdw7jDucH",
        "outputId": "5471f6f8-9de3-4956-b840-1bc615b04c9c",
        "colab": {
          "base_uri": "https://localhost:8080/",
          "height": 1000
        }
      },
      "source": [
        "# Train the Model\n",
        "history = classifier.fit_generator(\n",
        "    x_train_set,\n",
        "    steps_per_epoch=len(x_train)/100,\n",
        "    epochs=150,\n",
        "    validation_data=x_validation_set,\n",
        "    validation_steps=len(x_validation)/100)"
      ],
      "execution_count": null,
      "outputs": [
        {
          "output_type": "stream",
          "text": [
            "Epoch 1/150\n",
            "220/219 [==============================] - 34s 157ms/step - loss: 3.1758 - accuracy: 0.0444 - val_loss: 3.1747 - val_accuracy: 0.0429\n",
            "Epoch 2/150\n",
            "220/219 [==============================] - 34s 157ms/step - loss: 2.8412 - accuracy: 0.1303 - val_loss: 2.1783 - val_accuracy: 0.2364\n",
            "Epoch 3/150\n",
            "220/219 [==============================] - 34s 155ms/step - loss: 1.8089 - accuracy: 0.3861 - val_loss: 1.0344 - val_accuracy: 0.6864\n",
            "Epoch 4/150\n",
            "220/219 [==============================] - 34s 155ms/step - loss: 1.2133 - accuracy: 0.5741 - val_loss: 0.6316 - val_accuracy: 0.7756\n",
            "Epoch 5/150\n",
            "220/219 [==============================] - 34s 155ms/step - loss: 0.9041 - accuracy: 0.6801 - val_loss: 0.4320 - val_accuracy: 0.8386\n",
            "Epoch 6/150\n",
            "220/219 [==============================] - 34s 155ms/step - loss: 0.7360 - accuracy: 0.7290 - val_loss: 0.3850 - val_accuracy: 0.8903\n",
            "Epoch 7/150\n",
            "220/219 [==============================] - 34s 157ms/step - loss: 0.6068 - accuracy: 0.7880 - val_loss: 0.2403 - val_accuracy: 0.9239\n",
            "Epoch 8/150\n",
            "220/219 [==============================] - 34s 156ms/step - loss: 0.5090 - accuracy: 0.8226 - val_loss: 0.1505 - val_accuracy: 0.9628\n",
            "Epoch 9/150\n",
            "220/219 [==============================] - 34s 155ms/step - loss: 0.4628 - accuracy: 0.8420 - val_loss: 0.1175 - val_accuracy: 0.9705\n",
            "Epoch 10/150\n",
            "220/219 [==============================] - 34s 155ms/step - loss: 0.3638 - accuracy: 0.8756 - val_loss: 0.0697 - val_accuracy: 0.9864\n",
            "Epoch 11/150\n",
            "220/219 [==============================] - 34s 156ms/step - loss: 0.3607 - accuracy: 0.8783 - val_loss: 0.0679 - val_accuracy: 0.9823\n",
            "Epoch 12/150\n",
            "220/219 [==============================] - 34s 155ms/step - loss: 0.3186 - accuracy: 0.8923 - val_loss: 0.0453 - val_accuracy: 0.9898\n",
            "Epoch 13/150\n",
            "220/219 [==============================] - 34s 155ms/step - loss: 0.2810 - accuracy: 0.9038 - val_loss: 0.0344 - val_accuracy: 0.9926\n",
            "Epoch 14/150\n",
            "220/219 [==============================] - 34s 155ms/step - loss: 0.2529 - accuracy: 0.9180 - val_loss: 0.0225 - val_accuracy: 0.9937\n",
            "Epoch 15/150\n",
            "220/219 [==============================] - 34s 155ms/step - loss: 0.2268 - accuracy: 0.9247 - val_loss: 0.0183 - val_accuracy: 0.9972\n",
            "Epoch 16/150\n",
            "220/219 [==============================] - 34s 155ms/step - loss: 0.2136 - accuracy: 0.9296 - val_loss: 0.0167 - val_accuracy: 0.9949\n",
            "Epoch 17/150\n",
            "220/219 [==============================] - 36s 162ms/step - loss: 0.2024 - accuracy: 0.9335 - val_loss: 0.0191 - val_accuracy: 0.9954\n",
            "Epoch 18/150\n",
            "220/219 [==============================] - 34s 154ms/step - loss: 0.2065 - accuracy: 0.9334 - val_loss: 0.0088 - val_accuracy: 0.9994\n",
            "Epoch 19/150\n",
            "220/219 [==============================] - 34s 154ms/step - loss: 0.1866 - accuracy: 0.9402 - val_loss: 0.0101 - val_accuracy: 0.9955\n",
            "Epoch 20/150\n",
            "220/219 [==============================] - 34s 154ms/step - loss: 0.1632 - accuracy: 0.9483 - val_loss: 0.0099 - val_accuracy: 1.0000\n",
            "Epoch 21/150\n",
            "220/219 [==============================] - 34s 155ms/step - loss: 0.1750 - accuracy: 0.9456 - val_loss: 0.0101 - val_accuracy: 0.9989\n",
            "Epoch 22/150\n",
            "220/219 [==============================] - 34s 154ms/step - loss: 0.1622 - accuracy: 0.9449 - val_loss: 0.0043 - val_accuracy: 1.0000\n",
            "Epoch 23/150\n",
            "220/219 [==============================] - 34s 154ms/step - loss: 0.1552 - accuracy: 0.9503 - val_loss: 0.0055 - val_accuracy: 0.9994\n",
            "Epoch 24/150\n",
            "220/219 [==============================] - 34s 154ms/step - loss: 0.1294 - accuracy: 0.9580 - val_loss: 0.0048 - val_accuracy: 0.9989\n",
            "Epoch 25/150\n",
            "220/219 [==============================] - 34s 154ms/step - loss: 0.1396 - accuracy: 0.9561 - val_loss: 0.0035 - val_accuracy: 0.9994\n",
            "Epoch 26/150\n",
            "220/219 [==============================] - 33s 152ms/step - loss: 0.1296 - accuracy: 0.9581 - val_loss: 0.0025 - val_accuracy: 1.0000\n",
            "Epoch 27/150\n",
            "220/219 [==============================] - 34s 152ms/step - loss: 0.1315 - accuracy: 0.9563 - val_loss: 0.0019 - val_accuracy: 0.9994\n",
            "Epoch 28/150\n",
            "220/219 [==============================] - 34s 152ms/step - loss: 0.1179 - accuracy: 0.9638 - val_loss: 0.0014 - val_accuracy: 1.0000\n",
            "Epoch 29/150\n",
            "220/219 [==============================] - 33s 152ms/step - loss: 0.1296 - accuracy: 0.9604 - val_loss: 0.0057 - val_accuracy: 0.9977\n",
            "Epoch 30/150\n",
            "220/219 [==============================] - 33s 152ms/step - loss: 0.1269 - accuracy: 0.9614 - val_loss: 0.0013 - val_accuracy: 1.0000\n",
            "Epoch 31/150\n",
            "220/219 [==============================] - 33s 152ms/step - loss: 0.1088 - accuracy: 0.9659 - val_loss: 0.0022 - val_accuracy: 0.9994\n",
            "Epoch 32/150\n",
            "220/219 [==============================] - 34s 154ms/step - loss: 0.1247 - accuracy: 0.9613 - val_loss: 0.0016 - val_accuracy: 1.0000\n",
            "Epoch 33/150\n",
            "220/219 [==============================] - 34s 155ms/step - loss: 0.1261 - accuracy: 0.9591 - val_loss: 0.0019 - val_accuracy: 1.0000\n",
            "Epoch 34/150\n",
            "220/219 [==============================] - 34s 156ms/step - loss: 0.1126 - accuracy: 0.9658 - val_loss: 0.0011 - val_accuracy: 1.0000\n",
            "Epoch 35/150\n",
            "220/219 [==============================] - 34s 155ms/step - loss: 0.1049 - accuracy: 0.9667 - val_loss: 6.7411e-04 - val_accuracy: 1.0000\n",
            "Epoch 36/150\n",
            "220/219 [==============================] - 34s 155ms/step - loss: 0.1131 - accuracy: 0.9661 - val_loss: 0.0014 - val_accuracy: 1.0000\n",
            "Epoch 37/150\n",
            "220/219 [==============================] - 34s 155ms/step - loss: 0.1096 - accuracy: 0.9659 - val_loss: 5.7373e-04 - val_accuracy: 1.0000\n",
            "Epoch 38/150\n",
            "220/219 [==============================] - 34s 155ms/step - loss: 0.1050 - accuracy: 0.9689 - val_loss: 5.3153e-04 - val_accuracy: 1.0000\n",
            "Epoch 39/150\n",
            "220/219 [==============================] - 34s 155ms/step - loss: 0.1025 - accuracy: 0.9685 - val_loss: 7.6538e-04 - val_accuracy: 1.0000\n",
            "Epoch 40/150\n",
            "220/219 [==============================] - 34s 156ms/step - loss: 0.0956 - accuracy: 0.9695 - val_loss: 5.7303e-04 - val_accuracy: 1.0000\n",
            "Epoch 41/150\n",
            "220/219 [==============================] - 33s 151ms/step - loss: 0.1066 - accuracy: 0.9679 - val_loss: 0.0012 - val_accuracy: 1.0000\n",
            "Epoch 42/150\n",
            "220/219 [==============================] - 34s 155ms/step - loss: 0.1082 - accuracy: 0.9686 - val_loss: 9.1386e-04 - val_accuracy: 1.0000\n",
            "Epoch 43/150\n",
            "220/219 [==============================] - 34s 153ms/step - loss: 0.0899 - accuracy: 0.9716 - val_loss: 2.7634e-04 - val_accuracy: 1.0000\n",
            "Epoch 44/150\n",
            "220/219 [==============================] - 35s 159ms/step - loss: 0.0872 - accuracy: 0.9726 - val_loss: 4.7760e-04 - val_accuracy: 1.0000\n",
            "Epoch 45/150\n",
            "220/219 [==============================] - 33s 151ms/step - loss: 0.0935 - accuracy: 0.9726 - val_loss: 4.9507e-04 - val_accuracy: 1.0000\n",
            "Epoch 46/150\n",
            "220/219 [==============================] - 33s 152ms/step - loss: 0.0850 - accuracy: 0.9726 - val_loss: 5.6784e-04 - val_accuracy: 1.0000\n",
            "Epoch 47/150\n",
            "220/219 [==============================] - 33s 151ms/step - loss: 0.1054 - accuracy: 0.9694 - val_loss: 6.1901e-04 - val_accuracy: 1.0000\n",
            "Epoch 48/150\n",
            "220/219 [==============================] - 33s 151ms/step - loss: 0.0822 - accuracy: 0.9737 - val_loss: 0.0104 - val_accuracy: 0.9966\n",
            "Epoch 49/150\n",
            "220/219 [==============================] - 33s 152ms/step - loss: 0.0764 - accuracy: 0.9747 - val_loss: 5.0281e-04 - val_accuracy: 1.0000\n",
            "Epoch 50/150\n",
            "220/219 [==============================] - 33s 152ms/step - loss: 0.0963 - accuracy: 0.9716 - val_loss: 7.4343e-04 - val_accuracy: 0.9994\n",
            "Epoch 51/150\n",
            "220/219 [==============================] - 34s 153ms/step - loss: 0.0815 - accuracy: 0.9746 - val_loss: 2.7206e-04 - val_accuracy: 1.0000\n",
            "Epoch 52/150\n",
            "220/219 [==============================] - 34s 153ms/step - loss: 0.0957 - accuracy: 0.9717 - val_loss: 7.1924e-04 - val_accuracy: 1.0000\n",
            "Epoch 53/150\n",
            "220/219 [==============================] - 34s 153ms/step - loss: 0.0893 - accuracy: 0.9732 - val_loss: 2.3747e-04 - val_accuracy: 1.0000\n",
            "Epoch 54/150\n",
            "220/219 [==============================] - 33s 152ms/step - loss: 0.0871 - accuracy: 0.9748 - val_loss: 0.0015 - val_accuracy: 0.9994\n",
            "Epoch 55/150\n",
            "220/219 [==============================] - 34s 153ms/step - loss: 0.0930 - accuracy: 0.9729 - val_loss: 6.1145e-04 - val_accuracy: 1.0000\n",
            "Epoch 56/150\n",
            "220/219 [==============================] - 33s 152ms/step - loss: 0.0693 - accuracy: 0.9781 - val_loss: 2.1040e-04 - val_accuracy: 1.0000\n",
            "Epoch 57/150\n",
            "220/219 [==============================] - 33s 152ms/step - loss: 0.0798 - accuracy: 0.9772 - val_loss: 2.0885e-04 - val_accuracy: 1.0000\n",
            "Epoch 58/150\n",
            "220/219 [==============================] - 34s 152ms/step - loss: 0.0842 - accuracy: 0.9739 - val_loss: 3.7894e-04 - val_accuracy: 1.0000\n",
            "Epoch 59/150\n",
            "220/219 [==============================] - 33s 152ms/step - loss: 0.0765 - accuracy: 0.9783 - val_loss: 3.2260e-04 - val_accuracy: 1.0000\n",
            "Epoch 60/150\n",
            "220/219 [==============================] - 33s 152ms/step - loss: 0.0683 - accuracy: 0.9796 - val_loss: 2.1643e-04 - val_accuracy: 1.0000\n",
            "Epoch 61/150\n",
            "220/219 [==============================] - 34s 153ms/step - loss: 0.0717 - accuracy: 0.9780 - val_loss: 1.2432e-04 - val_accuracy: 1.0000\n",
            "Epoch 62/150\n",
            "220/219 [==============================] - 34s 154ms/step - loss: 0.0978 - accuracy: 0.9730 - val_loss: 2.0161e-04 - val_accuracy: 1.0000\n",
            "Epoch 63/150\n",
            "220/219 [==============================] - 34s 152ms/step - loss: 0.0863 - accuracy: 0.9741 - val_loss: 8.9927e-04 - val_accuracy: 1.0000\n",
            "Epoch 64/150\n",
            "220/219 [==============================] - 33s 152ms/step - loss: 0.0626 - accuracy: 0.9814 - val_loss: 2.3369e-04 - val_accuracy: 1.0000\n",
            "Epoch 65/150\n",
            "220/219 [==============================] - 34s 153ms/step - loss: 0.0673 - accuracy: 0.9793 - val_loss: 6.5132e-05 - val_accuracy: 1.0000\n",
            "Epoch 66/150\n",
            "220/219 [==============================] - 34s 153ms/step - loss: 0.0676 - accuracy: 0.9789 - val_loss: 7.4648e-05 - val_accuracy: 1.0000\n",
            "Epoch 67/150\n",
            "220/219 [==============================] - 34s 154ms/step - loss: 0.0679 - accuracy: 0.9804 - val_loss: 3.1883e-04 - val_accuracy: 1.0000\n",
            "Epoch 68/150\n",
            "220/219 [==============================] - 34s 154ms/step - loss: 0.0653 - accuracy: 0.9815 - val_loss: 5.7129e-05 - val_accuracy: 1.0000\n",
            "Epoch 69/150\n",
            "220/219 [==============================] - 34s 154ms/step - loss: 0.0559 - accuracy: 0.9838 - val_loss: 1.8430e-04 - val_accuracy: 1.0000\n",
            "Epoch 70/150\n",
            "220/219 [==============================] - 35s 158ms/step - loss: 0.0545 - accuracy: 0.9838 - val_loss: 3.1699e-05 - val_accuracy: 1.0000\n",
            "Epoch 71/150\n",
            "220/219 [==============================] - 36s 162ms/step - loss: 0.0655 - accuracy: 0.9820 - val_loss: 5.4984e-04 - val_accuracy: 1.0000\n",
            "Epoch 72/150\n",
            "220/219 [==============================] - 35s 161ms/step - loss: 0.0858 - accuracy: 0.9739 - val_loss: 0.0021 - val_accuracy: 0.9977\n",
            "Epoch 73/150\n",
            "220/219 [==============================] - 35s 160ms/step - loss: 0.0652 - accuracy: 0.9837 - val_loss: 7.7554e-05 - val_accuracy: 1.0000\n",
            "Epoch 74/150\n",
            "220/219 [==============================] - 36s 162ms/step - loss: 0.0538 - accuracy: 0.9837 - val_loss: 3.1975e-04 - val_accuracy: 1.0000\n",
            "Epoch 75/150\n",
            "220/219 [==============================] - 35s 159ms/step - loss: 0.0632 - accuracy: 0.9809 - val_loss: 2.5972e-04 - val_accuracy: 1.0000\n",
            "Epoch 76/150\n",
            "220/219 [==============================] - 34s 155ms/step - loss: 0.0779 - accuracy: 0.9805 - val_loss: 5.3642e-05 - val_accuracy: 1.0000\n",
            "Epoch 77/150\n",
            "220/219 [==============================] - 35s 158ms/step - loss: 0.0749 - accuracy: 0.9778 - val_loss: 1.8949e-04 - val_accuracy: 1.0000\n",
            "Epoch 78/150\n",
            "220/219 [==============================] - 35s 161ms/step - loss: 0.0591 - accuracy: 0.9830 - val_loss: 2.5384e-04 - val_accuracy: 1.0000\n",
            "Epoch 79/150\n",
            "220/219 [==============================] - 34s 155ms/step - loss: 0.0683 - accuracy: 0.9791 - val_loss: 4.9498e-05 - val_accuracy: 1.0000\n",
            "Epoch 80/150\n",
            "220/219 [==============================] - 34s 156ms/step - loss: 0.0536 - accuracy: 0.9851 - val_loss: 4.5315e-05 - val_accuracy: 1.0000\n",
            "Epoch 81/150\n",
            "220/219 [==============================] - 34s 156ms/step - loss: 0.0611 - accuracy: 0.9834 - val_loss: 3.5494e-05 - val_accuracy: 1.0000\n",
            "Epoch 82/150\n",
            "220/219 [==============================] - 34s 155ms/step - loss: 0.0659 - accuracy: 0.9806 - val_loss: 8.8597e-04 - val_accuracy: 1.0000\n",
            "Epoch 83/150\n",
            "220/219 [==============================] - 35s 160ms/step - loss: 0.0523 - accuracy: 0.9844 - val_loss: 1.4530e-05 - val_accuracy: 1.0000\n",
            "Epoch 84/150\n",
            "220/219 [==============================] - 34s 156ms/step - loss: 0.0627 - accuracy: 0.9818 - val_loss: 5.4084e-05 - val_accuracy: 1.0000\n",
            "Epoch 85/150\n",
            "220/219 [==============================] - 34s 156ms/step - loss: 0.0750 - accuracy: 0.9766 - val_loss: 6.6242e-05 - val_accuracy: 1.0000\n",
            "Epoch 86/150\n",
            "220/219 [==============================] - 37s 168ms/step - loss: 0.0582 - accuracy: 0.9834 - val_loss: 5.9138e-05 - val_accuracy: 1.0000\n",
            "Epoch 87/150\n",
            "220/219 [==============================] - 36s 164ms/step - loss: 0.0686 - accuracy: 0.9805 - val_loss: 1.0133e-04 - val_accuracy: 1.0000\n",
            "Epoch 88/150\n",
            "220/219 [==============================] - 36s 163ms/step - loss: 0.0591 - accuracy: 0.9812 - val_loss: 7.4600e-05 - val_accuracy: 1.0000\n",
            "Epoch 89/150\n",
            "220/219 [==============================] - 35s 159ms/step - loss: 0.0741 - accuracy: 0.9800 - val_loss: 5.8051e-05 - val_accuracy: 1.0000\n",
            "Epoch 90/150\n",
            "220/219 [==============================] - 34s 155ms/step - loss: 0.0631 - accuracy: 0.9832 - val_loss: 1.2340e-04 - val_accuracy: 1.0000\n",
            "Epoch 91/150\n",
            "220/219 [==============================] - 34s 154ms/step - loss: 0.0657 - accuracy: 0.9803 - val_loss: 1.3074e-04 - val_accuracy: 1.0000\n",
            "Epoch 92/150\n",
            "220/219 [==============================] - 34s 156ms/step - loss: 0.0508 - accuracy: 0.9859 - val_loss: 6.8388e-06 - val_accuracy: 1.0000\n",
            "Epoch 93/150\n",
            "220/219 [==============================] - 35s 159ms/step - loss: 0.0527 - accuracy: 0.9848 - val_loss: 7.4520e-04 - val_accuracy: 0.9994\n",
            "Epoch 94/150\n",
            "220/219 [==============================] - 35s 158ms/step - loss: 0.0485 - accuracy: 0.9863 - val_loss: 2.4222e-05 - val_accuracy: 1.0000\n",
            "Epoch 95/150\n",
            "220/219 [==============================] - 34s 156ms/step - loss: 0.0513 - accuracy: 0.9849 - val_loss: 2.3287e-05 - val_accuracy: 1.0000\n",
            "Epoch 96/150\n",
            "220/219 [==============================] - 35s 157ms/step - loss: 0.0698 - accuracy: 0.9822 - val_loss: 4.2813e-05 - val_accuracy: 1.0000\n",
            "Epoch 97/150\n",
            "220/219 [==============================] - 34s 156ms/step - loss: 0.0719 - accuracy: 0.9811 - val_loss: 6.5626e-06 - val_accuracy: 1.0000\n",
            "Epoch 98/150\n",
            "220/219 [==============================] - 34s 156ms/step - loss: 0.0580 - accuracy: 0.9830 - val_loss: 7.9978e-05 - val_accuracy: 1.0000\n",
            "Epoch 99/150\n",
            "220/219 [==============================] - 34s 153ms/step - loss: 0.0577 - accuracy: 0.9851 - val_loss: 1.1654e-04 - val_accuracy: 1.0000\n",
            "Epoch 100/150\n",
            "220/219 [==============================] - 34s 153ms/step - loss: 0.0542 - accuracy: 0.9843 - val_loss: 3.4451e-06 - val_accuracy: 1.0000\n",
            "Epoch 101/150\n",
            "220/219 [==============================] - 34s 155ms/step - loss: 0.0686 - accuracy: 0.9818 - val_loss: 4.2863e-05 - val_accuracy: 1.0000\n",
            "Epoch 102/150\n",
            "220/219 [==============================] - 34s 154ms/step - loss: 0.0620 - accuracy: 0.9830 - val_loss: 3.3725e-05 - val_accuracy: 1.0000\n",
            "Epoch 103/150\n",
            "220/219 [==============================] - 34s 154ms/step - loss: 0.0522 - accuracy: 0.9859 - val_loss: 6.6509e-05 - val_accuracy: 1.0000\n",
            "Epoch 104/150\n",
            "220/219 [==============================] - 34s 154ms/step - loss: 0.0558 - accuracy: 0.9833 - val_loss: 6.1193e-05 - val_accuracy: 1.0000\n",
            "Epoch 105/150\n",
            "220/219 [==============================] - 34s 156ms/step - loss: 0.0596 - accuracy: 0.9857 - val_loss: 8.2162e-05 - val_accuracy: 1.0000\n",
            "Epoch 106/150\n",
            "220/219 [==============================] - 34s 156ms/step - loss: 0.0541 - accuracy: 0.9851 - val_loss: 1.5610e-05 - val_accuracy: 1.0000\n",
            "Epoch 107/150\n",
            "220/219 [==============================] - 34s 157ms/step - loss: 0.0547 - accuracy: 0.9845 - val_loss: 1.8053e-04 - val_accuracy: 1.0000\n",
            "Epoch 108/150\n",
            "220/219 [==============================] - 34s 155ms/step - loss: 0.0637 - accuracy: 0.9834 - val_loss: 3.7340e-04 - val_accuracy: 1.0000\n",
            "Epoch 109/150\n",
            "220/219 [==============================] - 34s 155ms/step - loss: 0.0604 - accuracy: 0.9828 - val_loss: 1.7032e-05 - val_accuracy: 1.0000\n",
            "Epoch 110/150\n",
            "220/219 [==============================] - 34s 156ms/step - loss: 0.0628 - accuracy: 0.9840 - val_loss: 3.1952e-05 - val_accuracy: 1.0000\n",
            "Epoch 111/150\n",
            "220/219 [==============================] - 34s 156ms/step - loss: 0.0670 - accuracy: 0.9832 - val_loss: 7.7497e-05 - val_accuracy: 1.0000\n",
            "Epoch 112/150\n",
            "220/219 [==============================] - 35s 158ms/step - loss: 0.0509 - accuracy: 0.9852 - val_loss: 8.3599e-05 - val_accuracy: 1.0000\n",
            "Epoch 113/150\n",
            "220/219 [==============================] - 35s 159ms/step - loss: 0.0568 - accuracy: 0.9855 - val_loss: 8.0133e-05 - val_accuracy: 1.0000\n",
            "Epoch 114/150\n",
            "220/219 [==============================] - 35s 160ms/step - loss: 0.0558 - accuracy: 0.9847 - val_loss: 1.5466e-05 - val_accuracy: 1.0000\n",
            "Epoch 115/150\n",
            "220/219 [==============================] - 35s 161ms/step - loss: 0.0617 - accuracy: 0.9845 - val_loss: 1.3125e-05 - val_accuracy: 1.0000\n",
            "Epoch 116/150\n",
            "220/219 [==============================] - 35s 159ms/step - loss: 0.0465 - accuracy: 0.9866 - val_loss: 9.9280e-06 - val_accuracy: 1.0000\n",
            "Epoch 117/150\n",
            "220/219 [==============================] - 35s 159ms/step - loss: 0.0622 - accuracy: 0.9839 - val_loss: 3.5305e-05 - val_accuracy: 1.0000\n",
            "Epoch 118/150\n",
            "220/219 [==============================] - 35s 160ms/step - loss: 0.0630 - accuracy: 0.9842 - val_loss: 4.0424e-05 - val_accuracy: 1.0000\n",
            "Epoch 119/150\n",
            "220/219 [==============================] - 34s 157ms/step - loss: 0.0534 - accuracy: 0.9845 - val_loss: 1.2506e-04 - val_accuracy: 1.0000\n",
            "Epoch 120/150\n",
            "220/219 [==============================] - 34s 156ms/step - loss: 0.0530 - accuracy: 0.9851 - val_loss: 1.5929e-05 - val_accuracy: 1.0000\n",
            "Epoch 121/150\n",
            "220/219 [==============================] - 34s 156ms/step - loss: 0.0627 - accuracy: 0.9827 - val_loss: 3.6563e-05 - val_accuracy: 1.0000\n",
            "Epoch 122/150\n",
            "220/219 [==============================] - 34s 157ms/step - loss: 0.0421 - accuracy: 0.9886 - val_loss: 9.7463e-06 - val_accuracy: 1.0000\n",
            "Epoch 123/150\n",
            "220/219 [==============================] - 34s 157ms/step - loss: 0.0592 - accuracy: 0.9849 - val_loss: 3.2330e-05 - val_accuracy: 1.0000\n",
            "Epoch 124/150\n",
            "220/219 [==============================] - 35s 159ms/step - loss: 0.0432 - accuracy: 0.9875 - val_loss: 5.7583e-05 - val_accuracy: 1.0000\n",
            "Epoch 125/150\n",
            "220/219 [==============================] - 35s 158ms/step - loss: 0.0509 - accuracy: 0.9858 - val_loss: 7.5007e-06 - val_accuracy: 1.0000\n",
            "Epoch 126/150\n",
            "220/219 [==============================] - 35s 157ms/step - loss: 0.0545 - accuracy: 0.9859 - val_loss: 8.4213e-04 - val_accuracy: 0.9994\n",
            "Epoch 127/150\n",
            "220/219 [==============================] - 35s 158ms/step - loss: 0.0471 - accuracy: 0.9869 - val_loss: 2.3816e-05 - val_accuracy: 1.0000\n",
            "Epoch 128/150\n",
            "220/219 [==============================] - 35s 160ms/step - loss: 0.0593 - accuracy: 0.9862 - val_loss: 8.7333e-05 - val_accuracy: 1.0000\n",
            "Epoch 129/150\n",
            "220/219 [==============================] - 38s 174ms/step - loss: 0.0576 - accuracy: 0.9853 - val_loss: 6.6748e-06 - val_accuracy: 1.0000\n",
            "Epoch 130/150\n",
            "220/219 [==============================] - 34s 157ms/step - loss: 0.0525 - accuracy: 0.9878 - val_loss: 1.9724e-05 - val_accuracy: 1.0000\n",
            "Epoch 131/150\n",
            "220/219 [==============================] - 34s 157ms/step - loss: 0.0483 - accuracy: 0.9884 - val_loss: 3.9385e-05 - val_accuracy: 1.0000\n",
            "Epoch 132/150\n",
            "220/219 [==============================] - 34s 156ms/step - loss: 0.0441 - accuracy: 0.9885 - val_loss: 2.8561e-05 - val_accuracy: 1.0000\n",
            "Epoch 133/150\n",
            "220/219 [==============================] - 34s 153ms/step - loss: 0.0434 - accuracy: 0.9884 - val_loss: 1.2336e-05 - val_accuracy: 1.0000\n",
            "Epoch 134/150\n",
            "220/219 [==============================] - 34s 154ms/step - loss: 0.0627 - accuracy: 0.9845 - val_loss: 9.1811e-05 - val_accuracy: 1.0000\n",
            "Epoch 135/150\n",
            "220/219 [==============================] - 33s 152ms/step - loss: 0.0574 - accuracy: 0.9855 - val_loss: 8.1038e-06 - val_accuracy: 1.0000\n",
            "Epoch 136/150\n",
            "220/219 [==============================] - 34s 153ms/step - loss: 0.0477 - accuracy: 0.9865 - val_loss: 5.4168e-05 - val_accuracy: 1.0000\n",
            "Epoch 137/150\n",
            "220/219 [==============================] - 39s 176ms/step - loss: 0.0442 - accuracy: 0.9869 - val_loss: 2.7745e-05 - val_accuracy: 1.0000\n",
            "Epoch 138/150\n",
            "220/219 [==============================] - 35s 160ms/step - loss: 0.0421 - accuracy: 0.9895 - val_loss: 2.8484e-06 - val_accuracy: 1.0000\n",
            "Epoch 139/150\n",
            "220/219 [==============================] - 35s 159ms/step - loss: 0.0591 - accuracy: 0.9862 - val_loss: 6.8960e-06 - val_accuracy: 1.0000\n",
            "Epoch 140/150\n",
            "220/219 [==============================] - 35s 159ms/step - loss: 0.0486 - accuracy: 0.9858 - val_loss: 1.0129e-04 - val_accuracy: 1.0000\n",
            "Epoch 141/150\n",
            "220/219 [==============================] - 35s 158ms/step - loss: 0.0420 - accuracy: 0.9882 - val_loss: 5.0326e-06 - val_accuracy: 1.0000\n",
            "Epoch 142/150\n",
            "220/219 [==============================] - 35s 159ms/step - loss: 0.0558 - accuracy: 0.9858 - val_loss: 2.3670e-05 - val_accuracy: 1.0000\n",
            "Epoch 143/150\n",
            "220/219 [==============================] - 35s 160ms/step - loss: 0.0556 - accuracy: 0.9866 - val_loss: 1.9088e-05 - val_accuracy: 1.0000\n",
            "Epoch 144/150\n",
            "220/219 [==============================] - 35s 157ms/step - loss: 0.0439 - accuracy: 0.9893 - val_loss: 5.4349e-05 - val_accuracy: 1.0000\n",
            "Epoch 145/150\n",
            "220/219 [==============================] - 35s 158ms/step - loss: 0.0480 - accuracy: 0.9875 - val_loss: 8.0793e-05 - val_accuracy: 1.0000\n",
            "Epoch 146/150\n",
            "220/219 [==============================] - 35s 157ms/step - loss: 0.0525 - accuracy: 0.9862 - val_loss: 1.6500e-05 - val_accuracy: 1.0000\n",
            "Epoch 147/150\n",
            "220/219 [==============================] - 34s 156ms/step - loss: 0.0582 - accuracy: 0.9855 - val_loss: 9.8439e-06 - val_accuracy: 1.0000\n",
            "Epoch 148/150\n",
            "220/219 [==============================] - 34s 156ms/step - loss: 0.0524 - accuracy: 0.9855 - val_loss: 2.5539e-05 - val_accuracy: 1.0000\n",
            "Epoch 149/150\n",
            "220/219 [==============================] - 34s 155ms/step - loss: 0.0481 - accuracy: 0.9884 - val_loss: 5.7644e-05 - val_accuracy: 1.0000\n",
            "Epoch 150/150\n",
            "220/219 [==============================] - 34s 156ms/step - loss: 0.0482 - accuracy: 0.9890 - val_loss: 6.4303e-06 - val_accuracy: 1.0000\n"
          ],
          "name": "stdout"
        }
      ]
    },
    {
      "cell_type": "markdown",
      "metadata": {
        "id": "sU3hSRi4OJZ8"
      },
      "source": [
        "**14. Visualize the training and validation history**"
      ]
    },
    {
      "cell_type": "code",
      "metadata": {
        "id": "7wZ7tMHbNiIx",
        "outputId": "179628f7-d961-42c1-a99e-1a1deddccc4e",
        "colab": {
          "base_uri": "https://localhost:8080/",
          "height": 573
        }
      },
      "source": [
        "acc = history.history['accuracy']\n",
        "val_acc = history.history['val_accuracy']\n",
        "loss = history.history['loss']\n",
        "val_loss = history.history['val_loss']\n",
        "\n",
        "epochs = range(len(acc))\n",
        "\n",
        "plt.plot(epochs, acc, 'r', label='Training accuracy')\n",
        "plt.plot(epochs, val_acc, 'b', label='Validation accuracy')\n",
        "plt.title('Training and validation accuracy')\n",
        "plt.xlabel('Epoch')\n",
        "plt.ylabel('Accuracy')\n",
        "plt.legend()\n",
        "plt.figure()\n",
        "\n",
        "plt.plot(epochs, loss, 'r', label='Training Loss')\n",
        "plt.plot(epochs, val_loss, 'b', label='Validation Loss')\n",
        "plt.title('Training and validation loss')\n",
        "plt.xlabel('Epoch')\n",
        "plt.ylabel('Loss')\n",
        "plt.legend()\n",
        "\n",
        "plt.show()"
      ],
      "execution_count": null,
      "outputs": [
        {
          "output_type": "display_data",
          "data": {
            "image/png": "[encoded data removed]",
            "text/plain": [
              "<Figure size 432x288 with 1 Axes>"
            ]
          },
          "metadata": {
            "tags": []
          }
        },
        {
          "output_type": "display_data",
          "data": {
            "image/png": "[encoded data removed]",
            "text/plain": [
              "<Figure size 432x288 with 1 Axes>"
            ]
          },
          "metadata": {
            "tags": []
          }
        }
      ]
    },
    {
      "cell_type": "markdown",
      "metadata": {
        "id": "eKbjNb0dOBTY"
      },
      "source": [
        "## Test model with Test Data"
      ]
    },
    {
      "cell_type": "markdown",
      "metadata": {
        "id": "L51TdZQJOG7R"
      },
      "source": [
        "**1. Assign label in test data to new variable**"
      ]
    },
    {
      "cell_type": "code",
      "metadata": {
        "id": "qo_FsXsIOiuf"
      },
      "source": [
        "test_labels = test['label']"
      ],
      "execution_count": null,
      "outputs": []
    },
    {
      "cell_type": "markdown",
      "metadata": {
        "id": "wFeFIvxSOmA6"
      },
      "source": [
        "**2. Drop label column to make input data as feature**"
      ]
    },
    {
      "cell_type": "code",
      "metadata": {
        "id": "5zZcRzXWOlRu"
      },
      "source": [
        "test.drop('label', axis = 1, inplace = True)"
      ],
      "execution_count": null,
      "outputs": []
    },
    {
      "cell_type": "markdown",
      "metadata": {
        "id": "_j5OKeuWOxVG"
      },
      "source": [
        "**3. Change feature variable from column to image format**\n",
        "\n",
        "We need to change the dataset format from column pixel value to 2D array image because we will use CNN."
      ]
    },
    {
      "cell_type": "code",
      "metadata": {
        "id": "cb-c2TJ3PBJP"
      },
      "source": [
        "test_images = test.values\n",
        "test_images = np.array([np.reshape(i, (28, 28)) for i in test_images])\n",
        "test_images = np.array([i.flatten() for i in test_images])"
      ],
      "execution_count": null,
      "outputs": []
    },
    {
      "cell_type": "markdown",
      "metadata": {
        "id": "F_n8iPJROuxO"
      },
      "source": [
        "**4. Transform label format to categorical**\n",
        "\n",
        "Since our target variable are in categorical(nomial) so we are using label binarizer"
      ]
    },
    {
      "cell_type": "code",
      "metadata": {
        "id": "a4kxg_6EPEwd"
      },
      "source": [
        "test_labels = label_binrizer.fit_transform(test_labels)"
      ],
      "execution_count": null,
      "outputs": []
    },
    {
      "cell_type": "markdown",
      "metadata": {
        "id": "C_wz88F0PQ0N"
      },
      "source": [
        "**5. Reshape our rows as square tables for Input in CNN Method**"
      ]
    },
    {
      "cell_type": "code",
      "metadata": {
        "id": "_zcR4maJPKye"
      },
      "source": [
        "test_images = test_images.reshape(test_images.shape[0], 28, 28, 1)"
      ],
      "execution_count": null,
      "outputs": []
    },
    {
      "cell_type": "markdown",
      "metadata": {
        "id": "rJm5CeaNPUdY"
      },
      "source": [
        "**6. Predict the Test data using model pre-trained**"
      ]
    },
    {
      "cell_type": "code",
      "metadata": {
        "id": "9Osql4F7Pehf"
      },
      "source": [
        "y_pred = classifier.predict(test_images)"
      ],
      "execution_count": null,
      "outputs": []
    },
    {
      "cell_type": "markdown",
      "metadata": {
        "id": "Cl9fNcVrPlxA"
      },
      "source": [
        "**7. Calculate the accuracy**"
      ]
    },
    {
      "cell_type": "code",
      "metadata": {
        "id": "aj1XwCIXPr7n",
        "outputId": "5c7311ae-56a6-4134-bcbe-dfb4d3a3b026",
        "colab": {
          "base_uri": "https://localhost:8080/",
          "height": 34
        }
      },
      "source": [
        "accuracy = accuracy_score(test_labels, y_pred.round())\n",
        "print(\"Accuracy Test Data = {:0.2f} %\".format(accuracy*100))"
      ],
      "execution_count": null,
      "outputs": [
        {
          "output_type": "stream",
          "text": [
            "Accuracy Test Data = 97.49 %\n"
          ],
          "name": "stdout"
        }
      ]
    },
    {
      "cell_type": "markdown",
      "metadata": {
        "id": "EFUq9hIGPxoc"
      },
      "source": [
        "**8. Save model pre-trained**"
      ]
    },
    {
      "cell_type": "code",
      "metadata": {
        "id": "n6LQ-tbLP3QD"
      },
      "source": [
        "classifier.save('mode_sign_v1.h5')"
      ],
      "execution_count": null,
      "outputs": []
    }
  ]
}